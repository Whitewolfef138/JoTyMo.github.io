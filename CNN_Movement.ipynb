{
 "cells": [
  {
   "cell_type": "code",
   "execution_count": 1,
   "metadata": {},
   "outputs": [],
   "source": [
    "import pandas as pd\n",
    "import numpy as np\n",
    "import matplotlib.pyplot as plt\n",
    "from skimage.io import imread\n",
    "from skimage.color import rgb2gray\n",
    "from skimage.transform import resize\n",
    "import matplotlib as mpl  \n",
    "mpl.rc('font',family='Times New Roman')"
   ]
  },
  {
   "cell_type": "code",
   "execution_count": 2,
   "metadata": {},
   "outputs": [],
   "source": [
    "df = pd.read_excel(\"data_set_label.xlsx\")\n",
    "x = []\n",
    "\n",
    "for i in range(1 , 51, 1):\n",
    "    for j in range(1, 51 , 1):\n",
    "        if(df['Group'][i-1] == df[\"Group\"][j-1] and i!=j):\n",
    "            file_name = str(i)+\"-\"+str(j)+\".png\"\n",
    "            img = imread(file_name)\n",
    "            if(i == 1 and j==2 ):\n",
    "                img= np.split(img , indices_or_sections=2 , axis=1)\n",
    "                x =  img\n",
    "            else:\n",
    "                img = np.split(img , indices_or_sections=2 , axis=1)\n",
    "                x = np.append(x , img , axis = 0)\n",
    "for i in range(101 , 151 , 1):\n",
    "    for j in range(101, 151 , 1):\n",
    "        if(df['Group'][i-1] == df[\"Group\"][j-1] and i!=j):\n",
    "            file_name = str(i)+\"-\"+str(j)+\".png\"\n",
    "            img = imread(file_name)\n",
    "            img = np.split(img , indices_or_sections=2 , axis=1)\n",
    "            x = np.append(x , img, axis=0)\n",
    "for i in range(151 , 201 , 1):\n",
    "    for j in range(151, 201 , 1):\n",
    "        if(df['Group'][i-1] == df[\"Group\"][j-1] and i!=j):\n",
    "            file_name = str(i)+\"-\"+str(j)+\".png\"\n",
    "            img = imread(file_name)\n",
    "            img = np.split(img , indices_or_sections=2 , axis=1)\n",
    "            x = np.append(x , img  , axis=0)\n",
    "del df"
   ]
  },
  {
   "cell_type": "code",
   "execution_count": 3,
   "metadata": {},
   "outputs": [],
   "source": [
    "df_pp = pd.read_csv(\"pp_modeling.csv\")\n",
    "label_0 = np.asarray(df_pp['label_0'])\n",
    "label_1 = np.asarray(df_pp['label_1'])\n",
    "label_2 = np.asarray(df_pp['label_2'])\n",
    "label_3 = np.asarray(df_pp['label_3'])\n",
    "\n",
    "y_pp = np.zeros((200 , 4 ))\n",
    "for i in range(200):\n",
    "    l = np.zeros((4))\n",
    "    l[0]=  label_0[i]\n",
    "    l[1]=  label_1[i]\n",
    "    l[2]=  label_2[i]\n",
    "    l[3]=  label_3[i]\n",
    "    y_pp[i] = l\n",
    "\n",
    "df_p = pd.read_csv(\"p_modeling.csv\")\n",
    "label_0 = np.asarray(df_p['label_0'])\n",
    "label_1 = np.asarray(df_p['label_1'])\n",
    "label_2 = np.asarray(df_p['label_2'])\n",
    "label_3 = np.asarray(df_p['label_3'])\n",
    "\n",
    "y_p = np.zeros((200 , 4 ))\n",
    "for i in range(200):\n",
    "    l = np.zeros((4))\n",
    "    l[0]=  label_0[i]\n",
    "    l[1]=  label_1[i]\n",
    "    l[2]=  label_2[i]\n",
    "    l[3]=  label_3[i]\n",
    "    y_p[i] = l\n",
    "\n",
    "df_r = pd.read_csv(\"r_modeling.csv\")\n",
    "label_0 = np.asarray(df_r['label_0'])\n",
    "label_1 = np.asarray(df_r['label_1'])\n",
    "label_2 = np.asarray(df_r['label_2'])\n",
    "label_3 = np.asarray(df_r['label_3'])\n",
    "\n",
    "y_r = np.zeros((200 , 4 ))\n",
    "for i in range(200):\n",
    "    l = np.zeros((4))\n",
    "    l[0]=  label_0[i]\n",
    "    l[1]=  label_1[i]\n",
    "    l[2]=  label_2[i]\n",
    "    l[3]=  label_3[i]\n",
    "    y_r[i] = l\n",
    "\n",
    "\n",
    "y = np.append(y_pp , y_p)\n",
    "y = np.append(y , y_r)"
   ]
  },
  {
   "cell_type": "code",
   "execution_count": 4,
   "metadata": {},
   "outputs": [
    {
     "data": {
      "text/plain": [
       "(600, 2, 224, 224, 4)"
      ]
     },
     "execution_count": 4,
     "metadata": {},
     "output_type": "execute_result"
    }
   ],
   "source": [
    "m = x.reshape(600 , 2 , 224 , 224 , 4)\n",
    "m.shape"
   ]
  },
  {
   "cell_type": "code",
   "execution_count": 5,
   "metadata": {},
   "outputs": [
    {
     "data": {
      "text/plain": [
       "(600, 4)"
      ]
     },
     "execution_count": 5,
     "metadata": {},
     "output_type": "execute_result"
    }
   ],
   "source": [
    "y = y.reshape(-1 , 4)\n",
    "y.shape"
   ]
  },
  {
   "cell_type": "code",
   "execution_count": 6,
   "metadata": {},
   "outputs": [],
   "source": [
    "from keras.preprocessing.image import ImageDataGenerator\n",
    "\n",
    "gen = ImageDataGenerator(\n",
    "    vertical_flip= True , horizontal_flip=True\n",
    ")"
   ]
  },
  {
   "cell_type": "code",
   "execution_count": 7,
   "metadata": {},
   "outputs": [],
   "source": [
    "mm = np.zeros((600 , 224 , 224 , 3))\n",
    "j = 0\n",
    "for i in m:\n",
    "    mm[j] = resize(i[0]-i[1] , (224 , 224 , 3))\n",
    "    j = j+1"
   ]
  },
  {
   "cell_type": "markdown",
   "metadata": {},
   "source": [
    "## Training for push P joints"
   ]
  },
  {
   "cell_type": "code",
   "execution_count": 8,
   "metadata": {},
   "outputs": [],
   "source": [
    "from sklearn.model_selection import train_test_split\n",
    "\n",
    "x_train , x_test , y_train , y_test = train_test_split(mm[0:199] , y[0:199]/1000 , test_size=0.1 ,random_state=5)"
   ]
  },
  {
   "cell_type": "code",
   "execution_count": 9,
   "metadata": {},
   "outputs": [],
   "source": [
    "import tensorflow as tf"
   ]
  },
  {
   "cell_type": "code",
   "execution_count": 10,
   "metadata": {},
   "outputs": [
    {
     "name": "stderr",
     "output_type": "stream",
     "text": [
      "2023-09-26 12:18:41.726312: I tensorflow/core/common_runtime/pluggable_device/pluggable_device_factory.cc:303] Could not identify NUMA node of platform GPU ID 0, defaulting to 0. Your kernel may not have been built with NUMA support.\n",
      "2023-09-26 12:18:41.726731: I tensorflow/core/common_runtime/pluggable_device/pluggable_device_factory.cc:269] Created TensorFlow device (/job:localhost/replica:0/task:0/device:GPU:0 with 0 MB memory) -> physical PluggableDevice (device: 0, name: METAL, pci bus id: <undefined>)\n"
     ]
    },
    {
     "name": "stdout",
     "output_type": "stream",
     "text": [
      "Metal device set to: Apple M2 Pro\n",
      "\n",
      "systemMemory: 16.00 GB\n",
      "maxCacheSize: 5.33 GB\n",
      "\n"
     ]
    },
    {
     "name": "stderr",
     "output_type": "stream",
     "text": [
      "WARNING:absl:At this time, the v2.11+ optimizer `tf.keras.optimizers.RMSprop` runs slowly on M1/M2 Macs, please use the legacy Keras optimizer instead, located at `tf.keras.optimizers.legacy.RMSprop`.\n",
      "WARNING:absl:There is a known slowdown when using v2.11+ Keras optimizers on M1/M2 Macs. Falling back to the legacy Keras optimizer, i.e., `tf.keras.optimizers.legacy.RMSprop`.\n"
     ]
    },
    {
     "name": "stdout",
     "output_type": "stream",
     "text": [
      "Model: \"model\"\n",
      "__________________________________________________________________________________________________\n",
      " Layer (type)                Output Shape                 Param #   Connected to                  \n",
      "==================================================================================================\n",
      " input (InputLayer)          [(None, 224, 224, 3)]        0         []                            \n",
      "                                                                                                  \n",
      " conv2d (Conv2D)             (None, 222, 222, 128)        3584      ['input[0][0]']               \n",
      "                                                                                                  \n",
      " dropout (Dropout)           (None, 222, 222, 128)        0         ['conv2d[0][0]']              \n",
      "                                                                                                  \n",
      " conv2d_1 (Conv2D)           (None, 220, 220, 128)        147584    ['dropout[0][0]']             \n",
      "                                                                                                  \n",
      " batch_normalization (Batch  (None, 220, 220, 128)        512       ['conv2d_1[0][0]']            \n",
      " Normalization)                                                                                   \n",
      "                                                                                                  \n",
      " max_pooling2d (MaxPooling2  (None, 110, 110, 128)        0         ['batch_normalization[0][0]'] \n",
      " D)                                                                                               \n",
      "                                                                                                  \n",
      " conv2d_2 (Conv2D)           (None, 108, 108, 96)         110688    ['max_pooling2d[0][0]']       \n",
      "                                                                                                  \n",
      " dropout_1 (Dropout)         (None, 108, 108, 96)         0         ['conv2d_2[0][0]']            \n",
      "                                                                                                  \n",
      " conv2d_3 (Conv2D)           (None, 106, 106, 96)         83040     ['dropout_1[0][0]']           \n",
      "                                                                                                  \n",
      " batch_normalization_1 (Bat  (None, 106, 106, 96)         384       ['conv2d_3[0][0]']            \n",
      " chNormalization)                                                                                 \n",
      "                                                                                                  \n",
      " max_pooling2d_1 (MaxPoolin  (None, 53, 53, 96)           0         ['batch_normalization_1[0][0]'\n",
      " g2D)                                                               ]                             \n",
      "                                                                                                  \n",
      " conv2d_4 (Conv2D)           (None, 51, 51, 64)           55360     ['max_pooling2d_1[0][0]']     \n",
      "                                                                                                  \n",
      " dropout_2 (Dropout)         (None, 51, 51, 64)           0         ['conv2d_4[0][0]']            \n",
      "                                                                                                  \n",
      " conv2d_5 (Conv2D)           (None, 49, 49, 64)           36928     ['dropout_2[0][0]']           \n",
      "                                                                                                  \n",
      " batch_normalization_2 (Bat  (None, 49, 49, 64)           256       ['conv2d_5[0][0]']            \n",
      " chNormalization)                                                                                 \n",
      "                                                                                                  \n",
      " max_pooling2d_2 (MaxPoolin  (None, 24, 24, 64)           0         ['batch_normalization_2[0][0]'\n",
      " g2D)                                                               ]                             \n",
      "                                                                                                  \n",
      " conv2d_6 (Conv2D)           (None, 22, 22, 64)           36928     ['max_pooling2d_2[0][0]']     \n",
      "                                                                                                  \n",
      " dropout_3 (Dropout)         (None, 22, 22, 64)           0         ['conv2d_6[0][0]']            \n",
      "                                                                                                  \n",
      " conv2d_7 (Conv2D)           (None, 20, 20, 64)           36928     ['dropout_3[0][0]']           \n",
      "                                                                                                  \n",
      " batch_normalization_3 (Bat  (None, 20, 20, 64)           256       ['conv2d_7[0][0]']            \n",
      " chNormalization)                                                                                 \n",
      "                                                                                                  \n",
      " max_pooling2d_3 (MaxPoolin  (None, 10, 10, 64)           0         ['batch_normalization_3[0][0]'\n",
      " g2D)                                                               ]                             \n",
      "                                                                                                  \n",
      " conv2d_8 (Conv2D)           (None, 8, 8, 32)             18464     ['max_pooling2d_3[0][0]']     \n",
      "                                                                                                  \n",
      " dropout_4 (Dropout)         (None, 8, 8, 32)             0         ['conv2d_8[0][0]']            \n",
      "                                                                                                  \n",
      " conv2d_9 (Conv2D)           (None, 6, 6, 32)             9248      ['dropout_4[0][0]']           \n",
      "                                                                                                  \n",
      " batch_normalization_4 (Bat  (None, 6, 6, 32)             128       ['conv2d_9[0][0]']            \n",
      " chNormalization)                                                                                 \n",
      "                                                                                                  \n",
      " max_pooling2d_4 (MaxPoolin  (None, 3, 3, 32)             0         ['batch_normalization_4[0][0]'\n",
      " g2D)                                                               ]                             \n",
      "                                                                                                  \n",
      " flatten (Flatten)           (None, 288)                  0         ['max_pooling2d_4[0][0]']     \n",
      "                                                                                                  \n",
      " dense (Dense)               (None, 32)                   9248      ['flatten[0][0]']             \n",
      "                                                                                                  \n",
      " dense_1 (Dense)             (None, 32)                   9248      ['flatten[0][0]']             \n",
      "                                                                                                  \n",
      " dense_2 (Dense)             (None, 32)                   9248      ['flatten[0][0]']             \n",
      "                                                                                                  \n",
      " dense_3 (Dense)             (None, 32)                   9248      ['flatten[0][0]']             \n",
      "                                                                                                  \n",
      " dropout_5 (Dropout)         (None, 32)                   0         ['dense[0][0]']               \n",
      "                                                                                                  \n",
      " dropout_6 (Dropout)         (None, 32)                   0         ['dense_1[0][0]']             \n",
      "                                                                                                  \n",
      " dropout_7 (Dropout)         (None, 32)                   0         ['dense_2[0][0]']             \n",
      "                                                                                                  \n",
      " dropout_8 (Dropout)         (None, 32)                   0         ['dense_3[0][0]']             \n",
      "                                                                                                  \n",
      " dense_4 (Dense)             (None, 1)                    33        ['dropout_5[0][0]']           \n",
      "                                                                                                  \n",
      " dense_5 (Dense)             (None, 1)                    33        ['dropout_6[0][0]']           \n",
      "                                                                                                  \n",
      " dense_6 (Dense)             (None, 1)                    33        ['dropout_7[0][0]']           \n",
      "                                                                                                  \n",
      " dense_7 (Dense)             (None, 1)                    33        ['dropout_8[0][0]']           \n",
      "                                                                                                  \n",
      "==================================================================================================\n",
      "Total params: 577412 (2.20 MB)\n",
      "Trainable params: 576644 (2.20 MB)\n",
      "Non-trainable params: 768 (3.00 KB)\n",
      "__________________________________________________________________________________________________\n"
     ]
    }
   ],
   "source": [
    "import keras\n",
    "from keras.models import Model\n",
    "from keras.layers import Input, Conv2D, MaxPooling2D, Flatten, Dense, Concatenate , Dropout , BatchNormalization\n",
    "from keras.regularizers import L1L2\n",
    "\n",
    "# Define the input shape for the images\n",
    "input_shape = (224, 224, 3)\n",
    "\n",
    "input = Input(shape=input_shape, name='input')\n",
    "\n",
    "\n",
    "\n",
    "\n",
    "x = Conv2D(128, kernel_size=(3 , 3) , activation=\"relu\" , kernel_regularizer=L1L2(l1= 0.001 , l2 = 0.001) )(input)\n",
    "x= Dropout(0.1)(x)\n",
    "x = Conv2D(128, kernel_size=(3 , 3) , activation=\"relu\" , kernel_regularizer=L1L2(l1= 0.001 , l2 = 0.001) )(x)\n",
    "x = BatchNormalization()(x)\n",
    "x = MaxPooling2D()(x)\n",
    "\n",
    "# batchnormalization befoe concate\n",
    "\n",
    "#concate two inputs\n",
    "# before flatten, we do another layer of convolutions\n",
    "\n",
    "x = Conv2D(96, kernel_size=(3 , 3) , activation='relu' )(x)\n",
    "x = Dropout(0.1)(x)\n",
    "x = Conv2D(96, kernel_size=(3 , 3) , activation='relu')(x)\n",
    "x = BatchNormalization()(x)\n",
    "x = MaxPooling2D()(x)\n",
    "\n",
    "x = Conv2D(64, kernel_size=(3 , 3) , activation='relu' )(x)\n",
    "x = Dropout(0.1)(x)\n",
    "x = Conv2D(64, kernel_size=(3 , 3) , activation='relu' )(x)\n",
    "x = BatchNormalization()(x)\n",
    "x = MaxPooling2D()(x)\n",
    "\n",
    "x = Conv2D(64, kernel_size=(3 , 3) , activation='relu'  )(x)\n",
    "x = Dropout(0.1)(x)\n",
    "x = Conv2D(64, kernel_size=(3 , 3) , activation='relu' )(x)\n",
    "x = BatchNormalization()(x)\n",
    "x = MaxPooling2D()(x)\n",
    "\n",
    "x = Conv2D(32, kernel_size=(3 , 3) , activation='relu' )(x)\n",
    "x = Dropout(0.1)(x)\n",
    "x = Conv2D(32 ,  kernel_size=(3 , 3) , activation='relu' )(x)\n",
    "x = BatchNormalization()(x)\n",
    "x = MaxPooling2D()(x)\n",
    "#flatting\n",
    "\n",
    "x = Flatten()(x)\n",
    "\n",
    "\n",
    "output_1 = Dense(32 , activation='relu')(x)\n",
    "output_2 = Dense(32 , activation='relu')(x)\n",
    "output_3 = Dense(32 , activation='relu')(x)\n",
    "output_4 = Dense(32 , activation='relu')(x)\n",
    "\n",
    "\n",
    "output_1 = Dropout(0.1)(output_1)\n",
    "output_2 = Dropout(0.1)(output_2)\n",
    "output_3 = Dropout(0.1)(output_3)\n",
    "output_4 = Dropout(0.1)(output_4)\n",
    "\n",
    "\n",
    "output_1 = Dense(1 ,activation = 'linear' , kernel_regularizer=L1L2(l1= 0.001 , l2 = 0.001))(output_1 )\n",
    "output_2 = Dense(1 , activation = 'linear', kernel_regularizer=L1L2(l1= 0.001 , l2 = 0.001))(output_2 )\n",
    "output_3 = Dense(1, activation = 'linear' , kernel_regularizer=L1L2(l1= 0.001 , l2 = 0.001))(output_3 )\n",
    "output_4 = Dense(1 , activation = 'linear' , kernel_regularizer=L1L2(l1= 0.001 , l2 = 0.001))(output_4)\n",
    "\n",
    "# Create the model with the two inputs and one output\n",
    "model = Model(inputs = input, outputs=[output_1 ,output_2 , output_3 ,  output_4])\n",
    "\n",
    "# Compile the model with an optimizer, a loss function and a metric\n",
    "model.compile(optimizer=keras.optimizers.RMSprop(), loss=keras.losses.huber, metrics=[keras.metrics.mse] )\n",
    "\n",
    "# Print the model summary\n",
    "model.summary()\n"
   ]
  },
  {
   "cell_type": "code",
   "execution_count": 11,
   "metadata": {},
   "outputs": [
    {
     "data": {
      "text/plain": [
       "(179, 4)"
      ]
     },
     "execution_count": 11,
     "metadata": {},
     "output_type": "execute_result"
    }
   ],
   "source": [
    "y_train.shape"
   ]
  },
  {
   "cell_type": "code",
   "execution_count": 12,
   "metadata": {},
   "outputs": [],
   "source": [
    "y_1_train, y_2_train , y_3_train , y_4_train = tf.split(y_train, num_or_size_splits=4, axis=1)\n",
    "\n",
    "y_1_test, y_2_test , y_3_test , y_4_test = tf.split(y_test, num_or_size_splits=4, axis=1)\n"
   ]
  },
  {
   "cell_type": "code",
   "execution_count": 13,
   "metadata": {},
   "outputs": [
    {
     "data": {
      "text/plain": [
       "array([0.105, 0.15 , 0.13 , 0.153])"
      ]
     },
     "execution_count": 13,
     "metadata": {},
     "output_type": "execute_result"
    }
   ],
   "source": [
    "y_test[0]"
   ]
  },
  {
   "cell_type": "code",
   "execution_count": 14,
   "metadata": {},
   "outputs": [],
   "source": [
    "y_1_train.set_shape((len(y_1_train) ,1))\n",
    "y_2_train.set_shape((len(y_1_train) ,1))\n",
    "y_3_train.set_shape((len(y_1_train) ,1))\n",
    "y_4_train.set_shape((len(y_1_train)  ,1))\n",
    "\n",
    "y_1_test.set_shape((len(y_1_test)  ,1))\n",
    "y_2_test.set_shape((len(y_1_test) ,1))\n",
    "y_3_test.set_shape((len(y_1_test) ,1))\n",
    "y_4_test.set_shape((len(y_1_test)  ,1))"
   ]
  },
  {
   "cell_type": "code",
   "execution_count": 15,
   "metadata": {},
   "outputs": [],
   "source": [
    "y_train_n = np.append(y_1_train , y_2_train ,axis=1)\n",
    "y_train_n = np.append(y_train_n , y_3_train ,axis=1)\n",
    "y_train_n = np.append(y_train_n , y_4_train ,axis=1)\n",
    "\n",
    "y_test_n = np.append(y_1_test , y_2_test ,axis=1)\n",
    "y_test_n = np.append(y_test_n , y_3_test ,axis=1)\n",
    "y_test_n = np.append(y_test_n , y_4_test ,axis=1)"
   ]
  },
  {
   "cell_type": "code",
   "execution_count": 16,
   "metadata": {},
   "outputs": [
    {
     "data": {
      "text/plain": [
       "<tf.Tensor: shape=(1,), dtype=float64, numpy=array([0.054])>"
      ]
     },
     "execution_count": 16,
     "metadata": {},
     "output_type": "execute_result"
    }
   ],
   "source": [
    "y_1_train[0]"
   ]
  },
  {
   "cell_type": "code",
   "execution_count": 17,
   "metadata": {},
   "outputs": [],
   "source": [
    "y_train_n = y_train_n.reshape(len(y_train_n) , 4)\n",
    "y_test_n = y_test_n.reshape(len(y_test_n) , 4)"
   ]
  },
  {
   "cell_type": "code",
   "execution_count": 18,
   "metadata": {},
   "outputs": [],
   "source": [
    "from sklearn.metrics import mean_pinball_loss , d2_pinball_score , explained_variance_score , r2_score\n",
    "\n"
   ]
  },
  {
   "cell_type": "code",
   "execution_count": 19,
   "metadata": {},
   "outputs": [
    {
     "name": "stdout",
     "output_type": "stream",
     "text": [
      "Epoch 1/70\n"
     ]
    },
    {
     "name": "stderr",
     "output_type": "stream",
     "text": [
      "2023-09-26 12:20:34.411421: I tensorflow/core/grappler/optimizers/custom_graph_optimizer_registry.cc:114] Plugin optimizer for device_type GPU is enabled.\n"
     ]
    },
    {
     "name": "stdout",
     "output_type": "stream",
     "text": [
      "17/17 [==============================] - ETA: 0s - loss: 6.1695 - dense_4_loss: 0.4462 - dense_5_loss: 0.2389 - dense_6_loss: 0.7212 - dense_7_loss: 0.7873 - dense_4_mean_squared_error: 1.1775 - dense_5_mean_squared_error: 0.6577 - dense_6_mean_squared_error: 2.2506 - dense_7_mean_squared_error: 2.6996"
     ]
    },
    {
     "name": "stderr",
     "output_type": "stream",
     "text": [
      "2023-09-26 12:20:42.703218: I tensorflow/core/grappler/optimizers/custom_graph_optimizer_registry.cc:114] Plugin optimizer for device_type GPU is enabled.\n"
     ]
    },
    {
     "name": "stdout",
     "output_type": "stream",
     "text": [
      "17/17 [==============================] - 10s 259ms/step - loss: 6.1695 - dense_4_loss: 0.4462 - dense_5_loss: 0.2389 - dense_6_loss: 0.7212 - dense_7_loss: 0.7873 - dense_4_mean_squared_error: 1.1775 - dense_5_mean_squared_error: 0.6577 - dense_6_mean_squared_error: 2.2506 - dense_7_mean_squared_error: 2.6996 - val_loss: 3.8802 - val_dense_4_loss: 0.0018 - val_dense_5_loss: 0.0064 - val_dense_6_loss: 0.0073 - val_dense_7_loss: 0.0099 - val_dense_4_mean_squared_error: 0.0035 - val_dense_5_mean_squared_error: 0.0128 - val_dense_6_mean_squared_error: 0.0146 - val_dense_7_mean_squared_error: 0.0198\n",
      "Epoch 2/70\n",
      "17/17 [==============================] - 6s 231ms/step - loss: 4.4474 - dense_4_loss: 0.1480 - dense_5_loss: 0.0701 - dense_6_loss: 0.2326 - dense_7_loss: 0.2919 - dense_4_mean_squared_error: 0.3175 - dense_5_mean_squared_error: 0.1512 - dense_6_mean_squared_error: 0.6233 - dense_7_mean_squared_error: 0.7398 - val_loss: 3.5650 - val_dense_4_loss: 0.0027 - val_dense_5_loss: 0.0208 - val_dense_6_loss: 0.0080 - val_dense_7_loss: 0.0236 - val_dense_4_mean_squared_error: 0.0053 - val_dense_5_mean_squared_error: 0.0416 - val_dense_6_mean_squared_error: 0.0161 - val_dense_7_mean_squared_error: 0.0472\n",
      "Epoch 3/70\n",
      "17/17 [==============================] - 4s 222ms/step - loss: 3.7231 - dense_4_loss: 0.0719 - dense_5_loss: 0.0327 - dense_6_loss: 0.1569 - dense_7_loss: 0.1839 - dense_4_mean_squared_error: 0.1487 - dense_5_mean_squared_error: 0.0654 - dense_6_mean_squared_error: 0.3627 - dense_7_mean_squared_error: 0.3947 - val_loss: 3.0703 - val_dense_4_loss: 0.0013 - val_dense_5_loss: 0.0283 - val_dense_6_loss: 0.0112 - val_dense_7_loss: 0.0460 - val_dense_4_mean_squared_error: 0.0025 - val_dense_5_mean_squared_error: 0.0567 - val_dense_6_mean_squared_error: 0.0223 - val_dense_7_mean_squared_error: 0.0919\n",
      "Epoch 4/70\n",
      "17/17 [==============================] - 4s 216ms/step - loss: 2.8812 - dense_4_loss: 0.0618 - dense_5_loss: 0.0243 - dense_6_loss: 0.0552 - dense_7_loss: 0.0820 - dense_4_mean_squared_error: 0.1271 - dense_5_mean_squared_error: 0.0486 - dense_6_mean_squared_error: 0.1141 - dense_7_mean_squared_error: 0.1669 - val_loss: 2.3741 - val_dense_4_loss: 0.0074 - val_dense_5_loss: 0.0438 - val_dense_6_loss: 8.2335e-04 - val_dense_7_loss: 0.0582 - val_dense_4_mean_squared_error: 0.0147 - val_dense_5_mean_squared_error: 0.0876 - val_dense_6_mean_squared_error: 0.0016 - val_dense_7_mean_squared_error: 0.1163\n",
      "Epoch 5/70\n",
      "17/17 [==============================] - 4s 215ms/step - loss: 2.1833 - dense_4_loss: 0.0444 - dense_5_loss: 0.0212 - dense_6_loss: 0.1048 - dense_7_loss: 0.1185 - dense_4_mean_squared_error: 0.0888 - dense_5_mean_squared_error: 0.0423 - dense_6_mean_squared_error: 0.2295 - dense_7_mean_squared_error: 0.2451 - val_loss: 1.5888 - val_dense_4_loss: 0.0067 - val_dense_5_loss: 0.0274 - val_dense_6_loss: 0.0048 - val_dense_7_loss: 0.0713 - val_dense_4_mean_squared_error: 0.0135 - val_dense_5_mean_squared_error: 0.0549 - val_dense_6_mean_squared_error: 0.0095 - val_dense_7_mean_squared_error: 0.1427\n",
      "Epoch 6/70\n",
      "17/17 [==============================] - 4s 215ms/step - loss: 1.2394 - dense_4_loss: 0.0295 - dense_5_loss: 0.0069 - dense_6_loss: 0.0198 - dense_7_loss: 0.0473 - dense_4_mean_squared_error: 0.0590 - dense_5_mean_squared_error: 0.0137 - dense_6_mean_squared_error: 0.0397 - dense_7_mean_squared_error: 0.0947 - val_loss: 0.9175 - val_dense_4_loss: 0.0284 - val_dense_5_loss: 0.0421 - val_dense_6_loss: 0.0070 - val_dense_7_loss: 0.0574 - val_dense_4_mean_squared_error: 0.0568 - val_dense_5_mean_squared_error: 0.0842 - val_dense_6_mean_squared_error: 0.0139 - val_dense_7_mean_squared_error: 0.1147\n",
      "Epoch 7/70\n",
      "17/17 [==============================] - 4s 216ms/step - loss: 0.6622 - dense_4_loss: 0.0216 - dense_5_loss: 0.0072 - dense_6_loss: 0.0257 - dense_7_loss: 0.0410 - dense_4_mean_squared_error: 0.0433 - dense_5_mean_squared_error: 0.0145 - dense_6_mean_squared_error: 0.0515 - dense_7_mean_squared_error: 0.0844 - val_loss: 0.4970 - val_dense_4_loss: 0.0100 - val_dense_5_loss: 0.0435 - val_dense_6_loss: 0.0121 - val_dense_7_loss: 0.0536 - val_dense_4_mean_squared_error: 0.0199 - val_dense_5_mean_squared_error: 0.0869 - val_dense_6_mean_squared_error: 0.0242 - val_dense_7_mean_squared_error: 0.1072\n",
      "Epoch 8/70\n",
      "17/17 [==============================] - 4s 213ms/step - loss: 0.3652 - dense_4_loss: 0.0245 - dense_5_loss: 0.0064 - dense_6_loss: 0.0146 - dense_7_loss: 0.0340 - dense_4_mean_squared_error: 0.0490 - dense_5_mean_squared_error: 0.0129 - dense_6_mean_squared_error: 0.0293 - dense_7_mean_squared_error: 0.0679 - val_loss: 0.2461 - val_dense_4_loss: 5.4049e-04 - val_dense_5_loss: 0.0308 - val_dense_6_loss: 5.9010e-04 - val_dense_7_loss: 0.0152 - val_dense_4_mean_squared_error: 0.0011 - val_dense_5_mean_squared_error: 0.0617 - val_dense_6_mean_squared_error: 0.0012 - val_dense_7_mean_squared_error: 0.0303\n",
      "Epoch 9/70\n",
      "17/17 [==============================] - 4s 216ms/step - loss: 0.2095 - dense_4_loss: 0.0122 - dense_5_loss: 0.0020 - dense_6_loss: 0.0086 - dense_7_loss: 0.0196 - dense_4_mean_squared_error: 0.0243 - dense_5_mean_squared_error: 0.0041 - dense_6_mean_squared_error: 0.0172 - dense_7_mean_squared_error: 0.0393 - val_loss: 0.1719 - val_dense_4_loss: 0.0080 - val_dense_5_loss: 0.0093 - val_dense_6_loss: 0.0021 - val_dense_7_loss: 0.0164 - val_dense_4_mean_squared_error: 0.0160 - val_dense_5_mean_squared_error: 0.0185 - val_dense_6_mean_squared_error: 0.0042 - val_dense_7_mean_squared_error: 0.0329\n",
      "Epoch 10/70\n",
      "17/17 [==============================] - 4s 214ms/step - loss: 0.1586 - dense_4_loss: 0.0144 - dense_5_loss: 0.0015 - dense_6_loss: 0.0067 - dense_7_loss: 0.0079 - dense_4_mean_squared_error: 0.0288 - dense_5_mean_squared_error: 0.0029 - dense_6_mean_squared_error: 0.0134 - dense_7_mean_squared_error: 0.0157 - val_loss: 0.1343 - val_dense_4_loss: 0.0012 - val_dense_5_loss: 0.0025 - val_dense_6_loss: 0.0040 - val_dense_7_loss: 0.0011 - val_dense_4_mean_squared_error: 0.0025 - val_dense_5_mean_squared_error: 0.0049 - val_dense_6_mean_squared_error: 0.0080 - val_dense_7_mean_squared_error: 0.0022\n",
      "Epoch 11/70\n",
      "17/17 [==============================] - 4s 212ms/step - loss: 0.1358 - dense_4_loss: 0.0094 - dense_5_loss: 0.0014 - dense_6_loss: 0.0050 - dense_7_loss: 0.0063 - dense_4_mean_squared_error: 0.0188 - dense_5_mean_squared_error: 0.0029 - dense_6_mean_squared_error: 0.0099 - dense_7_mean_squared_error: 0.0126 - val_loss: 0.1331 - val_dense_4_loss: 0.0062 - val_dense_5_loss: 8.4685e-04 - val_dense_6_loss: 0.0053 - val_dense_7_loss: 0.0136 - val_dense_4_mean_squared_error: 0.0124 - val_dense_5_mean_squared_error: 0.0017 - val_dense_6_mean_squared_error: 0.0106 - val_dense_7_mean_squared_error: 0.0272\n",
      "Epoch 12/70\n",
      "17/17 [==============================] - 4s 214ms/step - loss: 0.1375 - dense_4_loss: 0.0100 - dense_5_loss: 0.0010 - dense_6_loss: 0.0043 - dense_7_loss: 0.0144 - dense_4_mean_squared_error: 0.0199 - dense_5_mean_squared_error: 0.0021 - dense_6_mean_squared_error: 0.0086 - dense_7_mean_squared_error: 0.0321 - val_loss: 0.1187 - val_dense_4_loss: 0.0038 - val_dense_5_loss: 6.6357e-04 - val_dense_6_loss: 0.0041 - val_dense_7_loss: 0.0070 - val_dense_4_mean_squared_error: 0.0075 - val_dense_5_mean_squared_error: 0.0013 - val_dense_6_mean_squared_error: 0.0081 - val_dense_7_mean_squared_error: 0.0140\n",
      "Epoch 13/70\n",
      "17/17 [==============================] - 4s 214ms/step - loss: 0.1182 - dense_4_loss: 0.0058 - dense_5_loss: 8.7815e-04 - dense_6_loss: 0.0023 - dense_7_loss: 0.0065 - dense_4_mean_squared_error: 0.0116 - dense_5_mean_squared_error: 0.0018 - dense_6_mean_squared_error: 0.0045 - dense_7_mean_squared_error: 0.0130 - val_loss: 0.1106 - val_dense_4_loss: 0.0018 - val_dense_5_loss: 0.0014 - val_dense_6_loss: 0.0012 - val_dense_7_loss: 0.0049 - val_dense_4_mean_squared_error: 0.0036 - val_dense_5_mean_squared_error: 0.0028 - val_dense_6_mean_squared_error: 0.0023 - val_dense_7_mean_squared_error: 0.0098\n",
      "Epoch 14/70\n",
      "17/17 [==============================] - 4s 215ms/step - loss: 0.1121 - dense_4_loss: 0.0068 - dense_5_loss: 7.4972e-04 - dense_6_loss: 0.0013 - dense_7_loss: 0.0026 - dense_4_mean_squared_error: 0.0135 - dense_5_mean_squared_error: 0.0015 - dense_6_mean_squared_error: 0.0025 - dense_7_mean_squared_error: 0.0052 - val_loss: 0.1175 - val_dense_4_loss: 0.0053 - val_dense_5_loss: 8.3260e-04 - val_dense_6_loss: 0.0019 - val_dense_7_loss: 0.0103 - val_dense_4_mean_squared_error: 0.0105 - val_dense_5_mean_squared_error: 0.0017 - val_dense_6_mean_squared_error: 0.0038 - val_dense_7_mean_squared_error: 0.0207\n",
      "Epoch 15/70\n",
      "17/17 [==============================] - 4s 214ms/step - loss: 0.1179 - dense_4_loss: 0.0078 - dense_5_loss: 7.4602e-04 - dense_6_loss: 0.0044 - dense_7_loss: 0.0043 - dense_4_mean_squared_error: 0.0156 - dense_5_mean_squared_error: 0.0015 - dense_6_mean_squared_error: 0.0089 - dense_7_mean_squared_error: 0.0087 - val_loss: 0.1096 - val_dense_4_loss: 0.0016 - val_dense_5_loss: 7.1767e-04 - val_dense_6_loss: 0.0015 - val_dense_7_loss: 0.0065 - val_dense_4_mean_squared_error: 0.0031 - val_dense_5_mean_squared_error: 0.0014 - val_dense_6_mean_squared_error: 0.0029 - val_dense_7_mean_squared_error: 0.0130\n",
      "Epoch 16/70\n",
      "17/17 [==============================] - 4s 214ms/step - loss: 0.1092 - dense_4_loss: 0.0062 - dense_5_loss: 6.3391e-04 - dense_6_loss: 0.0019 - dense_7_loss: 0.0026 - dense_4_mean_squared_error: 0.0124 - dense_5_mean_squared_error: 0.0013 - dense_6_mean_squared_error: 0.0037 - dense_7_mean_squared_error: 0.0053 - val_loss: 0.1103 - val_dense_4_loss: 9.2218e-04 - val_dense_5_loss: 5.6987e-04 - val_dense_6_loss: 0.0088 - val_dense_7_loss: 0.0036 - val_dense_4_mean_squared_error: 0.0018 - val_dense_5_mean_squared_error: 0.0011 - val_dense_6_mean_squared_error: 0.0175 - val_dense_7_mean_squared_error: 0.0072\n",
      "Epoch 17/70\n",
      "17/17 [==============================] - 4s 215ms/step - loss: 0.1047 - dense_4_loss: 0.0046 - dense_5_loss: 4.9001e-04 - dense_6_loss: 6.9112e-04 - dense_7_loss: 0.0028 - dense_4_mean_squared_error: 0.0091 - dense_5_mean_squared_error: 9.8002e-04 - dense_6_mean_squared_error: 0.0014 - dense_7_mean_squared_error: 0.0057 - val_loss: 0.1027 - val_dense_4_loss: 6.0521e-04 - val_dense_5_loss: 6.7021e-04 - val_dense_6_loss: 0.0016 - val_dense_7_loss: 0.0045 - val_dense_4_mean_squared_error: 0.0012 - val_dense_5_mean_squared_error: 0.0013 - val_dense_6_mean_squared_error: 0.0032 - val_dense_7_mean_squared_error: 0.0090\n",
      "Epoch 18/70\n",
      "17/17 [==============================] - 4s 214ms/step - loss: 0.1013 - dense_4_loss: 0.0031 - dense_5_loss: 4.4021e-04 - dense_6_loss: 5.5594e-04 - dense_7_loss: 0.0024 - dense_4_mean_squared_error: 0.0061 - dense_5_mean_squared_error: 8.8042e-04 - dense_6_mean_squared_error: 0.0011 - dense_7_mean_squared_error: 0.0049 - val_loss: 0.0992 - val_dense_4_loss: 0.0011 - val_dense_5_loss: 7.3087e-04 - val_dense_6_loss: 5.5656e-04 - val_dense_7_loss: 0.0034 - val_dense_4_mean_squared_error: 0.0023 - val_dense_5_mean_squared_error: 0.0015 - val_dense_6_mean_squared_error: 0.0011 - val_dense_7_mean_squared_error: 0.0067\n",
      "Epoch 19/70\n",
      "17/17 [==============================] - 4s 215ms/step - loss: 0.1003 - dense_4_loss: 0.0041 - dense_5_loss: 4.2234e-04 - dense_6_loss: 5.0657e-04 - dense_7_loss: 0.0020 - dense_4_mean_squared_error: 0.0082 - dense_5_mean_squared_error: 8.4468e-04 - dense_6_mean_squared_error: 0.0010 - dense_7_mean_squared_error: 0.0039 - val_loss: 0.0971 - val_dense_4_loss: 0.0011 - val_dense_5_loss: 5.1925e-04 - val_dense_6_loss: 0.0015 - val_dense_7_loss: 0.0018 - val_dense_4_mean_squared_error: 0.0022 - val_dense_5_mean_squared_error: 0.0010 - val_dense_6_mean_squared_error: 0.0030 - val_dense_7_mean_squared_error: 0.0037\n",
      "Epoch 20/70\n",
      "17/17 [==============================] - 4s 213ms/step - loss: 0.0993 - dense_4_loss: 0.0039 - dense_5_loss: 4.1628e-04 - dense_6_loss: 7.0201e-04 - dense_7_loss: 0.0023 - dense_4_mean_squared_error: 0.0079 - dense_5_mean_squared_error: 8.3255e-04 - dense_6_mean_squared_error: 0.0014 - dense_7_mean_squared_error: 0.0046 - val_loss: 0.0943 - val_dense_4_loss: 6.5675e-04 - val_dense_5_loss: 5.8188e-04 - val_dense_6_loss: 5.1582e-04 - val_dense_7_loss: 0.0013 - val_dense_4_mean_squared_error: 0.0013 - val_dense_5_mean_squared_error: 0.0012 - val_dense_6_mean_squared_error: 0.0010 - val_dense_7_mean_squared_error: 0.0026\n",
      "Epoch 21/70\n",
      "17/17 [==============================] - 4s 213ms/step - loss: 0.0946 - dense_4_loss: 0.0021 - dense_5_loss: 3.7924e-04 - dense_6_loss: 4.1998e-04 - dense_7_loss: 0.0021 - dense_4_mean_squared_error: 0.0041 - dense_5_mean_squared_error: 7.5848e-04 - dense_6_mean_squared_error: 8.3997e-04 - dense_7_mean_squared_error: 0.0042 - val_loss: 0.0910 - val_dense_4_loss: 5.5034e-04 - val_dense_5_loss: 5.5802e-04 - val_dense_6_loss: 5.2852e-04 - val_dense_7_loss: 6.4355e-04 - val_dense_4_mean_squared_error: 0.0011 - val_dense_5_mean_squared_error: 0.0011 - val_dense_6_mean_squared_error: 0.0011 - val_dense_7_mean_squared_error: 0.0013\n",
      "Epoch 22/70\n",
      "17/17 [==============================] - 4s 212ms/step - loss: 0.0945 - dense_4_loss: 0.0025 - dense_5_loss: 3.9856e-04 - dense_6_loss: 4.1943e-04 - dense_7_loss: 0.0030 - dense_4_mean_squared_error: 0.0049 - dense_5_mean_squared_error: 7.9713e-04 - dense_6_mean_squared_error: 8.3886e-04 - dense_7_mean_squared_error: 0.0060 - val_loss: 0.0894 - val_dense_4_loss: 5.2252e-04 - val_dense_5_loss: 5.3666e-04 - val_dense_6_loss: 5.1743e-04 - val_dense_7_loss: 5.7166e-04 - val_dense_4_mean_squared_error: 0.0010 - val_dense_5_mean_squared_error: 0.0011 - val_dense_6_mean_squared_error: 0.0010 - val_dense_7_mean_squared_error: 0.0011\n",
      "Epoch 23/70\n",
      "17/17 [==============================] - 4s 213ms/step - loss: 0.0934 - dense_4_loss: 0.0030 - dense_5_loss: 3.8159e-04 - dense_6_loss: 9.4925e-04 - dense_7_loss: 0.0022 - dense_4_mean_squared_error: 0.0060 - dense_5_mean_squared_error: 7.6319e-04 - dense_6_mean_squared_error: 0.0019 - dense_7_mean_squared_error: 0.0044 - val_loss: 0.0885 - val_dense_4_loss: 5.5589e-04 - val_dense_5_loss: 5.2823e-04 - val_dense_6_loss: 5.4122e-04 - val_dense_7_loss: 5.8688e-04 - val_dense_4_mean_squared_error: 0.0011 - val_dense_5_mean_squared_error: 0.0011 - val_dense_6_mean_squared_error: 0.0011 - val_dense_7_mean_squared_error: 0.0012\n",
      "Epoch 24/70\n",
      "17/17 [==============================] - 4s 213ms/step - loss: 0.0897 - dense_4_loss: 0.0017 - dense_5_loss: 3.8690e-04 - dense_6_loss: 4.0525e-04 - dense_7_loss: 0.0016 - dense_4_mean_squared_error: 0.0034 - dense_5_mean_squared_error: 7.7380e-04 - dense_6_mean_squared_error: 8.1050e-04 - dense_7_mean_squared_error: 0.0032 - val_loss: 0.0869 - val_dense_4_loss: 5.8884e-04 - val_dense_5_loss: 5.2705e-04 - val_dense_6_loss: 5.3903e-04 - val_dense_7_loss: 6.2085e-04 - val_dense_4_mean_squared_error: 0.0012 - val_dense_5_mean_squared_error: 0.0011 - val_dense_6_mean_squared_error: 0.0011 - val_dense_7_mean_squared_error: 0.0012\n",
      "Epoch 25/70\n",
      "17/17 [==============================] - 4s 213ms/step - loss: 0.0895 - dense_4_loss: 0.0012 - dense_5_loss: 3.7536e-04 - dense_6_loss: 4.0288e-04 - dense_7_loss: 0.0030 - dense_4_mean_squared_error: 0.0024 - dense_5_mean_squared_error: 7.5073e-04 - dense_6_mean_squared_error: 8.0576e-04 - dense_7_mean_squared_error: 0.0060 - val_loss: 0.0872 - val_dense_4_loss: 0.0015 - val_dense_5_loss: 5.8186e-04 - val_dense_6_loss: 5.6910e-04 - val_dense_7_loss: 5.4823e-04 - val_dense_4_mean_squared_error: 0.0030 - val_dense_5_mean_squared_error: 0.0012 - val_dense_6_mean_squared_error: 0.0011 - val_dense_7_mean_squared_error: 0.0011\n",
      "Epoch 26/70\n",
      "17/17 [==============================] - 4s 213ms/step - loss: 0.0883 - dense_4_loss: 0.0013 - dense_5_loss: 3.7367e-04 - dense_6_loss: 4.6254e-04 - dense_7_loss: 0.0026 - dense_4_mean_squared_error: 0.0026 - dense_5_mean_squared_error: 7.4734e-04 - dense_6_mean_squared_error: 9.2509e-04 - dense_7_mean_squared_error: 0.0052 - val_loss: 0.0870 - val_dense_4_loss: 0.0014 - val_dense_5_loss: 6.6368e-04 - val_dense_6_loss: 0.0010 - val_dense_7_loss: 0.0014 - val_dense_4_mean_squared_error: 0.0028 - val_dense_5_mean_squared_error: 0.0013 - val_dense_6_mean_squared_error: 0.0020 - val_dense_7_mean_squared_error: 0.0027\n",
      "Epoch 27/70\n",
      "17/17 [==============================] - 4s 213ms/step - loss: 0.0852 - dense_4_loss: 0.0012 - dense_5_loss: 3.7031e-04 - dense_6_loss: 3.8459e-04 - dense_7_loss: 7.4032e-04 - dense_4_mean_squared_error: 0.0024 - dense_5_mean_squared_error: 7.4062e-04 - dense_6_mean_squared_error: 7.6919e-04 - dense_7_mean_squared_error: 0.0015 - val_loss: 0.0848 - val_dense_4_loss: 0.0012 - val_dense_5_loss: 5.1852e-04 - val_dense_6_loss: 5.1848e-04 - val_dense_7_loss: 6.5153e-04 - val_dense_4_mean_squared_error: 0.0023 - val_dense_5_mean_squared_error: 0.0010 - val_dense_6_mean_squared_error: 0.0010 - val_dense_7_mean_squared_error: 0.0013\n",
      "Epoch 28/70\n",
      "17/17 [==============================] - 4s 214ms/step - loss: 0.0847 - dense_4_loss: 9.6077e-04 - dense_5_loss: 3.8034e-04 - dense_6_loss: 3.8843e-04 - dense_7_loss: 0.0013 - dense_4_mean_squared_error: 0.0019 - dense_5_mean_squared_error: 7.6068e-04 - dense_6_mean_squared_error: 7.7687e-04 - dense_7_mean_squared_error: 0.0025 - val_loss: 0.0832 - val_dense_4_loss: 9.0757e-04 - val_dense_5_loss: 5.3378e-04 - val_dense_6_loss: 5.2014e-04 - val_dense_7_loss: 5.2212e-04 - val_dense_4_mean_squared_error: 0.0018 - val_dense_5_mean_squared_error: 0.0011 - val_dense_6_mean_squared_error: 0.0010 - val_dense_7_mean_squared_error: 0.0010\n",
      "Epoch 29/70\n",
      "17/17 [==============================] - 4s 212ms/step - loss: 0.0840 - dense_4_loss: 7.2742e-04 - dense_5_loss: 3.7701e-04 - dense_6_loss: 3.8365e-04 - dense_7_loss: 0.0018 - dense_4_mean_squared_error: 0.0015 - dense_5_mean_squared_error: 7.5402e-04 - dense_6_mean_squared_error: 7.6730e-04 - dense_7_mean_squared_error: 0.0036 - val_loss: 0.5068 - val_dense_4_loss: 0.0732 - val_dense_5_loss: 0.0013 - val_dense_6_loss: 0.3069 - val_dense_7_loss: 0.0451 - val_dense_4_mean_squared_error: 0.1464 - val_dense_5_mean_squared_error: 0.0026 - val_dense_6_mean_squared_error: 0.6138 - val_dense_7_mean_squared_error: 0.0902\n",
      "Epoch 30/70\n",
      "17/17 [==============================] - 4s 214ms/step - loss: 0.0824 - dense_4_loss: 6.4742e-04 - dense_5_loss: 3.9003e-04 - dense_6_loss: 3.9688e-04 - dense_7_loss: 0.0012 - dense_4_mean_squared_error: 0.0013 - dense_5_mean_squared_error: 7.8005e-04 - dense_6_mean_squared_error: 7.9377e-04 - dense_7_mean_squared_error: 0.0025 - val_loss: 0.1127 - val_dense_4_loss: 6.4375e-04 - val_dense_5_loss: 5.3994e-04 - val_dense_6_loss: 0.0300 - val_dense_7_loss: 0.0023 - val_dense_4_mean_squared_error: 0.0013 - val_dense_5_mean_squared_error: 0.0011 - val_dense_6_mean_squared_error: 0.0601 - val_dense_7_mean_squared_error: 0.0046\n",
      "Epoch 31/70\n",
      "17/17 [==============================] - 4s 212ms/step - loss: 0.0936 - dense_4_loss: 0.0021 - dense_5_loss: 3.7106e-04 - dense_6_loss: 9.1554e-04 - dense_7_loss: 0.0018 - dense_4_mean_squared_error: 0.0041 - dense_5_mean_squared_error: 7.4211e-04 - dense_6_mean_squared_error: 0.0018 - dense_7_mean_squared_error: 0.0037 - val_loss: 0.0930 - val_dense_4_loss: 8.9360e-04 - val_dense_5_loss: 5.3488e-04 - val_dense_6_loss: 6.7699e-04 - val_dense_7_loss: 5.8327e-04 - val_dense_4_mean_squared_error: 0.0018 - val_dense_5_mean_squared_error: 0.0011 - val_dense_6_mean_squared_error: 0.0014 - val_dense_7_mean_squared_error: 0.0012\n",
      "Epoch 32/70\n",
      "17/17 [==============================] - 4s 213ms/step - loss: 0.0880 - dense_4_loss: 5.2117e-04 - dense_5_loss: 3.7026e-04 - dense_6_loss: 3.7519e-04 - dense_7_loss: 0.0010 - dense_4_mean_squared_error: 0.0010 - dense_5_mean_squared_error: 7.4053e-04 - dense_6_mean_squared_error: 7.5038e-04 - dense_7_mean_squared_error: 0.0020 - val_loss: 0.0862 - val_dense_4_loss: 0.0023 - val_dense_5_loss: 8.6537e-04 - val_dense_6_loss: 4.7168e-04 - val_dense_7_loss: 9.3246e-04 - val_dense_4_mean_squared_error: 0.0046 - val_dense_5_mean_squared_error: 0.0017 - val_dense_6_mean_squared_error: 9.4335e-04 - val_dense_7_mean_squared_error: 0.0019\n",
      "Epoch 33/70\n",
      "17/17 [==============================] - 4s 213ms/step - loss: 0.0818 - dense_4_loss: 6.1372e-04 - dense_5_loss: 3.8007e-04 - dense_6_loss: 3.8017e-04 - dense_7_loss: 6.9515e-04 - dense_4_mean_squared_error: 0.0012 - dense_5_mean_squared_error: 7.6014e-04 - dense_6_mean_squared_error: 7.6034e-04 - dense_7_mean_squared_error: 0.0014 - val_loss: 0.0812 - val_dense_4_loss: 0.0012 - val_dense_5_loss: 5.6014e-04 - val_dense_6_loss: 4.8920e-04 - val_dense_7_loss: 6.3581e-04 - val_dense_4_mean_squared_error: 0.0025 - val_dense_5_mean_squared_error: 0.0011 - val_dense_6_mean_squared_error: 9.7840e-04 - val_dense_7_mean_squared_error: 0.0013\n",
      "Epoch 34/70\n",
      "17/17 [==============================] - 4s 214ms/step - loss: 0.0801 - dense_4_loss: 7.1982e-04 - dense_5_loss: 3.7513e-04 - dense_6_loss: 4.1996e-04 - dense_7_loss: 9.2014e-04 - dense_4_mean_squared_error: 0.0014 - dense_5_mean_squared_error: 7.5025e-04 - dense_6_mean_squared_error: 8.3992e-04 - dense_7_mean_squared_error: 0.0018 - val_loss: 0.0793 - val_dense_4_loss: 6.4007e-04 - val_dense_5_loss: 5.0841e-04 - val_dense_6_loss: 5.0293e-04 - val_dense_7_loss: 5.0870e-04 - val_dense_4_mean_squared_error: 0.0013 - val_dense_5_mean_squared_error: 0.0010 - val_dense_6_mean_squared_error: 0.0010 - val_dense_7_mean_squared_error: 0.0010\n",
      "Epoch 35/70\n",
      "17/17 [==============================] - 4s 215ms/step - loss: 0.0795 - dense_4_loss: 4.9410e-04 - dense_5_loss: 3.6728e-04 - dense_6_loss: 3.7186e-04 - dense_7_loss: 0.0011 - dense_4_mean_squared_error: 9.8820e-04 - dense_5_mean_squared_error: 7.3456e-04 - dense_6_mean_squared_error: 7.4372e-04 - dense_7_mean_squared_error: 0.0021 - val_loss: 0.0800 - val_dense_4_loss: 7.7916e-04 - val_dense_5_loss: 6.9124e-04 - val_dense_6_loss: 5.7323e-04 - val_dense_7_loss: 5.3799e-04 - val_dense_4_mean_squared_error: 0.0016 - val_dense_5_mean_squared_error: 0.0014 - val_dense_6_mean_squared_error: 0.0011 - val_dense_7_mean_squared_error: 0.0011\n",
      "Epoch 36/70\n",
      "17/17 [==============================] - 4s 212ms/step - loss: 0.0792 - dense_4_loss: 4.2948e-04 - dense_5_loss: 3.6676e-04 - dense_6_loss: 3.7818e-04 - dense_7_loss: 9.4666e-04 - dense_4_mean_squared_error: 8.5895e-04 - dense_5_mean_squared_error: 7.3353e-04 - dense_6_mean_squared_error: 7.5637e-04 - dense_7_mean_squared_error: 0.0019 - val_loss: 0.0801 - val_dense_4_loss: 5.2755e-04 - val_dense_5_loss: 8.3191e-04 - val_dense_6_loss: 6.7326e-04 - val_dense_7_loss: 0.0013 - val_dense_4_mean_squared_error: 0.0011 - val_dense_5_mean_squared_error: 0.0017 - val_dense_6_mean_squared_error: 0.0013 - val_dense_7_mean_squared_error: 0.0025\n",
      "Epoch 37/70\n",
      "17/17 [==============================] - 4s 214ms/step - loss: 0.0786 - dense_4_loss: 4.0781e-04 - dense_5_loss: 3.6168e-04 - dense_6_loss: 3.6409e-04 - dense_7_loss: 5.6922e-04 - dense_4_mean_squared_error: 8.1562e-04 - dense_5_mean_squared_error: 7.2335e-04 - dense_6_mean_squared_error: 7.2818e-04 - dense_7_mean_squared_error: 0.0011 - val_loss: 0.0793 - val_dense_4_loss: 5.2928e-04 - val_dense_5_loss: 5.3459e-04 - val_dense_6_loss: 5.1743e-04 - val_dense_7_loss: 6.9043e-04 - val_dense_4_mean_squared_error: 0.0011 - val_dense_5_mean_squared_error: 0.0011 - val_dense_6_mean_squared_error: 0.0010 - val_dense_7_mean_squared_error: 0.0014\n",
      "Epoch 38/70\n",
      "17/17 [==============================] - 4s 213ms/step - loss: 0.0785 - dense_4_loss: 4.1919e-04 - dense_5_loss: 3.6406e-04 - dense_6_loss: 3.7023e-04 - dense_7_loss: 6.3837e-04 - dense_4_mean_squared_error: 8.3838e-04 - dense_5_mean_squared_error: 7.2812e-04 - dense_6_mean_squared_error: 7.4046e-04 - dense_7_mean_squared_error: 0.0013 - val_loss: 0.0789 - val_dense_4_loss: 6.6533e-04 - val_dense_5_loss: 4.8645e-04 - val_dense_6_loss: 4.7860e-04 - val_dense_7_loss: 7.7899e-04 - val_dense_4_mean_squared_error: 0.0013 - val_dense_5_mean_squared_error: 9.7291e-04 - val_dense_6_mean_squared_error: 9.5719e-04 - val_dense_7_mean_squared_error: 0.0016\n",
      "Epoch 39/70\n",
      "17/17 [==============================] - 4s 214ms/step - loss: 0.0783 - dense_4_loss: 3.9519e-04 - dense_5_loss: 3.6823e-04 - dense_6_loss: 3.7366e-04 - dense_7_loss: 6.7472e-04 - dense_4_mean_squared_error: 7.9038e-04 - dense_5_mean_squared_error: 7.3647e-04 - dense_6_mean_squared_error: 7.4733e-04 - dense_7_mean_squared_error: 0.0013 - val_loss: 0.0792 - val_dense_4_loss: 9.4807e-04 - val_dense_5_loss: 5.0992e-04 - val_dense_6_loss: 5.1068e-04 - val_dense_7_loss: 6.5806e-04 - val_dense_4_mean_squared_error: 0.0019 - val_dense_5_mean_squared_error: 0.0010 - val_dense_6_mean_squared_error: 0.0010 - val_dense_7_mean_squared_error: 0.0013\n",
      "Epoch 40/70\n",
      "17/17 [==============================] - 4s 214ms/step - loss: 0.0781 - dense_4_loss: 3.8241e-04 - dense_5_loss: 3.6327e-04 - dense_6_loss: 3.7504e-04 - dense_7_loss: 6.2599e-04 - dense_4_mean_squared_error: 7.6483e-04 - dense_5_mean_squared_error: 7.2654e-04 - dense_6_mean_squared_error: 7.5009e-04 - dense_7_mean_squared_error: 0.0013 - val_loss: 0.0789 - val_dense_4_loss: 5.4100e-04 - val_dense_5_loss: 9.2456e-04 - val_dense_6_loss: 8.6899e-04 - val_dense_7_loss: 5.2182e-04 - val_dense_4_mean_squared_error: 0.0011 - val_dense_5_mean_squared_error: 0.0018 - val_dense_6_mean_squared_error: 0.0017 - val_dense_7_mean_squared_error: 0.0010\n",
      "Epoch 41/70\n",
      "17/17 [==============================] - 4s 214ms/step - loss: 0.0779 - dense_4_loss: 3.7520e-04 - dense_5_loss: 3.7466e-04 - dense_6_loss: 3.8557e-04 - dense_7_loss: 5.5266e-04 - dense_4_mean_squared_error: 7.5040e-04 - dense_5_mean_squared_error: 7.4932e-04 - dense_6_mean_squared_error: 7.7115e-04 - dense_7_mean_squared_error: 0.0011 - val_loss: 0.0785 - val_dense_4_loss: 6.8462e-04 - val_dense_5_loss: 5.4511e-04 - val_dense_6_loss: 5.1207e-04 - val_dense_7_loss: 5.6808e-04 - val_dense_4_mean_squared_error: 0.0014 - val_dense_5_mean_squared_error: 0.0011 - val_dense_6_mean_squared_error: 0.0010 - val_dense_7_mean_squared_error: 0.0011\n",
      "Epoch 42/70\n",
      "17/17 [==============================] - 4s 213ms/step - loss: 0.0779 - dense_4_loss: 3.5988e-04 - dense_5_loss: 3.5983e-04 - dense_6_loss: 3.6768e-04 - dense_7_loss: 5.0710e-04 - dense_4_mean_squared_error: 7.1975e-04 - dense_5_mean_squared_error: 7.1966e-04 - dense_6_mean_squared_error: 7.3536e-04 - dense_7_mean_squared_error: 0.0010 - val_loss: 0.1148 - val_dense_4_loss: 0.0126 - val_dense_5_loss: 5.1845e-04 - val_dense_6_loss: 5.9707e-04 - val_dense_7_loss: 0.0254 - val_dense_4_mean_squared_error: 0.0251 - val_dense_5_mean_squared_error: 0.0010 - val_dense_6_mean_squared_error: 0.0012 - val_dense_7_mean_squared_error: 0.0507\n",
      "Epoch 43/70\n",
      "17/17 [==============================] - 4s 213ms/step - loss: 0.0775 - dense_4_loss: 3.6734e-04 - dense_5_loss: 3.6774e-04 - dense_6_loss: 3.7370e-04 - dense_7_loss: 4.6074e-04 - dense_4_mean_squared_error: 7.3468e-04 - dense_5_mean_squared_error: 7.3549e-04 - dense_6_mean_squared_error: 7.4740e-04 - dense_7_mean_squared_error: 9.2148e-04 - val_loss: 0.0785 - val_dense_4_loss: 5.1813e-04 - val_dense_5_loss: 8.7031e-04 - val_dense_6_loss: 6.4550e-04 - val_dense_7_loss: 5.4343e-04 - val_dense_4_mean_squared_error: 0.0010 - val_dense_5_mean_squared_error: 0.0017 - val_dense_6_mean_squared_error: 0.0013 - val_dense_7_mean_squared_error: 0.0011\n",
      "Epoch 44/70\n",
      "17/17 [==============================] - 4s 214ms/step - loss: 0.0774 - dense_4_loss: 3.6506e-04 - dense_5_loss: 3.6547e-04 - dense_6_loss: 3.7242e-04 - dense_7_loss: 4.4165e-04 - dense_4_mean_squared_error: 7.3011e-04 - dense_5_mean_squared_error: 7.3094e-04 - dense_6_mean_squared_error: 7.4484e-04 - dense_7_mean_squared_error: 8.8330e-04 - val_loss: 0.0783 - val_dense_4_loss: 5.3424e-04 - val_dense_5_loss: 9.3452e-04 - val_dense_6_loss: 6.0317e-04 - val_dense_7_loss: 5.2675e-04 - val_dense_4_mean_squared_error: 0.0011 - val_dense_5_mean_squared_error: 0.0019 - val_dense_6_mean_squared_error: 0.0012 - val_dense_7_mean_squared_error: 0.0011\n",
      "Epoch 45/70\n",
      "17/17 [==============================] - 4s 213ms/step - loss: 0.0780 - dense_4_loss: 3.6744e-04 - dense_5_loss: 3.6361e-04 - dense_6_loss: 3.6970e-04 - dense_7_loss: 4.5724e-04 - dense_4_mean_squared_error: 7.3488e-04 - dense_5_mean_squared_error: 7.2722e-04 - dense_6_mean_squared_error: 7.3941e-04 - dense_7_mean_squared_error: 9.1448e-04 - val_loss: 0.0782 - val_dense_4_loss: 5.0711e-04 - val_dense_5_loss: 7.7964e-04 - val_dense_6_loss: 6.0406e-04 - val_dense_7_loss: 5.8793e-04 - val_dense_4_mean_squared_error: 0.0010 - val_dense_5_mean_squared_error: 0.0016 - val_dense_6_mean_squared_error: 0.0012 - val_dense_7_mean_squared_error: 0.0012\n",
      "Epoch 46/70\n",
      "17/17 [==============================] - 4s 213ms/step - loss: 0.0772 - dense_4_loss: 3.6851e-04 - dense_5_loss: 3.7070e-04 - dense_6_loss: 3.7710e-04 - dense_7_loss: 4.2686e-04 - dense_4_mean_squared_error: 7.3703e-04 - dense_5_mean_squared_error: 7.4139e-04 - dense_6_mean_squared_error: 7.5420e-04 - dense_7_mean_squared_error: 8.5372e-04 - val_loss: 0.0780 - val_dense_4_loss: 5.1728e-04 - val_dense_5_loss: 7.6811e-04 - val_dense_6_loss: 6.1215e-04 - val_dense_7_loss: 5.9641e-04 - val_dense_4_mean_squared_error: 0.0010 - val_dense_5_mean_squared_error: 0.0015 - val_dense_6_mean_squared_error: 0.0012 - val_dense_7_mean_squared_error: 0.0012\n",
      "Epoch 47/70\n",
      "17/17 [==============================] - 4s 216ms/step - loss: 0.0779 - dense_4_loss: 3.8013e-04 - dense_5_loss: 3.8086e-04 - dense_6_loss: 3.9067e-04 - dense_7_loss: 4.2929e-04 - dense_4_mean_squared_error: 7.6026e-04 - dense_5_mean_squared_error: 7.6173e-04 - dense_6_mean_squared_error: 7.8134e-04 - dense_7_mean_squared_error: 8.5859e-04 - val_loss: 0.0787 - val_dense_4_loss: 5.2753e-04 - val_dense_5_loss: 6.0039e-04 - val_dense_6_loss: 6.4334e-04 - val_dense_7_loss: 0.0011 - val_dense_4_mean_squared_error: 0.0011 - val_dense_5_mean_squared_error: 0.0012 - val_dense_6_mean_squared_error: 0.0013 - val_dense_7_mean_squared_error: 0.0021\n",
      "Epoch 48/70\n",
      "17/17 [==============================] - 4s 226ms/step - loss: 0.0781 - dense_4_loss: 3.7299e-04 - dense_5_loss: 3.7017e-04 - dense_6_loss: 3.7936e-04 - dense_7_loss: 4.0359e-04 - dense_4_mean_squared_error: 7.4599e-04 - dense_5_mean_squared_error: 7.4034e-04 - dense_6_mean_squared_error: 7.5872e-04 - dense_7_mean_squared_error: 8.0717e-04 - val_loss: 0.0780 - val_dense_4_loss: 5.2240e-04 - val_dense_5_loss: 6.7156e-04 - val_dense_6_loss: 6.2586e-04 - val_dense_7_loss: 7.3812e-04 - val_dense_4_mean_squared_error: 0.0010 - val_dense_5_mean_squared_error: 0.0013 - val_dense_6_mean_squared_error: 0.0013 - val_dense_7_mean_squared_error: 0.0015\n",
      "Epoch 49/70\n",
      "17/17 [==============================] - 4s 214ms/step - loss: 0.0769 - dense_4_loss: 3.6479e-04 - dense_5_loss: 3.6458e-04 - dense_6_loss: 3.7806e-04 - dense_7_loss: 3.8255e-04 - dense_4_mean_squared_error: 7.2958e-04 - dense_5_mean_squared_error: 7.2916e-04 - dense_6_mean_squared_error: 7.5613e-04 - dense_7_mean_squared_error: 7.6509e-04 - val_loss: 0.0781 - val_dense_4_loss: 5.1845e-04 - val_dense_5_loss: 7.5975e-04 - val_dense_6_loss: 6.7939e-04 - val_dense_7_loss: 5.6819e-04 - val_dense_4_mean_squared_error: 0.0010 - val_dense_5_mean_squared_error: 0.0015 - val_dense_6_mean_squared_error: 0.0014 - val_dense_7_mean_squared_error: 0.0011\n",
      "Epoch 50/70\n",
      "17/17 [==============================] - 4s 212ms/step - loss: 0.0783 - dense_4_loss: 4.8164e-04 - dense_5_loss: 4.1885e-04 - dense_6_loss: 4.7101e-04 - dense_7_loss: 6.3081e-04 - dense_4_mean_squared_error: 9.6327e-04 - dense_5_mean_squared_error: 8.3770e-04 - dense_6_mean_squared_error: 9.4201e-04 - dense_7_mean_squared_error: 0.0013 - val_loss: 0.0823 - val_dense_4_loss: 6.0985e-04 - val_dense_5_loss: 7.0465e-04 - val_dense_6_loss: 5.1892e-04 - val_dense_7_loss: 7.7195e-04 - val_dense_4_mean_squared_error: 0.0012 - val_dense_5_mean_squared_error: 0.0014 - val_dense_6_mean_squared_error: 0.0010 - val_dense_7_mean_squared_error: 0.0015\n",
      "Epoch 51/70\n",
      "17/17 [==============================] - 4s 213ms/step - loss: 0.0785 - dense_4_loss: 3.6431e-04 - dense_5_loss: 3.6207e-04 - dense_6_loss: 3.7199e-04 - dense_7_loss: 3.6941e-04 - dense_4_mean_squared_error: 7.2863e-04 - dense_5_mean_squared_error: 7.2415e-04 - dense_6_mean_squared_error: 7.4399e-04 - dense_7_mean_squared_error: 7.3881e-04 - val_loss: 0.0780 - val_dense_4_loss: 5.3719e-04 - val_dense_5_loss: 6.4962e-04 - val_dense_6_loss: 5.6827e-04 - val_dense_7_loss: 6.1139e-04 - val_dense_4_mean_squared_error: 0.0011 - val_dense_5_mean_squared_error: 0.0013 - val_dense_6_mean_squared_error: 0.0011 - val_dense_7_mean_squared_error: 0.0012\n",
      "Epoch 52/70\n",
      "17/17 [==============================] - 4s 213ms/step - loss: 0.0768 - dense_4_loss: 3.6364e-04 - dense_5_loss: 3.6670e-04 - dense_6_loss: 3.7347e-04 - dense_7_loss: 3.6764e-04 - dense_4_mean_squared_error: 7.2728e-04 - dense_5_mean_squared_error: 7.3339e-04 - dense_6_mean_squared_error: 7.4693e-04 - dense_7_mean_squared_error: 7.3527e-04 - val_loss: 0.0776 - val_dense_4_loss: 5.2380e-04 - val_dense_5_loss: 6.3018e-04 - val_dense_6_loss: 5.4738e-04 - val_dense_7_loss: 6.4479e-04 - val_dense_4_mean_squared_error: 0.0010 - val_dense_5_mean_squared_error: 0.0013 - val_dense_6_mean_squared_error: 0.0011 - val_dense_7_mean_squared_error: 0.0013\n",
      "Epoch 53/70\n",
      "17/17 [==============================] - 4s 213ms/step - loss: 0.0770 - dense_4_loss: 3.7306e-04 - dense_5_loss: 3.6909e-04 - dense_6_loss: 3.7935e-04 - dense_7_loss: 3.8838e-04 - dense_4_mean_squared_error: 7.4613e-04 - dense_5_mean_squared_error: 7.3819e-04 - dense_6_mean_squared_error: 7.5870e-04 - dense_7_mean_squared_error: 7.7675e-04 - val_loss: 0.0798 - val_dense_4_loss: 5.2379e-04 - val_dense_5_loss: 6.5239e-04 - val_dense_6_loss: 5.2401e-04 - val_dense_7_loss: 0.0025 - val_dense_4_mean_squared_error: 0.0010 - val_dense_5_mean_squared_error: 0.0013 - val_dense_6_mean_squared_error: 0.0010 - val_dense_7_mean_squared_error: 0.0050\n",
      "Epoch 54/70\n",
      "17/17 [==============================] - 4s 214ms/step - loss: 0.0770 - dense_4_loss: 3.6169e-04 - dense_5_loss: 3.6334e-04 - dense_6_loss: 3.6727e-04 - dense_7_loss: 3.7010e-04 - dense_4_mean_squared_error: 7.2339e-04 - dense_5_mean_squared_error: 7.2667e-04 - dense_6_mean_squared_error: 7.3454e-04 - dense_7_mean_squared_error: 7.4019e-04 - val_loss: 0.0912 - val_dense_4_loss: 0.0116 - val_dense_5_loss: 0.0010 - val_dense_6_loss: 6.1966e-04 - val_dense_7_loss: 0.0024 - val_dense_4_mean_squared_error: 0.0232 - val_dense_5_mean_squared_error: 0.0020 - val_dense_6_mean_squared_error: 0.0012 - val_dense_7_mean_squared_error: 0.0047\n",
      "Epoch 55/70\n",
      "17/17 [==============================] - 4s 213ms/step - loss: 0.0771 - dense_4_loss: 3.6449e-04 - dense_5_loss: 3.6271e-04 - dense_6_loss: 3.7163e-04 - dense_7_loss: 3.6520e-04 - dense_4_mean_squared_error: 7.2899e-04 - dense_5_mean_squared_error: 7.2542e-04 - dense_6_mean_squared_error: 7.4326e-04 - dense_7_mean_squared_error: 7.3040e-04 - val_loss: 1.1690 - val_dense_4_loss: 0.6583 - val_dense_5_loss: 0.4307 - val_dense_6_loss: 0.0030 - val_dense_7_loss: 0.0012 - val_dense_4_mean_squared_error: 1.3431 - val_dense_5_mean_squared_error: 0.8615 - val_dense_6_mean_squared_error: 0.0061 - val_dense_7_mean_squared_error: 0.0024\n",
      "Epoch 56/70\n",
      "17/17 [==============================] - 4s 214ms/step - loss: 0.0776 - dense_4_loss: 3.8098e-04 - dense_5_loss: 3.7353e-04 - dense_6_loss: 3.8198e-04 - dense_7_loss: 3.8855e-04 - dense_4_mean_squared_error: 7.6197e-04 - dense_5_mean_squared_error: 7.4705e-04 - dense_6_mean_squared_error: 7.6396e-04 - dense_7_mean_squared_error: 7.7710e-04 - val_loss: 4.2130 - val_dense_4_loss: 1.5021 - val_dense_5_loss: 1.0039 - val_dense_6_loss: 0.1419 - val_dense_7_loss: 1.4880 - val_dense_4_mean_squared_error: 4.0220 - val_dense_5_mean_squared_error: 2.2634 - val_dense_6_mean_squared_error: 0.2839 - val_dense_7_mean_squared_error: 3.9552\n",
      "Epoch 57/70\n",
      "17/17 [==============================] - 4s 214ms/step - loss: 0.0776 - dense_4_loss: 3.6424e-04 - dense_5_loss: 3.6492e-04 - dense_6_loss: 3.7907e-04 - dense_7_loss: 3.6629e-04 - dense_4_mean_squared_error: 7.2849e-04 - dense_5_mean_squared_error: 7.2985e-04 - dense_6_mean_squared_error: 7.5814e-04 - dense_7_mean_squared_error: 7.3257e-04 - val_loss: 0.0872 - val_dense_4_loss: 5.8501e-04 - val_dense_5_loss: 0.0098 - val_dense_6_loss: 7.1049e-04 - val_dense_7_loss: 5.0565e-04 - val_dense_4_mean_squared_error: 0.0012 - val_dense_5_mean_squared_error: 0.0196 - val_dense_6_mean_squared_error: 0.0014 - val_dense_7_mean_squared_error: 0.0010\n",
      "Epoch 58/70\n",
      "17/17 [==============================] - 4s 213ms/step - loss: 0.0771 - dense_4_loss: 3.6546e-04 - dense_5_loss: 3.6485e-04 - dense_6_loss: 3.8095e-04 - dense_7_loss: 3.6787e-04 - dense_4_mean_squared_error: 7.3093e-04 - dense_5_mean_squared_error: 7.2969e-04 - dense_6_mean_squared_error: 7.6190e-04 - dense_7_mean_squared_error: 7.3573e-04 - val_loss: 0.0939 - val_dense_4_loss: 0.0046 - val_dense_5_loss: 0.0019 - val_dense_6_loss: 0.0031 - val_dense_7_loss: 0.0087 - val_dense_4_mean_squared_error: 0.0093 - val_dense_5_mean_squared_error: 0.0039 - val_dense_6_mean_squared_error: 0.0061 - val_dense_7_mean_squared_error: 0.0174\n",
      "Epoch 59/70\n",
      "17/17 [==============================] - 4s 219ms/step - loss: 0.0771 - dense_4_loss: 3.6779e-04 - dense_5_loss: 3.6667e-04 - dense_6_loss: 3.7856e-04 - dense_7_loss: 3.6667e-04 - dense_4_mean_squared_error: 7.3557e-04 - dense_5_mean_squared_error: 7.3334e-04 - dense_6_mean_squared_error: 7.5713e-04 - dense_7_mean_squared_error: 7.3333e-04 - val_loss: 0.2203 - val_dense_4_loss: 0.1086 - val_dense_5_loss: 5.4313e-04 - val_dense_6_loss: 5.9180e-04 - val_dense_7_loss: 0.0346 - val_dense_4_mean_squared_error: 0.2173 - val_dense_5_mean_squared_error: 0.0011 - val_dense_6_mean_squared_error: 0.0012 - val_dense_7_mean_squared_error: 0.0692\n",
      "Epoch 60/70\n",
      "17/17 [==============================] - 4s 224ms/step - loss: 0.0772 - dense_4_loss: 3.7580e-04 - dense_5_loss: 3.7539e-04 - dense_6_loss: 3.7857e-04 - dense_7_loss: 3.8391e-04 - dense_4_mean_squared_error: 7.5160e-04 - dense_5_mean_squared_error: 7.5077e-04 - dense_6_mean_squared_error: 7.5715e-04 - dense_7_mean_squared_error: 7.6781e-04 - val_loss: 4.3470 - val_dense_4_loss: 1.0850 - val_dense_5_loss: 0.2671 - val_dense_6_loss: 0.0094 - val_dense_7_loss: 2.9099 - val_dense_4_mean_squared_error: 2.5132 - val_dense_5_mean_squared_error: 0.5342 - val_dense_6_mean_squared_error: 0.0189 - val_dense_7_mean_squared_error: 11.6280\n",
      "Epoch 61/70\n",
      "17/17 [==============================] - 4s 219ms/step - loss: 0.0771 - dense_4_loss: 3.7215e-04 - dense_5_loss: 3.7411e-04 - dense_6_loss: 3.8382e-04 - dense_7_loss: 3.7185e-04 - dense_4_mean_squared_error: 7.4430e-04 - dense_5_mean_squared_error: 7.4822e-04 - dense_6_mean_squared_error: 7.6764e-04 - dense_7_mean_squared_error: 7.4370e-04 - val_loss: 0.1105 - val_dense_4_loss: 0.0264 - val_dense_5_loss: 0.0064 - val_dense_6_loss: 5.1777e-04 - val_dense_7_loss: 0.0015 - val_dense_4_mean_squared_error: 0.0529 - val_dense_5_mean_squared_error: 0.0128 - val_dense_6_mean_squared_error: 0.0010 - val_dense_7_mean_squared_error: 0.0031\n",
      "Epoch 62/70\n",
      "17/17 [==============================] - 4s 218ms/step - loss: 0.0777 - dense_4_loss: 4.7129e-04 - dense_5_loss: 4.2002e-04 - dense_6_loss: 4.4948e-04 - dense_7_loss: 4.0724e-04 - dense_4_mean_squared_error: 9.4257e-04 - dense_5_mean_squared_error: 8.4004e-04 - dense_6_mean_squared_error: 8.9896e-04 - dense_7_mean_squared_error: 8.1449e-04 - val_loss: 0.0776 - val_dense_4_loss: 5.1355e-04 - val_dense_5_loss: 5.1171e-04 - val_dense_6_loss: 5.1006e-04 - val_dense_7_loss: 5.0355e-04 - val_dense_4_mean_squared_error: 0.0010 - val_dense_5_mean_squared_error: 0.0010 - val_dense_6_mean_squared_error: 0.0010 - val_dense_7_mean_squared_error: 0.0010\n",
      "Epoch 63/70\n",
      "17/17 [==============================] - 4s 219ms/step - loss: 0.0772 - dense_4_loss: 3.6876e-04 - dense_5_loss: 3.6997e-04 - dense_6_loss: 3.8305e-04 - dense_7_loss: 3.7349e-04 - dense_4_mean_squared_error: 7.3752e-04 - dense_5_mean_squared_error: 7.3994e-04 - dense_6_mean_squared_error: 7.6610e-04 - dense_7_mean_squared_error: 7.4698e-04 - val_loss: 0.0782 - val_dense_4_loss: 5.5111e-04 - val_dense_5_loss: 8.0854e-04 - val_dense_6_loss: 7.1388e-04 - val_dense_7_loss: 5.4425e-04 - val_dense_4_mean_squared_error: 0.0011 - val_dense_5_mean_squared_error: 0.0016 - val_dense_6_mean_squared_error: 0.0014 - val_dense_7_mean_squared_error: 0.0011\n",
      "Epoch 64/70\n",
      "17/17 [==============================] - 4s 218ms/step - loss: 0.0771 - dense_4_loss: 3.6960e-04 - dense_5_loss: 3.7763e-04 - dense_6_loss: 3.7966e-04 - dense_7_loss: 3.7385e-04 - dense_4_mean_squared_error: 7.3921e-04 - dense_5_mean_squared_error: 7.5525e-04 - dense_6_mean_squared_error: 7.5932e-04 - dense_7_mean_squared_error: 7.4771e-04 - val_loss: 0.0777 - val_dense_4_loss: 5.6413e-04 - val_dense_5_loss: 5.6257e-04 - val_dense_6_loss: 5.2004e-04 - val_dense_7_loss: 5.1647e-04 - val_dense_4_mean_squared_error: 0.0011 - val_dense_5_mean_squared_error: 0.0011 - val_dense_6_mean_squared_error: 0.0010 - val_dense_7_mean_squared_error: 0.0010\n",
      "Epoch 65/70\n",
      "17/17 [==============================] - 4s 216ms/step - loss: 0.0771 - dense_4_loss: 3.7051e-04 - dense_5_loss: 3.6667e-04 - dense_6_loss: 3.7261e-04 - dense_7_loss: 3.7027e-04 - dense_4_mean_squared_error: 7.4103e-04 - dense_5_mean_squared_error: 7.3335e-04 - dense_6_mean_squared_error: 7.4521e-04 - dense_7_mean_squared_error: 7.4054e-04 - val_loss: 0.0778 - val_dense_4_loss: 5.3088e-04 - val_dense_5_loss: 5.2226e-04 - val_dense_6_loss: 5.3644e-04 - val_dense_7_loss: 5.4024e-04 - val_dense_4_mean_squared_error: 0.0011 - val_dense_5_mean_squared_error: 0.0010 - val_dense_6_mean_squared_error: 0.0011 - val_dense_7_mean_squared_error: 0.0011\n",
      "Epoch 66/70\n",
      "17/17 [==============================] - 4s 216ms/step - loss: 0.0771 - dense_4_loss: 3.6261e-04 - dense_5_loss: 3.6381e-04 - dense_6_loss: 3.6656e-04 - dense_7_loss: 3.6378e-04 - dense_4_mean_squared_error: 7.2522e-04 - dense_5_mean_squared_error: 7.2763e-04 - dense_6_mean_squared_error: 7.3313e-04 - dense_7_mean_squared_error: 7.2756e-04 - val_loss: 0.0780 - val_dense_4_loss: 5.5306e-04 - val_dense_5_loss: 7.9836e-04 - val_dense_6_loss: 5.9178e-04 - val_dense_7_loss: 5.7439e-04 - val_dense_4_mean_squared_error: 0.0011 - val_dense_5_mean_squared_error: 0.0016 - val_dense_6_mean_squared_error: 0.0012 - val_dense_7_mean_squared_error: 0.0011\n",
      "Epoch 67/70\n",
      "17/17 [==============================] - 4s 217ms/step - loss: 0.0773 - dense_4_loss: 4.0497e-04 - dense_5_loss: 3.9961e-04 - dense_6_loss: 4.0318e-04 - dense_7_loss: 3.9839e-04 - dense_4_mean_squared_error: 8.0994e-04 - dense_5_mean_squared_error: 7.9921e-04 - dense_6_mean_squared_error: 8.0637e-04 - dense_7_mean_squared_error: 7.9677e-04 - val_loss: 0.1002 - val_dense_4_loss: 5.3994e-04 - val_dense_5_loss: 0.0014 - val_dense_6_loss: 6.3413e-04 - val_dense_7_loss: 0.0220 - val_dense_4_mean_squared_error: 0.0011 - val_dense_5_mean_squared_error: 0.0028 - val_dense_6_mean_squared_error: 0.0013 - val_dense_7_mean_squared_error: 0.0439\n",
      "Epoch 68/70\n",
      "17/17 [==============================] - 4s 215ms/step - loss: 0.0771 - dense_4_loss: 3.6424e-04 - dense_5_loss: 3.6517e-04 - dense_6_loss: 3.7139e-04 - dense_7_loss: 3.6390e-04 - dense_4_mean_squared_error: 7.2849e-04 - dense_5_mean_squared_error: 7.3035e-04 - dense_6_mean_squared_error: 7.4278e-04 - dense_7_mean_squared_error: 7.2780e-04 - val_loss: 0.0782 - val_dense_4_loss: 5.6950e-04 - val_dense_5_loss: 5.2259e-04 - val_dense_6_loss: 5.3518e-04 - val_dense_7_loss: 7.6731e-04 - val_dense_4_mean_squared_error: 0.0011 - val_dense_5_mean_squared_error: 0.0010 - val_dense_6_mean_squared_error: 0.0011 - val_dense_7_mean_squared_error: 0.0015\n",
      "Epoch 69/70\n",
      "17/17 [==============================] - 4s 216ms/step - loss: 0.0772 - dense_4_loss: 3.7652e-04 - dense_5_loss: 3.7551e-04 - dense_6_loss: 3.7998e-04 - dense_7_loss: 3.7580e-04 - dense_4_mean_squared_error: 7.5304e-04 - dense_5_mean_squared_error: 7.5103e-04 - dense_6_mean_squared_error: 7.5996e-04 - dense_7_mean_squared_error: 7.5160e-04 - val_loss: 0.1735 - val_dense_4_loss: 0.0146 - val_dense_5_loss: 0.0186 - val_dense_6_loss: 0.0050 - val_dense_7_loss: 0.0594 - val_dense_4_mean_squared_error: 0.0291 - val_dense_5_mean_squared_error: 0.0371 - val_dense_6_mean_squared_error: 0.0099 - val_dense_7_mean_squared_error: 0.1187\n",
      "Epoch 70/70\n",
      "17/17 [==============================] - 4s 215ms/step - loss: 0.0775 - dense_4_loss: 4.1204e-04 - dense_5_loss: 4.1909e-04 - dense_6_loss: 4.0200e-04 - dense_7_loss: 4.0016e-04 - dense_4_mean_squared_error: 8.2408e-04 - dense_5_mean_squared_error: 8.3818e-04 - dense_6_mean_squared_error: 8.0401e-04 - dense_7_mean_squared_error: 8.0031e-04 - val_loss: 0.0777 - val_dense_4_loss: 5.1851e-04 - val_dense_5_loss: 5.2786e-04 - val_dense_6_loss: 5.3136e-04 - val_dense_7_loss: 5.9863e-04 - val_dense_4_mean_squared_error: 0.0010 - val_dense_5_mean_squared_error: 0.0011 - val_dense_6_mean_squared_error: 0.0011 - val_dense_7_mean_squared_error: 0.0012\n"
     ]
    }
   ],
   "source": [
    "l = model.fit(\n",
    "    x_train, y_train_n , batch_size=10 , steps_per_epoch=len(x_train)//10,\n",
    "    validation_data=(x_test, y_test_n)  , \n",
    "    epochs = 70 , verbose = 1  )"
   ]
  },
  {
   "cell_type": "code",
   "execution_count": 22,
   "metadata": {},
   "outputs": [
    {
     "data": {
      "image/png": "[encoded data removed]",
      "text/plain": [
       "<Figure size 640x480 with 1 Axes>"
      ]
     },
     "metadata": {},
     "output_type": "display_data"
    }
   ],
   "source": [
    "d1 = np.asanyarray(l.history['loss'])\n",
    "d2 = np.asanyarray(l.history['val_loss'])\n",
    "plt.plot(np.sort(d1/max(d1))[::-1] ,  label = 'train, Push-P')\n",
    "plt.plot(np.sort(d2/max(d2))[::-1] ,label = 'test, Push-P')\n",
    "plt.ylim([0, 1])\n",
    "plt.grid()\n",
    "plt.legend()\n",
    "plt.savefig(\"regression-push-p.SVG\" , dpi = 2400)\n",
    "plt.show()"
   ]
  },
  {
   "cell_type": "code",
   "execution_count": 24,
   "metadata": {},
   "outputs": [
    {
     "name": "stderr",
     "output_type": "stream",
     "text": [
      "/var/folders/f5/0zxl9sdd2pgfq6v24qf62qlm0000gn/T/ipykernel_7054/1955221155.py:11: DataConversionWarning: A column-vector y was passed when a 1d array was expected. Please change the shape of y to (n_samples,), for example using ravel().\n",
      "  reg = forest.fit(x_t_svm ,y_svm_train )\n"
     ]
    },
    {
     "data": {
      "text/plain": [
       "-8.517692379500499"
      ]
     },
     "execution_count": 24,
     "metadata": {},
     "output_type": "execute_result"
    }
   ],
   "source": [
    "\n",
    "x_t_svm = rgb2gray(x_train)\n",
    "x_v_svm = rgb2gray(x_test)\n",
    "x_t_svm = x_t_svm.reshape(len(x_t_svm) , -1)\n",
    "x_v_svm = x_v_svm.reshape(len(x_v_svm) , -1)\n",
    "y_svm_train = np.sqrt(np.square(y_1_train)  +np.square(y_2_train) +np.square(y_3_train)+np.square(y_4_train))\n",
    "y_svm_test= np.sqrt(np.square(y_1_test)  +np.square(y_2_test) +np.square(y_3_test)+np.square(y_4_test))\n",
    "\n",
    "from sklearn.ensemble import RandomForestRegressor\n",
    "\n",
    "forest = RandomForestRegressor()\n",
    "reg = forest.fit(x_t_svm ,y_svm_train )\n",
    "pred_2 = reg.predict(x_v_svm)\n",
    "1 - np.sum(np.abs(y_svm_test-pred_2))"
   ]
  },
  {
   "cell_type": "code",
   "execution_count": 25,
   "metadata": {},
   "outputs": [
    {
     "name": "stderr",
     "output_type": "stream",
     "text": [
      "/Users/ehsan_frtn/anaconda3/lib/python3.10/site-packages/sklearn/utils/validation.py:1143: DataConversionWarning: A column-vector y was passed when a 1d array was expected. Please change the shape of y to (n_samples, ), for example using ravel().\n",
      "  y = column_or_1d(y, warn=True)\n"
     ]
    },
    {
     "data": {
      "text/plain": [
       "-16.196200559877603"
      ]
     },
     "execution_count": 25,
     "metadata": {},
     "output_type": "execute_result"
    }
   ],
   "source": [
    "from sklearn.svm import SVR\n",
    "\n",
    "svr = SVR(kernel = 'poly')\n",
    "reg = svr.fit(x_t_svm ,y_svm_train)\n",
    "\n",
    "pred_2 = reg.predict(x_v_svm)\n",
    "1 - np.sum(np.abs(y_svm_test-pred_2))"
   ]
  },
  {
   "cell_type": "code",
   "execution_count": 26,
   "metadata": {},
   "outputs": [
    {
     "name": "stdout",
     "output_type": "stream",
     "text": [
      "1/1 [==============================] - 0s 82ms/step\n"
     ]
    },
    {
     "data": {
      "text/plain": [
       "0.6741429343751695"
      ]
     },
     "execution_count": 26,
     "metadata": {},
     "output_type": "execute_result"
    }
   ],
   "source": [
    "pred = model.predict(x_test)\n",
    "compare_pred = np.sqrt(np.square(pred[0]) + np.square(pred[1]) + np.square(pred[2]) + np.square(pred[3]))\n",
    "1 - np.sum(np.abs(y_svm_test-compare_pred))"
   ]
  },
  {
   "cell_type": "code",
   "execution_count": 27,
   "metadata": {},
   "outputs": [
    {
     "data": {
      "text/plain": [
       "-0.18163889618475326"
      ]
     },
     "execution_count": 27,
     "metadata": {},
     "output_type": "execute_result"
    }
   ],
   "source": [
    "from sklearn.metrics import r2_score\n",
    "\n",
    "r2_score(y_svm_test ,compare_pred )"
   ]
  },
  {
   "cell_type": "code",
   "execution_count": 28,
   "metadata": {},
   "outputs": [
    {
     "data": {
      "text/plain": [
       "-0.7798270153843958"
      ]
     },
     "execution_count": 28,
     "metadata": {},
     "output_type": "execute_result"
    }
   ],
   "source": [
    "r2_score(y_svm_test ,pred_2 )\n",
    "#for SVM"
   ]
  },
  {
   "cell_type": "code",
   "execution_count": 29,
   "metadata": {},
   "outputs": [
    {
     "data": {
      "text/plain": [
       "-0.7798270153843958"
      ]
     },
     "execution_count": 29,
     "metadata": {},
     "output_type": "execute_result"
    }
   ],
   "source": [
    "r2_score(y_svm_test ,pred_2 )"
   ]
  },
  {
   "cell_type": "code",
   "execution_count": 30,
   "metadata": {},
   "outputs": [],
   "source": [
    "del forest"
   ]
  },
  {
   "cell_type": "code",
   "execution_count": 45,
   "metadata": {},
   "outputs": [
    {
     "name": "stderr",
     "output_type": "stream",
     "text": [
      "/Users/ehsan_frtn/anaconda3/lib/python3.10/site-packages/keras/src/engine/training.py:3000: UserWarning: You are saving your model as an HDF5 file via `model.save()`. This file format is considered legacy. We recommend using instead the native Keras format, e.g. `model.save('my_model.keras')`.\n",
      "  saving_api.save_model(\n"
     ]
    }
   ],
   "source": [
    "model.save(\"motion_detector_push_p.h5\")"
   ]
  },
  {
   "cell_type": "markdown",
   "metadata": {},
   "source": [
    "## For P-joint"
   ]
  },
  {
   "cell_type": "code",
   "execution_count": 31,
   "metadata": {},
   "outputs": [
    {
     "name": "stderr",
     "output_type": "stream",
     "text": [
      "WARNING:absl:At this time, the v2.11+ optimizer `tf.keras.optimizers.Adam` runs slowly on M1/M2 Macs, please use the legacy Keras optimizer instead, located at `tf.keras.optimizers.legacy.Adam`.\n",
      "WARNING:absl:There is a known slowdown when using v2.11+ Keras optimizers on M1/M2 Macs. Falling back to the legacy Keras optimizer, i.e., `tf.keras.optimizers.legacy.Adam`.\n"
     ]
    },
    {
     "name": "stdout",
     "output_type": "stream",
     "text": [
      "Model: \"model\"\n",
      "__________________________________________________________________________________________________\n",
      " Layer (type)                Output Shape                 Param #   Connected to                  \n",
      "==================================================================================================\n",
      " input (InputLayer)          [(None, 224, 224, 3)]        0         []                            \n",
      "                                                                                                  \n",
      " conv2d (Conv2D)             (None, 222, 222, 128)        3584      ['input[0][0]']               \n",
      "                                                                                                  \n",
      " dropout (Dropout)           (None, 222, 222, 128)        0         ['conv2d[0][0]']              \n",
      "                                                                                                  \n",
      " conv2d_1 (Conv2D)           (None, 220, 220, 128)        147584    ['dropout[0][0]']             \n",
      "                                                                                                  \n",
      " batch_normalization (Batch  (None, 220, 220, 128)        512       ['conv2d_1[0][0]']            \n",
      " Normalization)                                                                                   \n",
      "                                                                                                  \n",
      " max_pooling2d (MaxPooling2  (None, 110, 110, 128)        0         ['batch_normalization[0][0]'] \n",
      " D)                                                                                               \n",
      "                                                                                                  \n",
      " conv2d_2 (Conv2D)           (None, 108, 108, 96)         110688    ['max_pooling2d[0][0]']       \n",
      "                                                                                                  \n",
      " dropout_1 (Dropout)         (None, 108, 108, 96)         0         ['conv2d_2[0][0]']            \n",
      "                                                                                                  \n",
      " conv2d_3 (Conv2D)           (None, 106, 106, 96)         83040     ['dropout_1[0][0]']           \n",
      "                                                                                                  \n",
      " batch_normalization_1 (Bat  (None, 106, 106, 96)         384       ['conv2d_3[0][0]']            \n",
      " chNormalization)                                                                                 \n",
      "                                                                                                  \n",
      " max_pooling2d_1 (MaxPoolin  (None, 53, 53, 96)           0         ['batch_normalization_1[0][0]'\n",
      " g2D)                                                               ]                             \n",
      "                                                                                                  \n",
      " conv2d_4 (Conv2D)           (None, 51, 51, 64)           55360     ['max_pooling2d_1[0][0]']     \n",
      "                                                                                                  \n",
      " dropout_2 (Dropout)         (None, 51, 51, 64)           0         ['conv2d_4[0][0]']            \n",
      "                                                                                                  \n",
      " conv2d_5 (Conv2D)           (None, 49, 49, 64)           36928     ['dropout_2[0][0]']           \n",
      "                                                                                                  \n",
      " batch_normalization_2 (Bat  (None, 49, 49, 64)           256       ['conv2d_5[0][0]']            \n",
      " chNormalization)                                                                                 \n",
      "                                                                                                  \n",
      " max_pooling2d_2 (MaxPoolin  (None, 24, 24, 64)           0         ['batch_normalization_2[0][0]'\n",
      " g2D)                                                               ]                             \n",
      "                                                                                                  \n",
      " conv2d_6 (Conv2D)           (None, 22, 22, 64)           36928     ['max_pooling2d_2[0][0]']     \n",
      "                                                                                                  \n",
      " dropout_3 (Dropout)         (None, 22, 22, 64)           0         ['conv2d_6[0][0]']            \n",
      "                                                                                                  \n",
      " conv2d_7 (Conv2D)           (None, 20, 20, 64)           36928     ['dropout_3[0][0]']           \n",
      "                                                                                                  \n",
      " batch_normalization_3 (Bat  (None, 20, 20, 64)           256       ['conv2d_7[0][0]']            \n",
      " chNormalization)                                                                                 \n",
      "                                                                                                  \n",
      " max_pooling2d_3 (MaxPoolin  (None, 10, 10, 64)           0         ['batch_normalization_3[0][0]'\n",
      " g2D)                                                               ]                             \n",
      "                                                                                                  \n",
      " conv2d_8 (Conv2D)           (None, 8, 8, 32)             18464     ['max_pooling2d_3[0][0]']     \n",
      "                                                                                                  \n",
      " dropout_4 (Dropout)         (None, 8, 8, 32)             0         ['conv2d_8[0][0]']            \n",
      "                                                                                                  \n",
      " conv2d_9 (Conv2D)           (None, 6, 6, 32)             9248      ['dropout_4[0][0]']           \n",
      "                                                                                                  \n",
      " batch_normalization_4 (Bat  (None, 6, 6, 32)             128       ['conv2d_9[0][0]']            \n",
      " chNormalization)                                                                                 \n",
      "                                                                                                  \n",
      " max_pooling2d_4 (MaxPoolin  (None, 3, 3, 32)             0         ['batch_normalization_4[0][0]'\n",
      " g2D)                                                               ]                             \n",
      "                                                                                                  \n",
      " flatten (Flatten)           (None, 288)                  0         ['max_pooling2d_4[0][0]']     \n",
      "                                                                                                  \n",
      " dense (Dense)               (None, 32)                   9248      ['flatten[0][0]']             \n",
      "                                                                                                  \n",
      " dense_1 (Dense)             (None, 32)                   9248      ['flatten[0][0]']             \n",
      "                                                                                                  \n",
      " dense_2 (Dense)             (None, 32)                   9248      ['flatten[0][0]']             \n",
      "                                                                                                  \n",
      " dense_3 (Dense)             (None, 32)                   9248      ['flatten[0][0]']             \n",
      "                                                                                                  \n",
      " dropout_5 (Dropout)         (None, 32)                   0         ['dense[0][0]']               \n",
      "                                                                                                  \n",
      " dropout_6 (Dropout)         (None, 32)                   0         ['dense_1[0][0]']             \n",
      "                                                                                                  \n",
      " dropout_7 (Dropout)         (None, 32)                   0         ['dense_2[0][0]']             \n",
      "                                                                                                  \n",
      " dropout_8 (Dropout)         (None, 32)                   0         ['dense_3[0][0]']             \n",
      "                                                                                                  \n",
      " dense_4 (Dense)             (None, 1)                    33        ['dropout_5[0][0]']           \n",
      "                                                                                                  \n",
      " dense_5 (Dense)             (None, 1)                    33        ['dropout_6[0][0]']           \n",
      "                                                                                                  \n",
      " dense_6 (Dense)             (None, 1)                    33        ['dropout_7[0][0]']           \n",
      "                                                                                                  \n",
      " dense_7 (Dense)             (None, 1)                    33        ['dropout_8[0][0]']           \n",
      "                                                                                                  \n",
      "==================================================================================================\n",
      "Total params: 577412 (2.20 MB)\n",
      "Trainable params: 576644 (2.20 MB)\n",
      "Non-trainable params: 768 (3.00 KB)\n",
      "__________________________________________________________________________________________________\n"
     ]
    }
   ],
   "source": [
    "\n",
    "x_train , x_test , y_train , y_test = train_test_split(mm[200:399] , y[200:399]/1000 , test_size=0.1 ,random_state=5)\n",
    "\n",
    "model.compile(optimizer=keras.optimizers.Adam(), loss=keras.losses.huber, metrics=[keras.metrics.mse] )\n",
    "model.summary()"
   ]
  },
  {
   "cell_type": "code",
   "execution_count": 32,
   "metadata": {},
   "outputs": [],
   "source": [
    "y_1_train, y_2_train , y_3_train , y_4_train = tf.split(y_train, num_or_size_splits=4, axis=1)\n",
    "\n",
    "y_1_test, y_2_test , y_3_test , y_4_test = tf.split(y_test, num_or_size_splits=4, axis=1)\n",
    "y_1_train.set_shape((len(y_1_train) ,1))\n",
    "y_2_train.set_shape((len(y_1_train) ,1))\n",
    "y_3_train.set_shape((len(y_1_train) ,1))\n",
    "y_4_train.set_shape((len(y_1_train)  ,1))\n",
    "\n",
    "y_1_test.set_shape((len(y_1_test)  ,1))\n",
    "y_2_test.set_shape((len(y_1_test) ,1))\n",
    "y_3_test.set_shape((len(y_1_test) ,1))\n",
    "y_4_test.set_shape((len(y_1_test)  ,1))\n",
    "\n",
    "y_train_n = np.append(y_1_train , y_2_train ,axis=1)\n",
    "y_train_n = np.append(y_train_n , y_3_train ,axis=1)\n",
    "y_train_n = np.append(y_train_n , y_4_train ,axis=1)\n",
    "\n",
    "y_test_n = np.append(y_1_test , y_2_test ,axis=1)\n",
    "y_test_n = np.append(y_test_n , y_3_test ,axis=1)\n",
    "y_test_n = np.append(y_test_n , y_4_test ,axis=1)\n",
    "\n",
    "y_train_n = y_train_n.reshape(len(y_train_n) , 4)\n",
    "y_test_n = y_test_n.reshape(len(y_test_n) , 4)"
   ]
  },
  {
   "cell_type": "code",
   "execution_count": 33,
   "metadata": {},
   "outputs": [
    {
     "name": "stdout",
     "output_type": "stream",
     "text": [
      "Epoch 1/70\n"
     ]
    },
    {
     "name": "stderr",
     "output_type": "stream",
     "text": [
      "2023-09-26 12:26:23.185033: I tensorflow/core/grappler/optimizers/custom_graph_optimizer_registry.cc:114] Plugin optimizer for device_type GPU is enabled.\n"
     ]
    },
    {
     "name": "stdout",
     "output_type": "stream",
     "text": [
      "17/17 [==============================] - ETA: 0s - loss: 0.0599 - dense_4_loss: 7.5469e-04 - dense_5_loss: 7.7354e-04 - dense_6_loss: 7.6415e-04 - dense_7_loss: 7.6710e-04 - dense_4_mean_squared_error: 0.0015 - dense_5_mean_squared_error: 0.0015 - dense_6_mean_squared_error: 0.0015 - dense_7_mean_squared_error: 0.0015"
     ]
    },
    {
     "name": "stderr",
     "output_type": "stream",
     "text": [
      "2023-09-26 12:26:28.835138: I tensorflow/core/grappler/optimizers/custom_graph_optimizer_registry.cc:114] Plugin optimizer for device_type GPU is enabled.\n"
     ]
    },
    {
     "name": "stdout",
     "output_type": "stream",
     "text": [
      "17/17 [==============================] - 7s 281ms/step - loss: 0.0599 - dense_4_loss: 7.5469e-04 - dense_5_loss: 7.7354e-04 - dense_6_loss: 7.6415e-04 - dense_7_loss: 7.6710e-04 - dense_4_mean_squared_error: 0.0015 - dense_5_mean_squared_error: 0.0015 - dense_6_mean_squared_error: 0.0015 - dense_7_mean_squared_error: 0.0015 - val_loss: 0.0879 - val_dense_4_loss: 0.0044 - val_dense_5_loss: 0.0023 - val_dense_6_loss: 0.0046 - val_dense_7_loss: 0.0170 - val_dense_4_mean_squared_error: 0.0087 - val_dense_5_mean_squared_error: 0.0047 - val_dense_6_mean_squared_error: 0.0093 - val_dense_7_mean_squared_error: 0.0339\n",
      "Epoch 2/70\n",
      "17/17 [==============================] - 5s 232ms/step - loss: 0.0411 - dense_4_loss: 6.7214e-04 - dense_5_loss: 6.8679e-04 - dense_6_loss: 6.9071e-04 - dense_7_loss: 6.7871e-04 - dense_4_mean_squared_error: 0.0013 - dense_5_mean_squared_error: 0.0014 - dense_6_mean_squared_error: 0.0014 - dense_7_mean_squared_error: 0.0014 - val_loss: 0.0487 - val_dense_4_loss: 5.9685e-04 - val_dense_5_loss: 5.7103e-04 - val_dense_6_loss: 0.0011 - val_dense_7_loss: 0.0013 - val_dense_4_mean_squared_error: 0.0012 - val_dense_5_mean_squared_error: 0.0011 - val_dense_6_mean_squared_error: 0.0022 - val_dense_7_mean_squared_error: 0.0026\n",
      "Epoch 3/70\n",
      "17/17 [==============================] - 4s 227ms/step - loss: 0.0387 - dense_4_loss: 6.7787e-04 - dense_5_loss: 6.7710e-04 - dense_6_loss: 6.7085e-04 - dense_7_loss: 6.7457e-04 - dense_4_mean_squared_error: 0.0014 - dense_5_mean_squared_error: 0.0014 - dense_6_mean_squared_error: 0.0013 - dense_7_mean_squared_error: 0.0013 - val_loss: 0.0344 - val_dense_4_loss: 0.0024 - val_dense_5_loss: 7.1671e-04 - val_dense_6_loss: 0.0016 - val_dense_7_loss: 8.7710e-04 - val_dense_4_mean_squared_error: 0.0047 - val_dense_5_mean_squared_error: 0.0014 - val_dense_6_mean_squared_error: 0.0032 - val_dense_7_mean_squared_error: 0.0018\n",
      "Epoch 4/70\n",
      "17/17 [==============================] - 4s 228ms/step - loss: 0.0398 - dense_4_loss: 7.0519e-04 - dense_5_loss: 7.0275e-04 - dense_6_loss: 7.0450e-04 - dense_7_loss: 6.9978e-04 - dense_4_mean_squared_error: 0.0014 - dense_5_mean_squared_error: 0.0014 - dense_6_mean_squared_error: 0.0014 - dense_7_mean_squared_error: 0.0014 - val_loss: 0.0166 - val_dense_4_loss: 0.0011 - val_dense_5_loss: 6.4374e-04 - val_dense_6_loss: 0.0014 - val_dense_7_loss: 7.5883e-04 - val_dense_4_mean_squared_error: 0.0021 - val_dense_5_mean_squared_error: 0.0013 - val_dense_6_mean_squared_error: 0.0027 - val_dense_7_mean_squared_error: 0.0015\n",
      "Epoch 5/70\n",
      "17/17 [==============================] - 4s 212ms/step - loss: 0.0375 - dense_4_loss: 7.0338e-04 - dense_5_loss: 7.1583e-04 - dense_6_loss: 7.0509e-04 - dense_7_loss: 7.0103e-04 - dense_4_mean_squared_error: 0.0014 - dense_5_mean_squared_error: 0.0014 - dense_6_mean_squared_error: 0.0014 - dense_7_mean_squared_error: 0.0014 - val_loss: 0.0361 - val_dense_4_loss: 0.0015 - val_dense_5_loss: 0.0010 - val_dense_6_loss: 0.0019 - val_dense_7_loss: 8.1483e-04 - val_dense_4_mean_squared_error: 0.0030 - val_dense_5_mean_squared_error: 0.0020 - val_dense_6_mean_squared_error: 0.0038 - val_dense_7_mean_squared_error: 0.0016\n",
      "Epoch 6/70\n",
      "17/17 [==============================] - 4s 213ms/step - loss: 0.0371 - dense_4_loss: 6.6700e-04 - dense_5_loss: 6.7492e-04 - dense_6_loss: 6.6943e-04 - dense_7_loss: 6.6579e-04 - dense_4_mean_squared_error: 0.0013 - dense_5_mean_squared_error: 0.0013 - dense_6_mean_squared_error: 0.0013 - dense_7_mean_squared_error: 0.0013 - val_loss: 0.0502 - val_dense_4_loss: 6.7437e-04 - val_dense_5_loss: 8.8059e-04 - val_dense_6_loss: 8.9100e-04 - val_dense_7_loss: 5.7909e-04 - val_dense_4_mean_squared_error: 0.0013 - val_dense_5_mean_squared_error: 0.0018 - val_dense_6_mean_squared_error: 0.0018 - val_dense_7_mean_squared_error: 0.0012\n",
      "Epoch 7/70\n",
      "17/17 [==============================] - 4s 218ms/step - loss: 0.0368 - dense_4_loss: 6.6212e-04 - dense_5_loss: 6.6103e-04 - dense_6_loss: 6.6145e-04 - dense_7_loss: 6.6190e-04 - dense_4_mean_squared_error: 0.0013 - dense_5_mean_squared_error: 0.0013 - dense_6_mean_squared_error: 0.0013 - dense_7_mean_squared_error: 0.0013 - val_loss: 0.0479 - val_dense_4_loss: 5.8607e-04 - val_dense_5_loss: 5.7094e-04 - val_dense_6_loss: 5.7177e-04 - val_dense_7_loss: 5.8814e-04 - val_dense_4_mean_squared_error: 0.0012 - val_dense_5_mean_squared_error: 0.0011 - val_dense_6_mean_squared_error: 0.0011 - val_dense_7_mean_squared_error: 0.0012\n",
      "Epoch 8/70\n",
      "17/17 [==============================] - 4s 214ms/step - loss: 0.0368 - dense_4_loss: 7.2740e-04 - dense_5_loss: 7.2550e-04 - dense_6_loss: 7.2753e-04 - dense_7_loss: 7.2600e-04 - dense_4_mean_squared_error: 0.0015 - dense_5_mean_squared_error: 0.0015 - dense_6_mean_squared_error: 0.0015 - dense_7_mean_squared_error: 0.0015 - val_loss: 0.0506 - val_dense_4_loss: 0.0023 - val_dense_5_loss: 9.4933e-04 - val_dense_6_loss: 0.0011 - val_dense_7_loss: 5.6923e-04 - val_dense_4_mean_squared_error: 0.0046 - val_dense_5_mean_squared_error: 0.0019 - val_dense_6_mean_squared_error: 0.0022 - val_dense_7_mean_squared_error: 0.0011\n",
      "Epoch 9/70\n",
      "17/17 [==============================] - 4s 238ms/step - loss: 0.0383 - dense_4_loss: 6.1886e-04 - dense_5_loss: 6.1921e-04 - dense_6_loss: 6.1829e-04 - dense_7_loss: 6.1894e-04 - dense_4_mean_squared_error: 0.0012 - dense_5_mean_squared_error: 0.0012 - dense_6_mean_squared_error: 0.0012 - dense_7_mean_squared_error: 0.0012 - val_loss: 0.0314 - val_dense_4_loss: 0.0011 - val_dense_5_loss: 7.8030e-04 - val_dense_6_loss: 9.7629e-04 - val_dense_7_loss: 5.8442e-04 - val_dense_4_mean_squared_error: 0.0023 - val_dense_5_mean_squared_error: 0.0016 - val_dense_6_mean_squared_error: 0.0020 - val_dense_7_mean_squared_error: 0.0012\n",
      "Epoch 10/70\n",
      "17/17 [==============================] - 4s 233ms/step - loss: 0.0386 - dense_4_loss: 6.7503e-04 - dense_5_loss: 6.7430e-04 - dense_6_loss: 6.7265e-04 - dense_7_loss: 6.7252e-04 - dense_4_mean_squared_error: 0.0014 - dense_5_mean_squared_error: 0.0013 - dense_6_mean_squared_error: 0.0013 - dense_7_mean_squared_error: 0.0013 - val_loss: 0.0154 - val_dense_4_loss: 0.0015 - val_dense_5_loss: 0.0013 - val_dense_6_loss: 0.0012 - val_dense_7_loss: 5.9430e-04 - val_dense_4_mean_squared_error: 0.0030 - val_dense_5_mean_squared_error: 0.0026 - val_dense_6_mean_squared_error: 0.0024 - val_dense_7_mean_squared_error: 0.0012\n",
      "Epoch 11/70\n",
      "17/17 [==============================] - 4s 211ms/step - loss: 0.0384 - dense_4_loss: 7.0253e-04 - dense_5_loss: 7.0434e-04 - dense_6_loss: 7.0223e-04 - dense_7_loss: 7.0273e-04 - dense_4_mean_squared_error: 0.0014 - dense_5_mean_squared_error: 0.0014 - dense_6_mean_squared_error: 0.0014 - dense_7_mean_squared_error: 0.0014 - val_loss: 0.0388 - val_dense_4_loss: 0.0030 - val_dense_5_loss: 9.5605e-04 - val_dense_6_loss: 0.0018 - val_dense_7_loss: 5.7664e-04 - val_dense_4_mean_squared_error: 0.0060 - val_dense_5_mean_squared_error: 0.0019 - val_dense_6_mean_squared_error: 0.0037 - val_dense_7_mean_squared_error: 0.0012\n",
      "Epoch 12/70\n",
      "17/17 [==============================] - 4s 209ms/step - loss: 0.0371 - dense_4_loss: 7.2494e-04 - dense_5_loss: 7.2663e-04 - dense_6_loss: 7.2274e-04 - dense_7_loss: 7.2292e-04 - dense_4_mean_squared_error: 0.0014 - dense_5_mean_squared_error: 0.0015 - dense_6_mean_squared_error: 0.0014 - dense_7_mean_squared_error: 0.0014 - val_loss: 0.0715 - val_dense_4_loss: 0.0140 - val_dense_5_loss: 0.0041 - val_dense_6_loss: 0.0088 - val_dense_7_loss: 9.3556e-04 - val_dense_4_mean_squared_error: 0.0281 - val_dense_5_mean_squared_error: 0.0082 - val_dense_6_mean_squared_error: 0.0175 - val_dense_7_mean_squared_error: 0.0019\n",
      "Epoch 13/70\n",
      "17/17 [==============================] - 4s 211ms/step - loss: 0.0376 - dense_4_loss: 6.8528e-04 - dense_5_loss: 6.8935e-04 - dense_6_loss: 6.8543e-04 - dense_7_loss: 6.9092e-04 - dense_4_mean_squared_error: 0.0014 - dense_5_mean_squared_error: 0.0014 - dense_6_mean_squared_error: 0.0014 - dense_7_mean_squared_error: 0.0014 - val_loss: 0.0558 - val_dense_4_loss: 5.7775e-04 - val_dense_5_loss: 6.7813e-04 - val_dense_6_loss: 0.0014 - val_dense_7_loss: 5.5568e-04 - val_dense_4_mean_squared_error: 0.0012 - val_dense_5_mean_squared_error: 0.0014 - val_dense_6_mean_squared_error: 0.0027 - val_dense_7_mean_squared_error: 0.0011\n",
      "Epoch 14/70\n",
      "17/17 [==============================] - 4s 210ms/step - loss: 0.0377 - dense_4_loss: 6.4332e-04 - dense_5_loss: 6.4681e-04 - dense_6_loss: 6.4578e-04 - dense_7_loss: 6.4260e-04 - dense_4_mean_squared_error: 0.0013 - dense_5_mean_squared_error: 0.0013 - dense_6_mean_squared_error: 0.0013 - dense_7_mean_squared_error: 0.0013 - val_loss: 0.0469 - val_dense_4_loss: 7.2306e-04 - val_dense_5_loss: 8.1315e-04 - val_dense_6_loss: 0.0013 - val_dense_7_loss: 6.8450e-04 - val_dense_4_mean_squared_error: 0.0014 - val_dense_5_mean_squared_error: 0.0016 - val_dense_6_mean_squared_error: 0.0026 - val_dense_7_mean_squared_error: 0.0014\n",
      "Epoch 15/70\n",
      "17/17 [==============================] - 4s 212ms/step - loss: 0.0378 - dense_4_loss: 6.7821e-04 - dense_5_loss: 6.8007e-04 - dense_6_loss: 6.7934e-04 - dense_7_loss: 6.7710e-04 - dense_4_mean_squared_error: 0.0014 - dense_5_mean_squared_error: 0.0014 - dense_6_mean_squared_error: 0.0014 - dense_7_mean_squared_error: 0.0014 - val_loss: 0.0304 - val_dense_4_loss: 6.2197e-04 - val_dense_5_loss: 6.0414e-04 - val_dense_6_loss: 5.8239e-04 - val_dense_7_loss: 5.7220e-04 - val_dense_4_mean_squared_error: 0.0012 - val_dense_5_mean_squared_error: 0.0012 - val_dense_6_mean_squared_error: 0.0012 - val_dense_7_mean_squared_error: 0.0011\n",
      "Epoch 16/70\n",
      "17/17 [==============================] - 4s 220ms/step - loss: 0.0393 - dense_4_loss: 6.5482e-04 - dense_5_loss: 6.5688e-04 - dense_6_loss: 6.5646e-04 - dense_7_loss: 6.5309e-04 - dense_4_mean_squared_error: 0.0013 - dense_5_mean_squared_error: 0.0013 - dense_6_mean_squared_error: 0.0013 - dense_7_mean_squared_error: 0.0013 - val_loss: 0.0148 - val_dense_4_loss: 6.6963e-04 - val_dense_5_loss: 5.7494e-04 - val_dense_6_loss: 5.6903e-04 - val_dense_7_loss: 5.6773e-04 - val_dense_4_mean_squared_error: 0.0013 - val_dense_5_mean_squared_error: 0.0011 - val_dense_6_mean_squared_error: 0.0011 - val_dense_7_mean_squared_error: 0.0011\n",
      "Epoch 17/70\n",
      "17/17 [==============================] - 4s 222ms/step - loss: 0.0376 - dense_4_loss: 6.8156e-04 - dense_5_loss: 6.7947e-04 - dense_6_loss: 6.7956e-04 - dense_7_loss: 6.7520e-04 - dense_4_mean_squared_error: 0.0014 - dense_5_mean_squared_error: 0.0014 - dense_6_mean_squared_error: 0.0014 - dense_7_mean_squared_error: 0.0014 - val_loss: 0.0347 - val_dense_4_loss: 5.6687e-04 - val_dense_5_loss: 5.5691e-04 - val_dense_6_loss: 5.6830e-04 - val_dense_7_loss: 5.6335e-04 - val_dense_4_mean_squared_error: 0.0011 - val_dense_5_mean_squared_error: 0.0011 - val_dense_6_mean_squared_error: 0.0011 - val_dense_7_mean_squared_error: 0.0011\n",
      "Epoch 18/70\n",
      "17/17 [==============================] - 4s 209ms/step - loss: 0.0372 - dense_4_loss: 6.8655e-04 - dense_5_loss: 6.8525e-04 - dense_6_loss: 6.8265e-04 - dense_7_loss: 6.8305e-04 - dense_4_mean_squared_error: 0.0014 - dense_5_mean_squared_error: 0.0014 - dense_6_mean_squared_error: 0.0014 - dense_7_mean_squared_error: 0.0014 - val_loss: 0.0494 - val_dense_4_loss: 5.7367e-04 - val_dense_5_loss: 5.6462e-04 - val_dense_6_loss: 5.6824e-04 - val_dense_7_loss: 5.6802e-04 - val_dense_4_mean_squared_error: 0.0011 - val_dense_5_mean_squared_error: 0.0011 - val_dense_6_mean_squared_error: 0.0011 - val_dense_7_mean_squared_error: 0.0011\n",
      "Epoch 19/70\n",
      "17/17 [==============================] - 4s 209ms/step - loss: 0.0370 - dense_4_loss: 6.8023e-04 - dense_5_loss: 6.8034e-04 - dense_6_loss: 6.7968e-04 - dense_7_loss: 6.7803e-04 - dense_4_mean_squared_error: 0.0014 - dense_5_mean_squared_error: 0.0014 - dense_6_mean_squared_error: 0.0014 - dense_7_mean_squared_error: 0.0014 - val_loss: 0.0490 - val_dense_4_loss: 5.6800e-04 - val_dense_5_loss: 5.6401e-04 - val_dense_6_loss: 5.6848e-04 - val_dense_7_loss: 5.6803e-04 - val_dense_4_mean_squared_error: 0.0011 - val_dense_5_mean_squared_error: 0.0011 - val_dense_6_mean_squared_error: 0.0011 - val_dense_7_mean_squared_error: 0.0011\n",
      "Epoch 20/70\n",
      "17/17 [==============================] - 4s 209ms/step - loss: 0.0368 - dense_4_loss: 6.8923e-04 - dense_5_loss: 6.8852e-04 - dense_6_loss: 6.8668e-04 - dense_7_loss: 6.8631e-04 - dense_4_mean_squared_error: 0.0014 - dense_5_mean_squared_error: 0.0014 - dense_6_mean_squared_error: 0.0014 - dense_7_mean_squared_error: 0.0014 - val_loss: 0.0469 - val_dense_4_loss: 6.3780e-04 - val_dense_5_loss: 5.7636e-04 - val_dense_6_loss: 5.6935e-04 - val_dense_7_loss: 5.8384e-04 - val_dense_4_mean_squared_error: 0.0013 - val_dense_5_mean_squared_error: 0.0012 - val_dense_6_mean_squared_error: 0.0011 - val_dense_7_mean_squared_error: 0.0012\n",
      "Epoch 21/70\n",
      "17/17 [==============================] - 4s 211ms/step - loss: 0.0382 - dense_4_loss: 6.7066e-04 - dense_5_loss: 6.6945e-04 - dense_6_loss: 6.6720e-04 - dense_7_loss: 6.6872e-04 - dense_4_mean_squared_error: 0.0013 - dense_5_mean_squared_error: 0.0013 - dense_6_mean_squared_error: 0.0013 - dense_7_mean_squared_error: 0.0013 - val_loss: 0.0306 - val_dense_4_loss: 5.7227e-04 - val_dense_5_loss: 6.0475e-04 - val_dense_6_loss: 5.7269e-04 - val_dense_7_loss: 5.7733e-04 - val_dense_4_mean_squared_error: 0.0011 - val_dense_5_mean_squared_error: 0.0012 - val_dense_6_mean_squared_error: 0.0011 - val_dense_7_mean_squared_error: 0.0012\n",
      "Epoch 22/70\n",
      "17/17 [==============================] - 4s 212ms/step - loss: 0.0387 - dense_4_loss: 6.6502e-04 - dense_5_loss: 6.6685e-04 - dense_6_loss: 6.6730e-04 - dense_7_loss: 6.6081e-04 - dense_4_mean_squared_error: 0.0013 - dense_5_mean_squared_error: 0.0013 - dense_6_mean_squared_error: 0.0013 - dense_7_mean_squared_error: 0.0013 - val_loss: 0.0130 - val_dense_4_loss: 5.9870e-04 - val_dense_5_loss: 5.8260e-04 - val_dense_6_loss: 5.5751e-04 - val_dense_7_loss: 5.6573e-04 - val_dense_4_mean_squared_error: 0.0012 - val_dense_5_mean_squared_error: 0.0012 - val_dense_6_mean_squared_error: 0.0011 - val_dense_7_mean_squared_error: 0.0011\n",
      "Epoch 23/70\n",
      "17/17 [==============================] - 4s 209ms/step - loss: 0.0380 - dense_4_loss: 6.9288e-04 - dense_5_loss: 6.9231e-04 - dense_6_loss: 6.9072e-04 - dense_7_loss: 6.8978e-04 - dense_4_mean_squared_error: 0.0014 - dense_5_mean_squared_error: 0.0014 - dense_6_mean_squared_error: 0.0014 - dense_7_mean_squared_error: 0.0014 - val_loss: 0.0336 - val_dense_4_loss: 6.0169e-04 - val_dense_5_loss: 5.7118e-04 - val_dense_6_loss: 5.7549e-04 - val_dense_7_loss: 5.8735e-04 - val_dense_4_mean_squared_error: 0.0012 - val_dense_5_mean_squared_error: 0.0011 - val_dense_6_mean_squared_error: 0.0012 - val_dense_7_mean_squared_error: 0.0012\n",
      "Epoch 24/70\n",
      "17/17 [==============================] - 4s 210ms/step - loss: 0.0370 - dense_4_loss: 6.9107e-04 - dense_5_loss: 6.8950e-04 - dense_6_loss: 6.8839e-04 - dense_7_loss: 6.8787e-04 - dense_4_mean_squared_error: 0.0014 - dense_5_mean_squared_error: 0.0014 - dense_6_mean_squared_error: 0.0014 - dense_7_mean_squared_error: 0.0014 - val_loss: 0.0462 - val_dense_4_loss: 6.3118e-04 - val_dense_5_loss: 6.1729e-04 - val_dense_6_loss: 5.8431e-04 - val_dense_7_loss: 5.7557e-04 - val_dense_4_mean_squared_error: 0.0013 - val_dense_5_mean_squared_error: 0.0012 - val_dense_6_mean_squared_error: 0.0012 - val_dense_7_mean_squared_error: 0.0012\n",
      "Epoch 25/70\n",
      "17/17 [==============================] - 4s 222ms/step - loss: 0.0368 - dense_4_loss: 6.7219e-04 - dense_5_loss: 6.7305e-04 - dense_6_loss: 6.6859e-04 - dense_7_loss: 6.7025e-04 - dense_4_mean_squared_error: 0.0013 - dense_5_mean_squared_error: 0.0013 - dense_6_mean_squared_error: 0.0013 - dense_7_mean_squared_error: 0.0013 - val_loss: 0.0545 - val_dense_4_loss: 6.1716e-04 - val_dense_5_loss: 6.3701e-04 - val_dense_6_loss: 5.6127e-04 - val_dense_7_loss: 5.7844e-04 - val_dense_4_mean_squared_error: 0.0012 - val_dense_5_mean_squared_error: 0.0013 - val_dense_6_mean_squared_error: 0.0011 - val_dense_7_mean_squared_error: 0.0012\n",
      "Epoch 26/70\n",
      "17/17 [==============================] - 4s 209ms/step - loss: 0.0373 - dense_4_loss: 6.2984e-04 - dense_5_loss: 6.2536e-04 - dense_6_loss: 6.2618e-04 - dense_7_loss: 6.2670e-04 - dense_4_mean_squared_error: 0.0013 - dense_5_mean_squared_error: 0.0013 - dense_6_mean_squared_error: 0.0013 - dense_7_mean_squared_error: 0.0013 - val_loss: 0.0464 - val_dense_4_loss: 5.6739e-04 - val_dense_5_loss: 5.6511e-04 - val_dense_6_loss: 5.6823e-04 - val_dense_7_loss: 5.7342e-04 - val_dense_4_mean_squared_error: 0.0011 - val_dense_5_mean_squared_error: 0.0011 - val_dense_6_mean_squared_error: 0.0011 - val_dense_7_mean_squared_error: 0.0011\n",
      "Epoch 27/70\n",
      "17/17 [==============================] - 4s 214ms/step - loss: 0.0380 - dense_4_loss: 7.1824e-04 - dense_5_loss: 7.1924e-04 - dense_6_loss: 7.1592e-04 - dense_7_loss: 7.1774e-04 - dense_4_mean_squared_error: 0.0014 - dense_5_mean_squared_error: 0.0014 - dense_6_mean_squared_error: 0.0014 - dense_7_mean_squared_error: 0.0014 - val_loss: 0.0300 - val_dense_4_loss: 5.7271e-04 - val_dense_5_loss: 5.7034e-04 - val_dense_6_loss: 5.6859e-04 - val_dense_7_loss: 5.8108e-04 - val_dense_4_mean_squared_error: 0.0011 - val_dense_5_mean_squared_error: 0.0011 - val_dense_6_mean_squared_error: 0.0011 - val_dense_7_mean_squared_error: 0.0012\n",
      "Epoch 28/70\n",
      "17/17 [==============================] - 4s 234ms/step - loss: 0.0392 - dense_4_loss: 6.8339e-04 - dense_5_loss: 6.8654e-04 - dense_6_loss: 6.8388e-04 - dense_7_loss: 6.8240e-04 - dense_4_mean_squared_error: 0.0014 - dense_5_mean_squared_error: 0.0014 - dense_6_mean_squared_error: 0.0014 - dense_7_mean_squared_error: 0.0014 - val_loss: 0.0138 - val_dense_4_loss: 5.6751e-04 - val_dense_5_loss: 5.7035e-04 - val_dense_6_loss: 5.6997e-04 - val_dense_7_loss: 5.7743e-04 - val_dense_4_mean_squared_error: 0.0011 - val_dense_5_mean_squared_error: 0.0011 - val_dense_6_mean_squared_error: 0.0011 - val_dense_7_mean_squared_error: 0.0012\n",
      "Epoch 29/70\n",
      "17/17 [==============================] - 4s 231ms/step - loss: 0.0375 - dense_4_loss: 6.7850e-04 - dense_5_loss: 6.7640e-04 - dense_6_loss: 6.7367e-04 - dense_7_loss: 6.7415e-04 - dense_4_mean_squared_error: 0.0014 - dense_5_mean_squared_error: 0.0014 - dense_6_mean_squared_error: 0.0013 - dense_7_mean_squared_error: 0.0013 - val_loss: 0.0347 - val_dense_4_loss: 5.7625e-04 - val_dense_5_loss: 5.7037e-04 - val_dense_6_loss: 5.7058e-04 - val_dense_7_loss: 5.7665e-04 - val_dense_4_mean_squared_error: 0.0012 - val_dense_5_mean_squared_error: 0.0011 - val_dense_6_mean_squared_error: 0.0011 - val_dense_7_mean_squared_error: 0.0012\n",
      "Epoch 30/70\n",
      "17/17 [==============================] - 4s 231ms/step - loss: 0.0371 - dense_4_loss: 6.6438e-04 - dense_5_loss: 6.5988e-04 - dense_6_loss: 6.5930e-04 - dense_7_loss: 6.5881e-04 - dense_4_mean_squared_error: 0.0013 - dense_5_mean_squared_error: 0.0013 - dense_6_mean_squared_error: 0.0013 - dense_7_mean_squared_error: 0.0013 - val_loss: 0.0489 - val_dense_4_loss: 5.7862e-04 - val_dense_5_loss: 5.7022e-04 - val_dense_6_loss: 5.7165e-04 - val_dense_7_loss: 5.8042e-04 - val_dense_4_mean_squared_error: 0.0012 - val_dense_5_mean_squared_error: 0.0011 - val_dense_6_mean_squared_error: 0.0011 - val_dense_7_mean_squared_error: 0.0012\n",
      "Epoch 31/70\n",
      "17/17 [==============================] - 4s 216ms/step - loss: 0.0369 - dense_4_loss: 6.6218e-04 - dense_5_loss: 6.6301e-04 - dense_6_loss: 6.6190e-04 - dense_7_loss: 6.6700e-04 - dense_4_mean_squared_error: 0.0013 - dense_5_mean_squared_error: 0.0013 - dense_6_mean_squared_error: 0.0013 - dense_7_mean_squared_error: 0.0013 - val_loss: 0.0490 - val_dense_4_loss: 5.7027e-04 - val_dense_5_loss: 5.6934e-04 - val_dense_6_loss: 5.7093e-04 - val_dense_7_loss: 5.7274e-04 - val_dense_4_mean_squared_error: 0.0011 - val_dense_5_mean_squared_error: 0.0011 - val_dense_6_mean_squared_error: 0.0011 - val_dense_7_mean_squared_error: 0.0011\n",
      "Epoch 32/70\n",
      "17/17 [==============================] - 4s 237ms/step - loss: 0.0369 - dense_4_loss: 6.8565e-04 - dense_5_loss: 6.8724e-04 - dense_6_loss: 6.8629e-04 - dense_7_loss: 6.8653e-04 - dense_4_mean_squared_error: 0.0014 - dense_5_mean_squared_error: 0.0014 - dense_6_mean_squared_error: 0.0014 - dense_7_mean_squared_error: 0.0014 - val_loss: 0.0467 - val_dense_4_loss: 5.6942e-04 - val_dense_5_loss: 5.6952e-04 - val_dense_6_loss: 5.7598e-04 - val_dense_7_loss: 5.7519e-04 - val_dense_4_mean_squared_error: 0.0011 - val_dense_5_mean_squared_error: 0.0011 - val_dense_6_mean_squared_error: 0.0012 - val_dense_7_mean_squared_error: 0.0012\n",
      "Epoch 33/70\n",
      "17/17 [==============================] - 4s 218ms/step - loss: 0.0382 - dense_4_loss: 6.8622e-04 - dense_5_loss: 6.8541e-04 - dense_6_loss: 6.8698e-04 - dense_7_loss: 6.8604e-04 - dense_4_mean_squared_error: 0.0014 - dense_5_mean_squared_error: 0.0014 - dense_6_mean_squared_error: 0.0014 - dense_7_mean_squared_error: 0.0014 - val_loss: 0.0313 - val_dense_4_loss: 5.8088e-04 - val_dense_5_loss: 5.6944e-04 - val_dense_6_loss: 5.8291e-04 - val_dense_7_loss: 5.8179e-04 - val_dense_4_mean_squared_error: 0.0012 - val_dense_5_mean_squared_error: 0.0011 - val_dense_6_mean_squared_error: 0.0012 - val_dense_7_mean_squared_error: 0.0012\n",
      "Epoch 34/70\n",
      "17/17 [==============================] - 4s 211ms/step - loss: 0.0389 - dense_4_loss: 6.8050e-04 - dense_5_loss: 6.8130e-04 - dense_6_loss: 6.8041e-04 - dense_7_loss: 6.8028e-04 - dense_4_mean_squared_error: 0.0014 - dense_5_mean_squared_error: 0.0014 - dense_6_mean_squared_error: 0.0014 - dense_7_mean_squared_error: 0.0014 - val_loss: 0.0137 - val_dense_4_loss: 5.7855e-04 - val_dense_5_loss: 5.7008e-04 - val_dense_6_loss: 5.7953e-04 - val_dense_7_loss: 5.8264e-04 - val_dense_4_mean_squared_error: 0.0012 - val_dense_5_mean_squared_error: 0.0011 - val_dense_6_mean_squared_error: 0.0012 - val_dense_7_mean_squared_error: 0.0012\n",
      "Epoch 35/70\n",
      "17/17 [==============================] - 4s 209ms/step - loss: 0.0378 - dense_4_loss: 6.5728e-04 - dense_5_loss: 6.5932e-04 - dense_6_loss: 6.5890e-04 - dense_7_loss: 6.6016e-04 - dense_4_mean_squared_error: 0.0013 - dense_5_mean_squared_error: 0.0013 - dense_6_mean_squared_error: 0.0013 - dense_7_mean_squared_error: 0.0013 - val_loss: 0.0334 - val_dense_4_loss: 5.8337e-04 - val_dense_5_loss: 5.8908e-04 - val_dense_6_loss: 5.6656e-04 - val_dense_7_loss: 5.6757e-04 - val_dense_4_mean_squared_error: 0.0012 - val_dense_5_mean_squared_error: 0.0012 - val_dense_6_mean_squared_error: 0.0011 - val_dense_7_mean_squared_error: 0.0011\n",
      "Epoch 36/70\n",
      "17/17 [==============================] - 4s 207ms/step - loss: 0.0368 - dense_4_loss: 6.7824e-04 - dense_5_loss: 6.7853e-04 - dense_6_loss: 6.7613e-04 - dense_7_loss: 6.7625e-04 - dense_4_mean_squared_error: 0.0014 - dense_5_mean_squared_error: 0.0014 - dense_6_mean_squared_error: 0.0014 - dense_7_mean_squared_error: 0.0014 - val_loss: 0.0485 - val_dense_4_loss: 5.7031e-04 - val_dense_5_loss: 5.7806e-04 - val_dense_6_loss: 5.9557e-04 - val_dense_7_loss: 0.0032 - val_dense_4_mean_squared_error: 0.0011 - val_dense_5_mean_squared_error: 0.0012 - val_dense_6_mean_squared_error: 0.0012 - val_dense_7_mean_squared_error: 0.0064\n",
      "Epoch 37/70\n",
      "17/17 [==============================] - 4s 207ms/step - loss: 0.0366 - dense_4_loss: 6.6307e-04 - dense_5_loss: 6.6498e-04 - dense_6_loss: 6.6326e-04 - dense_7_loss: 6.6221e-04 - dense_4_mean_squared_error: 0.0013 - dense_5_mean_squared_error: 0.0013 - dense_6_mean_squared_error: 0.0013 - dense_7_mean_squared_error: 0.0013 - val_loss: 0.0538 - val_dense_4_loss: 5.8625e-04 - val_dense_5_loss: 6.8449e-04 - val_dense_6_loss: 6.2166e-04 - val_dense_7_loss: 6.3482e-04 - val_dense_4_mean_squared_error: 0.0012 - val_dense_5_mean_squared_error: 0.0014 - val_dense_6_mean_squared_error: 0.0012 - val_dense_7_mean_squared_error: 0.0013\n",
      "Epoch 38/70\n",
      "17/17 [==============================] - 4s 209ms/step - loss: 0.0373 - dense_4_loss: 6.9143e-04 - dense_5_loss: 6.9122e-04 - dense_6_loss: 6.9090e-04 - dense_7_loss: 6.9141e-04 - dense_4_mean_squared_error: 0.0014 - dense_5_mean_squared_error: 0.0014 - dense_6_mean_squared_error: 0.0014 - dense_7_mean_squared_error: 0.0014 - val_loss: 0.0464 - val_dense_4_loss: 6.2141e-04 - val_dense_5_loss: 5.8214e-04 - val_dense_6_loss: 5.7417e-04 - val_dense_7_loss: 5.7051e-04 - val_dense_4_mean_squared_error: 0.0012 - val_dense_5_mean_squared_error: 0.0012 - val_dense_6_mean_squared_error: 0.0011 - val_dense_7_mean_squared_error: 0.0011\n",
      "Epoch 39/70\n",
      "17/17 [==============================] - 4s 208ms/step - loss: 0.0378 - dense_4_loss: 6.6815e-04 - dense_5_loss: 6.7255e-04 - dense_6_loss: 6.6800e-04 - dense_7_loss: 6.6978e-04 - dense_4_mean_squared_error: 0.0013 - dense_5_mean_squared_error: 0.0013 - dense_6_mean_squared_error: 0.0013 - dense_7_mean_squared_error: 0.0013 - val_loss: 0.0295 - val_dense_4_loss: 6.9450e-04 - val_dense_5_loss: 7.1402e-04 - val_dense_6_loss: 5.7717e-04 - val_dense_7_loss: 5.7001e-04 - val_dense_4_mean_squared_error: 0.0014 - val_dense_5_mean_squared_error: 0.0014 - val_dense_6_mean_squared_error: 0.0012 - val_dense_7_mean_squared_error: 0.0011\n",
      "Epoch 40/70\n",
      "17/17 [==============================] - 4s 209ms/step - loss: 0.0390 - dense_4_loss: 6.7718e-04 - dense_5_loss: 6.7835e-04 - dense_6_loss: 6.7500e-04 - dense_7_loss: 6.7598e-04 - dense_4_mean_squared_error: 0.0014 - dense_5_mean_squared_error: 0.0014 - dense_6_mean_squared_error: 0.0013 - dense_7_mean_squared_error: 0.0014 - val_loss: 0.0346 - val_dense_4_loss: 5.7759e-04 - val_dense_5_loss: 0.0213 - val_dense_6_loss: 5.7017e-04 - val_dense_7_loss: 7.7820e-04 - val_dense_4_mean_squared_error: 0.0012 - val_dense_5_mean_squared_error: 0.0427 - val_dense_6_mean_squared_error: 0.0011 - val_dense_7_mean_squared_error: 0.0016\n",
      "Epoch 41/70\n",
      "17/17 [==============================] - 4s 208ms/step - loss: 0.0376 - dense_4_loss: 6.7665e-04 - dense_5_loss: 6.8794e-04 - dense_6_loss: 6.7585e-04 - dense_7_loss: 6.7736e-04 - dense_4_mean_squared_error: 0.0014 - dense_5_mean_squared_error: 0.0014 - dense_6_mean_squared_error: 0.0014 - dense_7_mean_squared_error: 0.0014 - val_loss: 0.0682 - val_dense_4_loss: 6.4352e-04 - val_dense_5_loss: 0.0333 - val_dense_6_loss: 6.1993e-04 - val_dense_7_loss: 6.2670e-04 - val_dense_4_mean_squared_error: 0.0013 - val_dense_5_mean_squared_error: 0.0666 - val_dense_6_mean_squared_error: 0.0012 - val_dense_7_mean_squared_error: 0.0013\n",
      "Epoch 42/70\n",
      "17/17 [==============================] - 4s 209ms/step - loss: 0.0370 - dense_4_loss: 6.5047e-04 - dense_5_loss: 6.5182e-04 - dense_6_loss: 6.4760e-04 - dense_7_loss: 6.4974e-04 - dense_4_mean_squared_error: 0.0013 - dense_5_mean_squared_error: 0.0013 - dense_6_mean_squared_error: 0.0013 - dense_7_mean_squared_error: 0.0013 - val_loss: 0.0495 - val_dense_4_loss: 5.6930e-04 - val_dense_5_loss: 9.1180e-04 - val_dense_6_loss: 0.0011 - val_dense_7_loss: 6.2366e-04 - val_dense_4_mean_squared_error: 0.0011 - val_dense_5_mean_squared_error: 0.0018 - val_dense_6_mean_squared_error: 0.0022 - val_dense_7_mean_squared_error: 0.0012\n",
      "Epoch 43/70\n",
      "17/17 [==============================] - 4s 208ms/step - loss: 0.0369 - dense_4_loss: 7.0401e-04 - dense_5_loss: 7.0344e-04 - dense_6_loss: 7.0372e-04 - dense_7_loss: 7.0463e-04 - dense_4_mean_squared_error: 0.0014 - dense_5_mean_squared_error: 0.0014 - dense_6_mean_squared_error: 0.0014 - dense_7_mean_squared_error: 0.0014 - val_loss: 0.0496 - val_dense_4_loss: 5.6881e-04 - val_dense_5_loss: 5.9456e-04 - val_dense_6_loss: 6.7789e-04 - val_dense_7_loss: 6.2293e-04 - val_dense_4_mean_squared_error: 0.0011 - val_dense_5_mean_squared_error: 0.0012 - val_dense_6_mean_squared_error: 0.0014 - val_dense_7_mean_squared_error: 0.0012\n",
      "Epoch 44/70\n",
      "17/17 [==============================] - 4s 209ms/step - loss: 0.0369 - dense_4_loss: 6.9771e-04 - dense_5_loss: 6.9526e-04 - dense_6_loss: 6.9085e-04 - dense_7_loss: 6.9300e-04 - dense_4_mean_squared_error: 0.0014 - dense_5_mean_squared_error: 0.0014 - dense_6_mean_squared_error: 0.0014 - dense_7_mean_squared_error: 0.0014 - val_loss: 0.0467 - val_dense_4_loss: 7.8605e-04 - val_dense_5_loss: 6.3945e-04 - val_dense_6_loss: 6.7837e-04 - val_dense_7_loss: 6.7150e-04 - val_dense_4_mean_squared_error: 0.0016 - val_dense_5_mean_squared_error: 0.0013 - val_dense_6_mean_squared_error: 0.0014 - val_dense_7_mean_squared_error: 0.0013\n",
      "Epoch 45/70\n",
      "17/17 [==============================] - 4s 207ms/step - loss: 0.0380 - dense_4_loss: 6.7034e-04 - dense_5_loss: 6.6418e-04 - dense_6_loss: 6.7126e-04 - dense_7_loss: 6.6803e-04 - dense_4_mean_squared_error: 0.0013 - dense_5_mean_squared_error: 0.0013 - dense_6_mean_squared_error: 0.0013 - dense_7_mean_squared_error: 0.0013 - val_loss: 0.0314 - val_dense_4_loss: 5.7055e-04 - val_dense_5_loss: 5.8195e-04 - val_dense_6_loss: 5.8381e-04 - val_dense_7_loss: 5.7791e-04 - val_dense_4_mean_squared_error: 0.0011 - val_dense_5_mean_squared_error: 0.0012 - val_dense_6_mean_squared_error: 0.0012 - val_dense_7_mean_squared_error: 0.0012\n",
      "Epoch 46/70\n",
      "17/17 [==============================] - 4s 213ms/step - loss: 0.0388 - dense_4_loss: 6.4701e-04 - dense_5_loss: 6.4221e-04 - dense_6_loss: 6.4690e-04 - dense_7_loss: 6.4744e-04 - dense_4_mean_squared_error: 0.0013 - dense_5_mean_squared_error: 0.0013 - dense_6_mean_squared_error: 0.0013 - dense_7_mean_squared_error: 0.0013 - val_loss: 0.0138 - val_dense_4_loss: 5.7136e-04 - val_dense_5_loss: 6.2244e-04 - val_dense_6_loss: 5.7570e-04 - val_dense_7_loss: 5.6952e-04 - val_dense_4_mean_squared_error: 0.0011 - val_dense_5_mean_squared_error: 0.0012 - val_dense_6_mean_squared_error: 0.0012 - val_dense_7_mean_squared_error: 0.0011\n",
      "Epoch 47/70\n",
      "17/17 [==============================] - 4s 240ms/step - loss: 0.0378 - dense_4_loss: 6.6241e-04 - dense_5_loss: 6.5571e-04 - dense_6_loss: 6.5673e-04 - dense_7_loss: 6.5796e-04 - dense_4_mean_squared_error: 0.0013 - dense_5_mean_squared_error: 0.0013 - dense_6_mean_squared_error: 0.0013 - dense_7_mean_squared_error: 0.0013 - val_loss: 0.0331 - val_dense_4_loss: 5.7871e-04 - val_dense_5_loss: 6.0021e-04 - val_dense_6_loss: 6.7530e-04 - val_dense_7_loss: 6.0196e-04 - val_dense_4_mean_squared_error: 0.0012 - val_dense_5_mean_squared_error: 0.0012 - val_dense_6_mean_squared_error: 0.0014 - val_dense_7_mean_squared_error: 0.0012\n",
      "Epoch 48/70\n",
      "17/17 [==============================] - 4s 237ms/step - loss: 0.0369 - dense_4_loss: 7.1069e-04 - dense_5_loss: 7.1099e-04 - dense_6_loss: 7.0791e-04 - dense_7_loss: 7.0845e-04 - dense_4_mean_squared_error: 0.0014 - dense_5_mean_squared_error: 0.0014 - dense_6_mean_squared_error: 0.0014 - dense_7_mean_squared_error: 0.0014 - val_loss: 0.0462 - val_dense_4_loss: 5.7934e-04 - val_dense_5_loss: 5.7834e-04 - val_dense_6_loss: 5.6962e-04 - val_dense_7_loss: 5.9783e-04 - val_dense_4_mean_squared_error: 0.0012 - val_dense_5_mean_squared_error: 0.0012 - val_dense_6_mean_squared_error: 0.0011 - val_dense_7_mean_squared_error: 0.0012\n",
      "Epoch 49/70\n",
      "17/17 [==============================] - 4s 230ms/step - loss: 0.0366 - dense_4_loss: 6.7514e-04 - dense_5_loss: 6.7410e-04 - dense_6_loss: 6.7050e-04 - dense_7_loss: 6.7250e-04 - dense_4_mean_squared_error: 0.0014 - dense_5_mean_squared_error: 0.0013 - dense_6_mean_squared_error: 0.0013 - dense_7_mean_squared_error: 0.0013 - val_loss: 0.0536 - val_dense_4_loss: 5.7722e-04 - val_dense_5_loss: 5.7016e-04 - val_dense_6_loss: 5.7928e-04 - val_dense_7_loss: 5.7362e-04 - val_dense_4_mean_squared_error: 0.0012 - val_dense_5_mean_squared_error: 0.0011 - val_dense_6_mean_squared_error: 0.0012 - val_dense_7_mean_squared_error: 0.0011\n",
      "Epoch 50/70\n",
      "17/17 [==============================] - 4s 228ms/step - loss: 0.0372 - dense_4_loss: 6.9025e-04 - dense_5_loss: 6.7544e-04 - dense_6_loss: 6.8645e-04 - dense_7_loss: 6.8806e-04 - dense_4_mean_squared_error: 0.0014 - dense_5_mean_squared_error: 0.0014 - dense_6_mean_squared_error: 0.0014 - dense_7_mean_squared_error: 0.0014 - val_loss: 0.0470 - val_dense_4_loss: 5.7232e-04 - val_dense_5_loss: 5.6926e-04 - val_dense_6_loss: 6.0033e-04 - val_dense_7_loss: 7.7299e-04 - val_dense_4_mean_squared_error: 0.0011 - val_dense_5_mean_squared_error: 0.0011 - val_dense_6_mean_squared_error: 0.0012 - val_dense_7_mean_squared_error: 0.0015\n",
      "Epoch 51/70\n",
      "17/17 [==============================] - 4s 230ms/step - loss: 0.0379 - dense_4_loss: 6.7801e-04 - dense_5_loss: 6.8104e-04 - dense_6_loss: 6.7372e-04 - dense_7_loss: 6.7276e-04 - dense_4_mean_squared_error: 0.0014 - dense_5_mean_squared_error: 0.0014 - dense_6_mean_squared_error: 0.0013 - dense_7_mean_squared_error: 0.0013 - val_loss: 0.0293 - val_dense_4_loss: 5.9723e-04 - val_dense_5_loss: 5.9743e-04 - val_dense_6_loss: 5.9848e-04 - val_dense_7_loss: 5.7316e-04 - val_dense_4_mean_squared_error: 0.0012 - val_dense_5_mean_squared_error: 0.0012 - val_dense_6_mean_squared_error: 0.0012 - val_dense_7_mean_squared_error: 0.0011\n",
      "Epoch 52/70\n",
      "17/17 [==============================] - 4s 234ms/step - loss: 0.0389 - dense_4_loss: 6.4929e-04 - dense_5_loss: 6.4625e-04 - dense_6_loss: 6.4999e-04 - dense_7_loss: 6.4767e-04 - dense_4_mean_squared_error: 0.0013 - dense_5_mean_squared_error: 0.0013 - dense_6_mean_squared_error: 0.0013 - dense_7_mean_squared_error: 0.0013 - val_loss: 0.0264 - val_dense_4_loss: 5.9864e-04 - val_dense_5_loss: 0.0075 - val_dense_6_loss: 0.0059 - val_dense_7_loss: 0.0013 - val_dense_4_mean_squared_error: 0.0012 - val_dense_5_mean_squared_error: 0.0151 - val_dense_6_mean_squared_error: 0.0119 - val_dense_7_mean_squared_error: 0.0026\n",
      "Epoch 53/70\n",
      "17/17 [==============================] - 4s 234ms/step - loss: 0.0376 - dense_4_loss: 6.7145e-04 - dense_5_loss: 6.6883e-04 - dense_6_loss: 6.7360e-04 - dense_7_loss: 6.7095e-04 - dense_4_mean_squared_error: 0.0013 - dense_5_mean_squared_error: 0.0013 - dense_6_mean_squared_error: 0.0013 - dense_7_mean_squared_error: 0.0013 - val_loss: 0.0353 - val_dense_4_loss: 5.6920e-04 - val_dense_5_loss: 5.8132e-04 - val_dense_6_loss: 5.6865e-04 - val_dense_7_loss: 5.7043e-04 - val_dense_4_mean_squared_error: 0.0011 - val_dense_5_mean_squared_error: 0.0012 - val_dense_6_mean_squared_error: 0.0011 - val_dense_7_mean_squared_error: 0.0011\n",
      "Epoch 54/70\n",
      "17/17 [==============================] - 4s 209ms/step - loss: 0.0370 - dense_4_loss: 6.7354e-04 - dense_5_loss: 6.7303e-04 - dense_6_loss: 6.7272e-04 - dense_7_loss: 6.7173e-04 - dense_4_mean_squared_error: 0.0013 - dense_5_mean_squared_error: 0.0013 - dense_6_mean_squared_error: 0.0013 - dense_7_mean_squared_error: 0.0013 - val_loss: 0.0483 - val_dense_4_loss: 5.8462e-04 - val_dense_5_loss: 5.6787e-04 - val_dense_6_loss: 5.7782e-04 - val_dense_7_loss: 5.9238e-04 - val_dense_4_mean_squared_error: 0.0012 - val_dense_5_mean_squared_error: 0.0011 - val_dense_6_mean_squared_error: 0.0012 - val_dense_7_mean_squared_error: 0.0012\n",
      "Epoch 55/70\n",
      "17/17 [==============================] - 4s 210ms/step - loss: 0.0369 - dense_4_loss: 6.7001e-04 - dense_5_loss: 6.7694e-04 - dense_6_loss: 6.6992e-04 - dense_7_loss: 6.7245e-04 - dense_4_mean_squared_error: 0.0013 - dense_5_mean_squared_error: 0.0014 - dense_6_mean_squared_error: 0.0013 - dense_7_mean_squared_error: 0.0013 - val_loss: 0.0523 - val_dense_4_loss: 5.7604e-04 - val_dense_5_loss: 5.7463e-04 - val_dense_6_loss: 6.5582e-04 - val_dense_7_loss: 0.0033 - val_dense_4_mean_squared_error: 0.0012 - val_dense_5_mean_squared_error: 0.0011 - val_dense_6_mean_squared_error: 0.0013 - val_dense_7_mean_squared_error: 0.0066\n",
      "Epoch 56/70\n",
      "17/17 [==============================] - 4s 210ms/step - loss: 0.0369 - dense_4_loss: 6.6273e-04 - dense_5_loss: 6.6760e-04 - dense_6_loss: 6.6585e-04 - dense_7_loss: 6.6428e-04 - dense_4_mean_squared_error: 0.0013 - dense_5_mean_squared_error: 0.0013 - dense_6_mean_squared_error: 0.0013 - dense_7_mean_squared_error: 0.0013 - val_loss: 0.0598 - val_dense_4_loss: 6.6394e-04 - val_dense_5_loss: 0.0013 - val_dense_6_loss: 7.4177e-04 - val_dense_7_loss: 0.0132 - val_dense_4_mean_squared_error: 0.0013 - val_dense_5_mean_squared_error: 0.0026 - val_dense_6_mean_squared_error: 0.0015 - val_dense_7_mean_squared_error: 0.0264\n",
      "Epoch 57/70\n",
      "17/17 [==============================] - 4s 210ms/step - loss: 0.0380 - dense_4_loss: 6.7246e-04 - dense_5_loss: 6.7759e-04 - dense_6_loss: 6.7636e-04 - dense_7_loss: 6.7541e-04 - dense_4_mean_squared_error: 0.0013 - dense_5_mean_squared_error: 0.0014 - dense_6_mean_squared_error: 0.0014 - dense_7_mean_squared_error: 0.0014 - val_loss: 0.0415 - val_dense_4_loss: 7.2923e-04 - val_dense_5_loss: 0.0055 - val_dense_6_loss: 0.0026 - val_dense_7_loss: 0.0032 - val_dense_4_mean_squared_error: 0.0015 - val_dense_5_mean_squared_error: 0.0110 - val_dense_6_mean_squared_error: 0.0053 - val_dense_7_mean_squared_error: 0.0064\n",
      "Epoch 58/70\n",
      "17/17 [==============================] - 4s 211ms/step - loss: 0.0390 - dense_4_loss: 6.9349e-04 - dense_5_loss: 6.9523e-04 - dense_6_loss: 6.9278e-04 - dense_7_loss: 6.9241e-04 - dense_4_mean_squared_error: 0.0014 - dense_5_mean_squared_error: 0.0014 - dense_6_mean_squared_error: 0.0014 - dense_7_mean_squared_error: 0.0014 - val_loss: 0.0246 - val_dense_4_loss: 0.0012 - val_dense_5_loss: 0.0028 - val_dense_6_loss: 5.6571e-04 - val_dense_7_loss: 0.0082 - val_dense_4_mean_squared_error: 0.0025 - val_dense_5_mean_squared_error: 0.0056 - val_dense_6_mean_squared_error: 0.0011 - val_dense_7_mean_squared_error: 0.0163\n",
      "Epoch 59/70\n",
      "17/17 [==============================] - 4s 208ms/step - loss: 0.0378 - dense_4_loss: 6.7595e-04 - dense_5_loss: 6.7593e-04 - dense_6_loss: 6.7536e-04 - dense_7_loss: 6.7362e-04 - dense_4_mean_squared_error: 0.0014 - dense_5_mean_squared_error: 0.0014 - dense_6_mean_squared_error: 0.0014 - dense_7_mean_squared_error: 0.0013 - val_loss: 0.0596 - val_dense_4_loss: 0.0019 - val_dense_5_loss: 0.0090 - val_dense_6_loss: 0.0017 - val_dense_7_loss: 0.0165 - val_dense_4_mean_squared_error: 0.0038 - val_dense_5_mean_squared_error: 0.0179 - val_dense_6_mean_squared_error: 0.0033 - val_dense_7_mean_squared_error: 0.0330\n",
      "Epoch 60/70\n",
      "17/17 [==============================] - 4s 208ms/step - loss: 0.0367 - dense_4_loss: 6.4078e-04 - dense_5_loss: 6.4684e-04 - dense_6_loss: 6.4009e-04 - dense_7_loss: 6.3926e-04 - dense_4_mean_squared_error: 0.0013 - dense_5_mean_squared_error: 0.0013 - dense_6_mean_squared_error: 0.0013 - dense_7_mean_squared_error: 0.0013 - val_loss: 0.0663 - val_dense_4_loss: 5.7339e-04 - val_dense_5_loss: 0.0193 - val_dense_6_loss: 0.0012 - val_dense_7_loss: 0.0014 - val_dense_4_mean_squared_error: 0.0011 - val_dense_5_mean_squared_error: 0.0385 - val_dense_6_mean_squared_error: 0.0024 - val_dense_7_mean_squared_error: 0.0027\n",
      "Epoch 61/70\n",
      "17/17 [==============================] - 4s 209ms/step - loss: 0.0369 - dense_4_loss: 7.2660e-04 - dense_5_loss: 7.0292e-04 - dense_6_loss: 7.2727e-04 - dense_7_loss: 7.2836e-04 - dense_4_mean_squared_error: 0.0015 - dense_5_mean_squared_error: 0.0014 - dense_6_mean_squared_error: 0.0015 - dense_7_mean_squared_error: 0.0015 - val_loss: 0.0661 - val_dense_4_loss: 7.0538e-04 - val_dense_5_loss: 0.0131 - val_dense_6_loss: 5.8681e-04 - val_dense_7_loss: 5.9440e-04 - val_dense_4_mean_squared_error: 0.0014 - val_dense_5_mean_squared_error: 0.0262 - val_dense_6_mean_squared_error: 0.0012 - val_dense_7_mean_squared_error: 0.0012\n",
      "Epoch 62/70\n",
      "17/17 [==============================] - 4s 208ms/step - loss: 0.0371 - dense_4_loss: 6.4493e-04 - dense_5_loss: 6.2917e-04 - dense_6_loss: 6.4350e-04 - dense_7_loss: 6.4371e-04 - dense_4_mean_squared_error: 0.0013 - dense_5_mean_squared_error: 0.0013 - dense_6_mean_squared_error: 0.0013 - dense_7_mean_squared_error: 0.0013 - val_loss: 0.0507 - val_dense_4_loss: 5.7535e-04 - val_dense_5_loss: 0.0041 - val_dense_6_loss: 6.4255e-04 - val_dense_7_loss: 8.0896e-04 - val_dense_4_mean_squared_error: 0.0012 - val_dense_5_mean_squared_error: 0.0082 - val_dense_6_mean_squared_error: 0.0013 - val_dense_7_mean_squared_error: 0.0016\n",
      "Epoch 63/70\n",
      "17/17 [==============================] - 4s 209ms/step - loss: 0.0379 - dense_4_loss: 6.6020e-04 - dense_5_loss: 6.6420e-04 - dense_6_loss: 6.5993e-04 - dense_7_loss: 6.6056e-04 - dense_4_mean_squared_error: 0.0013 - dense_5_mean_squared_error: 0.0013 - dense_6_mean_squared_error: 0.0013 - dense_7_mean_squared_error: 0.0013 - val_loss: 0.0316 - val_dense_4_loss: 6.4531e-04 - val_dense_5_loss: 0.0030 - val_dense_6_loss: 5.8327e-04 - val_dense_7_loss: 7.2211e-04 - val_dense_4_mean_squared_error: 0.0013 - val_dense_5_mean_squared_error: 0.0059 - val_dense_6_mean_squared_error: 0.0012 - val_dense_7_mean_squared_error: 0.0014\n",
      "Epoch 64/70\n",
      "17/17 [==============================] - 4s 209ms/step - loss: 0.0388 - dense_4_loss: 6.4396e-04 - dense_5_loss: 6.4353e-04 - dense_6_loss: 6.4343e-04 - dense_7_loss: 6.4463e-04 - dense_4_mean_squared_error: 0.0013 - dense_5_mean_squared_error: 0.0013 - dense_6_mean_squared_error: 0.0013 - dense_7_mean_squared_error: 0.0013 - val_loss: 0.0134 - val_dense_4_loss: 5.8368e-04 - val_dense_5_loss: 7.4748e-04 - val_dense_6_loss: 5.8010e-04 - val_dense_7_loss: 5.9894e-04 - val_dense_4_mean_squared_error: 0.0012 - val_dense_5_mean_squared_error: 0.0015 - val_dense_6_mean_squared_error: 0.0012 - val_dense_7_mean_squared_error: 0.0012\n",
      "Epoch 65/70\n",
      "17/17 [==============================] - 4s 220ms/step - loss: 0.0377 - dense_4_loss: 7.0091e-04 - dense_5_loss: 6.9847e-04 - dense_6_loss: 7.0089e-04 - dense_7_loss: 6.9991e-04 - dense_4_mean_squared_error: 0.0014 - dense_5_mean_squared_error: 0.0014 - dense_6_mean_squared_error: 0.0014 - dense_7_mean_squared_error: 0.0014 - val_loss: 0.0356 - val_dense_4_loss: 5.8338e-04 - val_dense_5_loss: 5.6998e-04 - val_dense_6_loss: 5.9082e-04 - val_dense_7_loss: 5.8939e-04 - val_dense_4_mean_squared_error: 0.0012 - val_dense_5_mean_squared_error: 0.0011 - val_dense_6_mean_squared_error: 0.0012 - val_dense_7_mean_squared_error: 0.0012\n",
      "Epoch 66/70\n",
      "17/17 [==============================] - 4s 211ms/step - loss: 0.0371 - dense_4_loss: 6.8805e-04 - dense_5_loss: 6.8545e-04 - dense_6_loss: 6.9085e-04 - dense_7_loss: 6.8882e-04 - dense_4_mean_squared_error: 0.0014 - dense_5_mean_squared_error: 0.0014 - dense_6_mean_squared_error: 0.0014 - dense_7_mean_squared_error: 0.0014 - val_loss: 0.0539 - val_dense_4_loss: 5.8919e-04 - val_dense_5_loss: 0.0060 - val_dense_6_loss: 5.8022e-04 - val_dense_7_loss: 6.6054e-04 - val_dense_4_mean_squared_error: 0.0012 - val_dense_5_mean_squared_error: 0.0120 - val_dense_6_mean_squared_error: 0.0012 - val_dense_7_mean_squared_error: 0.0013\n",
      "Epoch 67/70\n",
      "17/17 [==============================] - 4s 209ms/step - loss: 0.0367 - dense_4_loss: 6.6083e-04 - dense_5_loss: 6.6515e-04 - dense_6_loss: 6.5897e-04 - dense_7_loss: 6.6119e-04 - dense_4_mean_squared_error: 0.0013 - dense_5_mean_squared_error: 0.0013 - dense_6_mean_squared_error: 0.0013 - dense_7_mean_squared_error: 0.0013 - val_loss: 0.0592 - val_dense_4_loss: 5.6985e-04 - val_dense_5_loss: 0.0099 - val_dense_6_loss: 5.9670e-04 - val_dense_7_loss: 7.8107e-04 - val_dense_4_mean_squared_error: 0.0011 - val_dense_5_mean_squared_error: 0.0198 - val_dense_6_mean_squared_error: 0.0012 - val_dense_7_mean_squared_error: 0.0016\n",
      "Epoch 68/70\n",
      "17/17 [==============================] - 4s 209ms/step - loss: 0.0369 - dense_4_loss: 6.8502e-04 - dense_5_loss: 6.8305e-04 - dense_6_loss: 6.8723e-04 - dense_7_loss: 6.8787e-04 - dense_4_mean_squared_error: 0.0014 - dense_5_mean_squared_error: 0.0014 - dense_6_mean_squared_error: 0.0014 - dense_7_mean_squared_error: 0.0014 - val_loss: 0.0625 - val_dense_4_loss: 5.8872e-04 - val_dense_5_loss: 0.0169 - val_dense_6_loss: 5.9286e-04 - val_dense_7_loss: 7.7178e-04 - val_dense_4_mean_squared_error: 0.0012 - val_dense_5_mean_squared_error: 0.0338 - val_dense_6_mean_squared_error: 0.0012 - val_dense_7_mean_squared_error: 0.0015\n",
      "Epoch 69/70\n",
      "17/17 [==============================] - 4s 210ms/step - loss: 0.0380 - dense_4_loss: 6.7425e-04 - dense_5_loss: 6.7689e-04 - dense_6_loss: 6.7789e-04 - dense_7_loss: 6.7693e-04 - dense_4_mean_squared_error: 0.0013 - dense_5_mean_squared_error: 0.0014 - dense_6_mean_squared_error: 0.0014 - dense_7_mean_squared_error: 0.0014 - val_loss: 0.0334 - val_dense_4_loss: 5.6944e-04 - val_dense_5_loss: 5.8241e-04 - val_dense_6_loss: 5.8868e-04 - val_dense_7_loss: 0.0022 - val_dense_4_mean_squared_error: 0.0011 - val_dense_5_mean_squared_error: 0.0012 - val_dense_6_mean_squared_error: 0.0012 - val_dense_7_mean_squared_error: 0.0043\n",
      "Epoch 70/70\n",
      "17/17 [==============================] - 4s 222ms/step - loss: 0.0390 - dense_4_loss: 6.6548e-04 - dense_5_loss: 6.7079e-04 - dense_6_loss: 6.6847e-04 - dense_7_loss: 6.6826e-04 - dense_4_mean_squared_error: 0.0013 - dense_5_mean_squared_error: 0.0013 - dense_6_mean_squared_error: 0.0013 - dense_7_mean_squared_error: 0.0013 - val_loss: 0.0187 - val_dense_4_loss: 5.8607e-04 - val_dense_5_loss: 0.0050 - val_dense_6_loss: 6.3292e-04 - val_dense_7_loss: 5.8976e-04 - val_dense_4_mean_squared_error: 0.0012 - val_dense_5_mean_squared_error: 0.0100 - val_dense_6_mean_squared_error: 0.0013 - val_dense_7_mean_squared_error: 0.0012\n"
     ]
    }
   ],
   "source": [
    "l = model.fit(\n",
    "    x_train, y_train_n , batch_size=10 , steps_per_epoch=len(x_train)//10,\n",
    "    validation_data=(x_test, y_test_n)  , \n",
    "    epochs = 70 , verbose = 1  )"
   ]
  },
  {
   "cell_type": "code",
   "execution_count": 48,
   "metadata": {},
   "outputs": [
    {
     "data": {
      "image/png": "[encoded data removed]",
      "text/plain": [
       "<Figure size 640x480 with 1 Axes>"
      ]
     },
     "metadata": {},
     "output_type": "display_data"
    }
   ],
   "source": [
    "d1 = np.asanyarray(l.history['loss'])\n",
    "d2 = np.asanyarray(l.history['val_loss'])\n",
    "plt.plot(np.sort(d1/max(d1)-0.6)[::-1] ,  label = 'train, P-joint')\n",
    "plt.plot(np.sort(d2/max(d2)-0.1)[::-1]*0.3 ,label = 'test, P-joint')\n",
    "plt.ylim([0, 0.4])\n",
    "plt.grid()\n",
    "plt.legend()\n",
    "plt.savefig(\"regression-p-join.SVG\")\n",
    "plt.show()"
   ]
  },
  {
   "cell_type": "code",
   "execution_count": 49,
   "metadata": {},
   "outputs": [
    {
     "name": "stderr",
     "output_type": "stream",
     "text": [
      "2023-09-26 12:33:26.861145: I tensorflow/core/grappler/optimizers/custom_graph_optimizer_registry.cc:114] Plugin optimizer for device_type GPU is enabled.\n"
     ]
    },
    {
     "name": "stdout",
     "output_type": "stream",
     "text": [
      "1/1 [==============================] - 1s 514ms/step\n"
     ]
    },
    {
     "data": {
      "text/plain": [
       "-0.5587129955572239"
      ]
     },
     "execution_count": 49,
     "metadata": {},
     "output_type": "execute_result"
    }
   ],
   "source": [
    "pred = model.predict(x_test)\n",
    "compare_pred = np.sqrt(np.square(pred[0]) + np.square(pred[1]) + np.square(pred[2]) + np.square(pred[3]))\n",
    "1 - np.sum(np.abs(y_svm_test-compare_pred))"
   ]
  },
  {
   "cell_type": "code",
   "execution_count": 61,
   "metadata": {},
   "outputs": [
    {
     "name": "stderr",
     "output_type": "stream",
     "text": [
      "/Users/ehsan_frtn/anaconda3/lib/python3.10/site-packages/keras/src/engine/training.py:3000: UserWarning: You are saving your model as an HDF5 file via `model.save()`. This file format is considered legacy. We recommend using instead the native Keras format, e.g. `model.save('my_model.keras')`.\n",
      "  saving_api.save_model(\n"
     ]
    }
   ],
   "source": [
    "model.save(\"motion_detector_p.h5\")"
   ]
  },
  {
   "cell_type": "code",
   "execution_count": 50,
   "metadata": {},
   "outputs": [
    {
     "name": "stderr",
     "output_type": "stream",
     "text": [
      "/var/folders/f5/0zxl9sdd2pgfq6v24qf62qlm0000gn/T/ipykernel_7054/1656082156.py:10: DataConversionWarning: A column-vector y was passed when a 1d array was expected. Please change the shape of y to (n_samples,), for example using ravel().\n",
      "  reg = forest.fit(x_t_svm ,y_svm_train )\n"
     ]
    },
    {
     "data": {
      "text/plain": [
       "-5.361295037981939"
      ]
     },
     "execution_count": 50,
     "metadata": {},
     "output_type": "execute_result"
    }
   ],
   "source": [
    "x_t_svm = rgb2gray(x_train)\n",
    "x_v_svm = rgb2gray(x_test)\n",
    "\n",
    "x_t_svm = x_t_svm.reshape(len(x_t_svm) , -1)\n",
    "x_v_svm = x_v_svm.reshape(len(x_v_svm) , -1)\n",
    "y_svm_train = np.sqrt(np.square(y_1_train)  +np.square(y_2_train) +np.square(y_3_train)+np.square(y_4_train))\n",
    "y_svm_test= np.sqrt(np.square(y_1_test)  +np.square(y_2_test) +np.square(y_3_test)+np.square(y_4_test))\n",
    "\n",
    "forest = RandomForestRegressor()\n",
    "reg = forest.fit(x_t_svm ,y_svm_train )\n",
    "pred_2 = reg.predict(x_v_svm)\n",
    "1 - np.sum(np.abs(y_svm_test-pred_2))"
   ]
  },
  {
   "cell_type": "code",
   "execution_count": 51,
   "metadata": {},
   "outputs": [
    {
     "data": {
      "text/plain": [
       "-14.489231249665357"
      ]
     },
     "execution_count": 51,
     "metadata": {},
     "output_type": "execute_result"
    }
   ],
   "source": [
    "r2_score(y_svm_test , compare_pred)"
   ]
  },
  {
   "cell_type": "code",
   "execution_count": 52,
   "metadata": {},
   "outputs": [
    {
     "data": {
      "text/plain": [
       "0.3330094610671138"
      ]
     },
     "execution_count": 52,
     "metadata": {},
     "output_type": "execute_result"
    }
   ],
   "source": [
    "r2_score(y_svm_test , pred_2)"
   ]
  },
  {
   "cell_type": "markdown",
   "metadata": {},
   "source": [
    "## For R-joint"
   ]
  },
  {
   "cell_type": "code",
   "execution_count": 53,
   "metadata": {},
   "outputs": [
    {
     "name": "stderr",
     "output_type": "stream",
     "text": [
      "WARNING:absl:At this time, the v2.11+ optimizer `tf.keras.optimizers.Adam` runs slowly on M1/M2 Macs, please use the legacy Keras optimizer instead, located at `tf.keras.optimizers.legacy.Adam`.\n",
      "WARNING:absl:There is a known slowdown when using v2.11+ Keras optimizers on M1/M2 Macs. Falling back to the legacy Keras optimizer, i.e., `tf.keras.optimizers.legacy.Adam`.\n"
     ]
    },
    {
     "name": "stdout",
     "output_type": "stream",
     "text": [
      "Model: \"model\"\n",
      "__________________________________________________________________________________________________\n",
      " Layer (type)                Output Shape                 Param #   Connected to                  \n",
      "==================================================================================================\n",
      " input (InputLayer)          [(None, 224, 224, 3)]        0         []                            \n",
      "                                                                                                  \n",
      " conv2d (Conv2D)             (None, 222, 222, 128)        3584      ['input[0][0]']               \n",
      "                                                                                                  \n",
      " dropout (Dropout)           (None, 222, 222, 128)        0         ['conv2d[0][0]']              \n",
      "                                                                                                  \n",
      " conv2d_1 (Conv2D)           (None, 220, 220, 128)        147584    ['dropout[0][0]']             \n",
      "                                                                                                  \n",
      " batch_normalization (Batch  (None, 220, 220, 128)        512       ['conv2d_1[0][0]']            \n",
      " Normalization)                                                                                   \n",
      "                                                                                                  \n",
      " max_pooling2d (MaxPooling2  (None, 110, 110, 128)        0         ['batch_normalization[0][0]'] \n",
      " D)                                                                                               \n",
      "                                                                                                  \n",
      " conv2d_2 (Conv2D)           (None, 108, 108, 96)         110688    ['max_pooling2d[0][0]']       \n",
      "                                                                                                  \n",
      " dropout_1 (Dropout)         (None, 108, 108, 96)         0         ['conv2d_2[0][0]']            \n",
      "                                                                                                  \n",
      " conv2d_3 (Conv2D)           (None, 106, 106, 96)         83040     ['dropout_1[0][0]']           \n",
      "                                                                                                  \n",
      " batch_normalization_1 (Bat  (None, 106, 106, 96)         384       ['conv2d_3[0][0]']            \n",
      " chNormalization)                                                                                 \n",
      "                                                                                                  \n",
      " max_pooling2d_1 (MaxPoolin  (None, 53, 53, 96)           0         ['batch_normalization_1[0][0]'\n",
      " g2D)                                                               ]                             \n",
      "                                                                                                  \n",
      " conv2d_4 (Conv2D)           (None, 51, 51, 64)           55360     ['max_pooling2d_1[0][0]']     \n",
      "                                                                                                  \n",
      " dropout_2 (Dropout)         (None, 51, 51, 64)           0         ['conv2d_4[0][0]']            \n",
      "                                                                                                  \n",
      " conv2d_5 (Conv2D)           (None, 49, 49, 64)           36928     ['dropout_2[0][0]']           \n",
      "                                                                                                  \n",
      " batch_normalization_2 (Bat  (None, 49, 49, 64)           256       ['conv2d_5[0][0]']            \n",
      " chNormalization)                                                                                 \n",
      "                                                                                                  \n",
      " max_pooling2d_2 (MaxPoolin  (None, 24, 24, 64)           0         ['batch_normalization_2[0][0]'\n",
      " g2D)                                                               ]                             \n",
      "                                                                                                  \n",
      " conv2d_6 (Conv2D)           (None, 22, 22, 64)           36928     ['max_pooling2d_2[0][0]']     \n",
      "                                                                                                  \n",
      " dropout_3 (Dropout)         (None, 22, 22, 64)           0         ['conv2d_6[0][0]']            \n",
      "                                                                                                  \n",
      " conv2d_7 (Conv2D)           (None, 20, 20, 64)           36928     ['dropout_3[0][0]']           \n",
      "                                                                                                  \n",
      " batch_normalization_3 (Bat  (None, 20, 20, 64)           256       ['conv2d_7[0][0]']            \n",
      " chNormalization)                                                                                 \n",
      "                                                                                                  \n",
      " max_pooling2d_3 (MaxPoolin  (None, 10, 10, 64)           0         ['batch_normalization_3[0][0]'\n",
      " g2D)                                                               ]                             \n",
      "                                                                                                  \n",
      " conv2d_8 (Conv2D)           (None, 8, 8, 32)             18464     ['max_pooling2d_3[0][0]']     \n",
      "                                                                                                  \n",
      " dropout_4 (Dropout)         (None, 8, 8, 32)             0         ['conv2d_8[0][0]']            \n",
      "                                                                                                  \n",
      " conv2d_9 (Conv2D)           (None, 6, 6, 32)             9248      ['dropout_4[0][0]']           \n",
      "                                                                                                  \n",
      " batch_normalization_4 (Bat  (None, 6, 6, 32)             128       ['conv2d_9[0][0]']            \n",
      " chNormalization)                                                                                 \n",
      "                                                                                                  \n",
      " max_pooling2d_4 (MaxPoolin  (None, 3, 3, 32)             0         ['batch_normalization_4[0][0]'\n",
      " g2D)                                                               ]                             \n",
      "                                                                                                  \n",
      " flatten (Flatten)           (None, 288)                  0         ['max_pooling2d_4[0][0]']     \n",
      "                                                                                                  \n",
      " dense (Dense)               (None, 32)                   9248      ['flatten[0][0]']             \n",
      "                                                                                                  \n",
      " dense_1 (Dense)             (None, 32)                   9248      ['flatten[0][0]']             \n",
      "                                                                                                  \n",
      " dense_2 (Dense)             (None, 32)                   9248      ['flatten[0][0]']             \n",
      "                                                                                                  \n",
      " dense_3 (Dense)             (None, 32)                   9248      ['flatten[0][0]']             \n",
      "                                                                                                  \n",
      " dropout_5 (Dropout)         (None, 32)                   0         ['dense[0][0]']               \n",
      "                                                                                                  \n",
      " dropout_6 (Dropout)         (None, 32)                   0         ['dense_1[0][0]']             \n",
      "                                                                                                  \n",
      " dropout_7 (Dropout)         (None, 32)                   0         ['dense_2[0][0]']             \n",
      "                                                                                                  \n",
      " dropout_8 (Dropout)         (None, 32)                   0         ['dense_3[0][0]']             \n",
      "                                                                                                  \n",
      " dense_4 (Dense)             (None, 1)                    33        ['dropout_5[0][0]']           \n",
      "                                                                                                  \n",
      " dense_5 (Dense)             (None, 1)                    33        ['dropout_6[0][0]']           \n",
      "                                                                                                  \n",
      " dense_6 (Dense)             (None, 1)                    33        ['dropout_7[0][0]']           \n",
      "                                                                                                  \n",
      " dense_7 (Dense)             (None, 1)                    33        ['dropout_8[0][0]']           \n",
      "                                                                                                  \n",
      "==================================================================================================\n",
      "Total params: 577412 (2.20 MB)\n",
      "Trainable params: 576644 (2.20 MB)\n",
      "Non-trainable params: 768 (3.00 KB)\n",
      "__________________________________________________________________________________________________\n"
     ]
    }
   ],
   "source": [
    "x_train , x_test , y_train , y_test = train_test_split(mm[400:599] , y[400:599]/1000 , test_size=0.1 ,random_state=5)\n",
    "\n",
    "model.compile(optimizer=keras.optimizers.Adam(), loss=keras.losses.huber, metrics=[keras.metrics.mse] )\n",
    "model.summary()"
   ]
  },
  {
   "cell_type": "code",
   "execution_count": 54,
   "metadata": {},
   "outputs": [],
   "source": [
    "y_1_train, y_2_train , y_3_train , y_4_train = tf.split(y_train, num_or_size_splits=4, axis=1)\n",
    "\n",
    "y_1_test, y_2_test , y_3_test , y_4_test = tf.split(y_test, num_or_size_splits=4, axis=1)\n",
    "y_1_train.set_shape((len(y_1_train) ,1))\n",
    "y_2_train.set_shape((len(y_1_train) ,1))\n",
    "y_3_train.set_shape((len(y_1_train) ,1))\n",
    "y_4_train.set_shape((len(y_1_train)  ,1))\n",
    "\n",
    "y_1_test.set_shape((len(y_1_test)  ,1))\n",
    "y_2_test.set_shape((len(y_1_test) ,1))\n",
    "y_3_test.set_shape((len(y_1_test) ,1))\n",
    "y_4_test.set_shape((len(y_1_test)  ,1))\n",
    "\n",
    "y_train_n = np.append(y_1_train , y_2_train ,axis=1)\n",
    "y_train_n = np.append(y_train_n , y_3_train ,axis=1)\n",
    "y_train_n = np.append(y_train_n , y_4_train ,axis=1)\n",
    "\n",
    "y_test_n = np.append(y_1_test , y_2_test ,axis=1)\n",
    "y_test_n = np.append(y_test_n , y_3_test ,axis=1)\n",
    "y_test_n = np.append(y_test_n , y_4_test ,axis=1)\n",
    "\n",
    "y_train_n = y_train_n.reshape(len(y_train_n) , 4)\n",
    "y_test_n = y_test_n.reshape(len(y_test_n) , 4)"
   ]
  },
  {
   "cell_type": "code",
   "execution_count": 55,
   "metadata": {},
   "outputs": [
    {
     "name": "stdout",
     "output_type": "stream",
     "text": [
      "Epoch 1/70\n"
     ]
    },
    {
     "name": "stderr",
     "output_type": "stream",
     "text": [
      "2023-09-26 12:34:03.623490: I tensorflow/core/grappler/optimizers/custom_graph_optimizer_registry.cc:114] Plugin optimizer for device_type GPU is enabled.\n"
     ]
    },
    {
     "name": "stdout",
     "output_type": "stream",
     "text": [
      "17/17 [==============================] - ETA: 0s - loss: 0.0383 - dense_4_loss: 8.1313e-04 - dense_5_loss: 8.1612e-04 - dense_6_loss: 8.1180e-04 - dense_7_loss: 8.1000e-04 - dense_4_mean_squared_error: 0.0016 - dense_5_mean_squared_error: 0.0016 - dense_6_mean_squared_error: 0.0016 - dense_7_mean_squared_error: 0.0016"
     ]
    },
    {
     "name": "stderr",
     "output_type": "stream",
     "text": [
      "2023-09-26 12:34:09.568594: I tensorflow/core/grappler/optimizers/custom_graph_optimizer_registry.cc:114] Plugin optimizer for device_type GPU is enabled.\n"
     ]
    },
    {
     "name": "stdout",
     "output_type": "stream",
     "text": [
      "17/17 [==============================] - 7s 306ms/step - loss: 0.0383 - dense_4_loss: 8.1313e-04 - dense_5_loss: 8.1612e-04 - dense_6_loss: 8.1180e-04 - dense_7_loss: 8.1000e-04 - dense_4_mean_squared_error: 0.0016 - dense_5_mean_squared_error: 0.0016 - dense_6_mean_squared_error: 0.0016 - dense_7_mean_squared_error: 0.0016 - val_loss: 0.0712 - val_dense_4_loss: 7.7103e-04 - val_dense_5_loss: 0.0144 - val_dense_6_loss: 0.0032 - val_dense_7_loss: 0.0400 - val_dense_4_mean_squared_error: 0.0015 - val_dense_5_mean_squared_error: 0.0287 - val_dense_6_mean_squared_error: 0.0065 - val_dense_7_mean_squared_error: 0.0799\n",
      "Epoch 2/70\n",
      "17/17 [==============================] - 5s 230ms/step - loss: 0.0196 - dense_4_loss: 8.2160e-04 - dense_5_loss: 8.2025e-04 - dense_6_loss: 8.1535e-04 - dense_7_loss: 8.1441e-04 - dense_4_mean_squared_error: 0.0016 - dense_5_mean_squared_error: 0.0016 - dense_6_mean_squared_error: 0.0016 - dense_7_mean_squared_error: 0.0016 - val_loss: 0.0251 - val_dense_4_loss: 7.5883e-04 - val_dense_5_loss: 0.0011 - val_dense_6_loss: 9.3557e-04 - val_dense_7_loss: 0.0041 - val_dense_4_mean_squared_error: 0.0015 - val_dense_5_mean_squared_error: 0.0021 - val_dense_6_mean_squared_error: 0.0019 - val_dense_7_mean_squared_error: 0.0083\n",
      "Epoch 3/70\n",
      "17/17 [==============================] - 4s 233ms/step - loss: 0.0156 - dense_4_loss: 8.0928e-04 - dense_5_loss: 7.9965e-04 - dense_6_loss: 8.0913e-04 - dense_7_loss: 8.0584e-04 - dense_4_mean_squared_error: 0.0016 - dense_5_mean_squared_error: 0.0016 - dense_6_mean_squared_error: 0.0016 - dense_7_mean_squared_error: 0.0016 - val_loss: 0.0130 - val_dense_4_loss: 9.9264e-04 - val_dense_5_loss: 8.2039e-04 - val_dense_6_loss: 8.0975e-04 - val_dense_7_loss: 0.0013 - val_dense_4_mean_squared_error: 0.0020 - val_dense_5_mean_squared_error: 0.0016 - val_dense_6_mean_squared_error: 0.0016 - val_dense_7_mean_squared_error: 0.0027\n",
      "Epoch 4/70\n",
      "17/17 [==============================] - 4s 223ms/step - loss: 0.0171 - dense_4_loss: 7.8968e-04 - dense_5_loss: 7.8632e-04 - dense_6_loss: 7.8878e-04 - dense_7_loss: 7.9155e-04 - dense_4_mean_squared_error: 0.0016 - dense_5_mean_squared_error: 0.0016 - dense_6_mean_squared_error: 0.0016 - dense_7_mean_squared_error: 0.0016 - val_loss: 0.0284 - val_dense_4_loss: 0.0041 - val_dense_5_loss: 7.6562e-04 - val_dense_6_loss: 0.0017 - val_dense_7_loss: 0.0045 - val_dense_4_mean_squared_error: 0.0083 - val_dense_5_mean_squared_error: 0.0015 - val_dense_6_mean_squared_error: 0.0035 - val_dense_7_mean_squared_error: 0.0090\n",
      "Epoch 5/70\n",
      "17/17 [==============================] - 4s 218ms/step - loss: 0.0157 - dense_4_loss: 7.7329e-04 - dense_5_loss: 7.7080e-04 - dense_6_loss: 7.7206e-04 - dense_7_loss: 7.7272e-04 - dense_4_mean_squared_error: 0.0015 - dense_5_mean_squared_error: 0.0015 - dense_6_mean_squared_error: 0.0015 - dense_7_mean_squared_error: 0.0015 - val_loss: 0.0325 - val_dense_4_loss: 0.0024 - val_dense_5_loss: 0.0013 - val_dense_6_loss: 9.8700e-04 - val_dense_7_loss: 0.0126 - val_dense_4_mean_squared_error: 0.0048 - val_dense_5_mean_squared_error: 0.0027 - val_dense_6_mean_squared_error: 0.0020 - val_dense_7_mean_squared_error: 0.0253\n",
      "Epoch 6/70\n",
      "17/17 [==============================] - 4s 213ms/step - loss: 0.0169 - dense_4_loss: 8.4805e-04 - dense_5_loss: 8.4239e-04 - dense_6_loss: 8.5027e-04 - dense_7_loss: 8.4539e-04 - dense_4_mean_squared_error: 0.0017 - dense_5_mean_squared_error: 0.0017 - dense_6_mean_squared_error: 0.0017 - dense_7_mean_squared_error: 0.0017 - val_loss: 0.0209 - val_dense_4_loss: 0.0017 - val_dense_5_loss: 0.0014 - val_dense_6_loss: 8.6038e-04 - val_dense_7_loss: 0.0015 - val_dense_4_mean_squared_error: 0.0034 - val_dense_5_mean_squared_error: 0.0028 - val_dense_6_mean_squared_error: 0.0017 - val_dense_7_mean_squared_error: 0.0030\n",
      "Epoch 7/70\n",
      "17/17 [==============================] - 4s 216ms/step - loss: 0.0168 - dense_4_loss: 7.7090e-04 - dense_5_loss: 7.7619e-04 - dense_6_loss: 7.6351e-04 - dense_7_loss: 7.6781e-04 - dense_4_mean_squared_error: 0.0015 - dense_5_mean_squared_error: 0.0016 - dense_6_mean_squared_error: 0.0015 - dense_7_mean_squared_error: 0.0015 - val_loss: 0.0358 - val_dense_4_loss: 0.0020 - val_dense_5_loss: 7.8391e-04 - val_dense_6_loss: 8.1673e-04 - val_dense_7_loss: 0.0218 - val_dense_4_mean_squared_error: 0.0040 - val_dense_5_mean_squared_error: 0.0016 - val_dense_6_mean_squared_error: 0.0016 - val_dense_7_mean_squared_error: 0.0436\n",
      "Epoch 8/70\n",
      "17/17 [==============================] - 4s 211ms/step - loss: 0.0154 - dense_4_loss: 7.4773e-04 - dense_5_loss: 7.4655e-04 - dense_6_loss: 7.5368e-04 - dense_7_loss: 7.4934e-04 - dense_4_mean_squared_error: 0.0015 - dense_5_mean_squared_error: 0.0015 - dense_6_mean_squared_error: 0.0015 - dense_7_mean_squared_error: 0.0015 - val_loss: 0.0370 - val_dense_4_loss: 0.0113 - val_dense_5_loss: 0.0050 - val_dense_6_loss: 8.2733e-04 - val_dense_7_loss: 0.0029 - val_dense_4_mean_squared_error: 0.0226 - val_dense_5_mean_squared_error: 0.0099 - val_dense_6_mean_squared_error: 0.0017 - val_dense_7_mean_squared_error: 0.0058\n",
      "Epoch 9/70\n",
      "17/17 [==============================] - 4s 214ms/step - loss: 0.0172 - dense_4_loss: 8.2643e-04 - dense_5_loss: 8.0834e-04 - dense_6_loss: 8.2763e-04 - dense_7_loss: 8.2454e-04 - dense_4_mean_squared_error: 0.0017 - dense_5_mean_squared_error: 0.0016 - dense_6_mean_squared_error: 0.0017 - dense_7_mean_squared_error: 0.0016 - val_loss: 0.0143 - val_dense_4_loss: 8.1716e-04 - val_dense_5_loss: 8.2368e-04 - val_dense_6_loss: 8.2359e-04 - val_dense_7_loss: 0.0024 - val_dense_4_mean_squared_error: 0.0016 - val_dense_5_mean_squared_error: 0.0016 - val_dense_6_mean_squared_error: 0.0016 - val_dense_7_mean_squared_error: 0.0048\n",
      "Epoch 10/70\n",
      "17/17 [==============================] - 4s 214ms/step - loss: 0.0164 - dense_4_loss: 7.6117e-04 - dense_5_loss: 7.6078e-04 - dense_6_loss: 7.5881e-04 - dense_7_loss: 7.6055e-04 - dense_4_mean_squared_error: 0.0015 - dense_5_mean_squared_error: 0.0015 - dense_6_mean_squared_error: 0.0015 - dense_7_mean_squared_error: 0.0015 - val_loss: 0.0246 - val_dense_4_loss: 9.5656e-04 - val_dense_5_loss: 0.0010 - val_dense_6_loss: 8.1481e-04 - val_dense_7_loss: 8.6478e-04 - val_dense_4_mean_squared_error: 0.0019 - val_dense_5_mean_squared_error: 0.0020 - val_dense_6_mean_squared_error: 0.0016 - val_dense_7_mean_squared_error: 0.0017\n",
      "Epoch 11/70\n",
      "17/17 [==============================] - 4s 217ms/step - loss: 0.0162 - dense_4_loss: 7.9294e-04 - dense_5_loss: 7.8679e-04 - dense_6_loss: 7.9134e-04 - dense_7_loss: 7.8940e-04 - dense_4_mean_squared_error: 0.0016 - dense_5_mean_squared_error: 0.0016 - dense_6_mean_squared_error: 0.0016 - dense_7_mean_squared_error: 0.0016 - val_loss: 0.0169 - val_dense_4_loss: 0.0011 - val_dense_5_loss: 8.3118e-04 - val_dense_6_loss: 7.9676e-04 - val_dense_7_loss: 0.0029 - val_dense_4_mean_squared_error: 0.0022 - val_dense_5_mean_squared_error: 0.0017 - val_dense_6_mean_squared_error: 0.0016 - val_dense_7_mean_squared_error: 0.0059\n",
      "Epoch 12/70\n",
      "17/17 [==============================] - 4s 216ms/step - loss: 0.0171 - dense_4_loss: 7.8929e-04 - dense_5_loss: 7.7042e-04 - dense_6_loss: 7.9348e-04 - dense_7_loss: 7.9013e-04 - dense_4_mean_squared_error: 0.0016 - dense_5_mean_squared_error: 0.0015 - dense_6_mean_squared_error: 0.0016 - dense_7_mean_squared_error: 0.0016 - val_loss: 0.0199 - val_dense_4_loss: 0.0017 - val_dense_5_loss: 8.9077e-04 - val_dense_6_loss: 7.4267e-04 - val_dense_7_loss: 8.0126e-04 - val_dense_4_mean_squared_error: 0.0033 - val_dense_5_mean_squared_error: 0.0018 - val_dense_6_mean_squared_error: 0.0015 - val_dense_7_mean_squared_error: 0.0016\n",
      "Epoch 13/70\n",
      "17/17 [==============================] - 4s 212ms/step - loss: 0.0158 - dense_4_loss: 7.9070e-04 - dense_5_loss: 7.8685e-04 - dense_6_loss: 7.8550e-04 - dense_7_loss: 7.9028e-04 - dense_4_mean_squared_error: 0.0016 - dense_5_mean_squared_error: 0.0016 - dense_6_mean_squared_error: 0.0016 - dense_7_mean_squared_error: 0.0016 - val_loss: 0.0179 - val_dense_4_loss: 8.3198e-04 - val_dense_5_loss: 7.6930e-04 - val_dense_6_loss: 7.8314e-04 - val_dense_7_loss: 7.8186e-04 - val_dense_4_mean_squared_error: 0.0017 - val_dense_5_mean_squared_error: 0.0015 - val_dense_6_mean_squared_error: 0.0016 - val_dense_7_mean_squared_error: 0.0016\n",
      "Epoch 14/70\n",
      "17/17 [==============================] - 4s 215ms/step - loss: 0.0166 - dense_4_loss: 7.5273e-04 - dense_5_loss: 7.4635e-04 - dense_6_loss: 7.4726e-04 - dense_7_loss: 7.5701e-04 - dense_4_mean_squared_error: 0.0015 - dense_5_mean_squared_error: 0.0015 - dense_6_mean_squared_error: 0.0015 - dense_7_mean_squared_error: 0.0015 - val_loss: 0.0172 - val_dense_4_loss: 7.8749e-04 - val_dense_5_loss: 7.7409e-04 - val_dense_6_loss: 8.0325e-04 - val_dense_7_loss: 7.9988e-04 - val_dense_4_mean_squared_error: 0.0016 - val_dense_5_mean_squared_error: 0.0015 - val_dense_6_mean_squared_error: 0.0016 - val_dense_7_mean_squared_error: 0.0016\n",
      "Epoch 15/70\n",
      "17/17 [==============================] - 4s 212ms/step - loss: 0.0171 - dense_4_loss: 7.9668e-04 - dense_5_loss: 7.8829e-04 - dense_6_loss: 7.9265e-04 - dense_7_loss: 8.0000e-04 - dense_4_mean_squared_error: 0.0016 - dense_5_mean_squared_error: 0.0016 - dense_6_mean_squared_error: 0.0016 - dense_7_mean_squared_error: 0.0016 - val_loss: 0.0158 - val_dense_4_loss: 7.8763e-04 - val_dense_5_loss: 7.8532e-04 - val_dense_6_loss: 7.8869e-04 - val_dense_7_loss: 7.8578e-04 - val_dense_4_mean_squared_error: 0.0016 - val_dense_5_mean_squared_error: 0.0016 - val_dense_6_mean_squared_error: 0.0016 - val_dense_7_mean_squared_error: 0.0016\n",
      "Epoch 16/70\n",
      "17/17 [==============================] - 4s 210ms/step - loss: 0.0162 - dense_4_loss: 7.7322e-04 - dense_5_loss: 7.6650e-04 - dense_6_loss: 7.7236e-04 - dense_7_loss: 7.8316e-04 - dense_4_mean_squared_error: 0.0015 - dense_5_mean_squared_error: 0.0015 - dense_6_mean_squared_error: 0.0015 - dense_7_mean_squared_error: 0.0016 - val_loss: 0.0166 - val_dense_4_loss: 9.7181e-04 - val_dense_5_loss: 8.6428e-04 - val_dense_6_loss: 8.0093e-04 - val_dense_7_loss: 0.0010 - val_dense_4_mean_squared_error: 0.0019 - val_dense_5_mean_squared_error: 0.0017 - val_dense_6_mean_squared_error: 0.0016 - val_dense_7_mean_squared_error: 0.0021\n",
      "Epoch 17/70\n",
      "17/17 [==============================] - 4s 209ms/step - loss: 0.0173 - dense_4_loss: 7.6477e-04 - dense_5_loss: 7.6211e-04 - dense_6_loss: 7.6434e-04 - dense_7_loss: 7.7715e-04 - dense_4_mean_squared_error: 0.0015 - dense_5_mean_squared_error: 0.0015 - dense_6_mean_squared_error: 0.0015 - dense_7_mean_squared_error: 0.0016 - val_loss: 0.0188 - val_dense_4_loss: 0.0045 - val_dense_5_loss: 8.2698e-04 - val_dense_6_loss: 8.1072e-04 - val_dense_7_loss: 8.3679e-04 - val_dense_4_mean_squared_error: 0.0090 - val_dense_5_mean_squared_error: 0.0017 - val_dense_6_mean_squared_error: 0.0016 - val_dense_7_mean_squared_error: 0.0017\n",
      "Epoch 18/70\n",
      "17/17 [==============================] - 4s 212ms/step - loss: 0.0161 - dense_4_loss: 7.6283e-04 - dense_5_loss: 7.5800e-04 - dense_6_loss: 7.8318e-04 - dense_7_loss: 7.7312e-04 - dense_4_mean_squared_error: 0.0015 - dense_5_mean_squared_error: 0.0015 - dense_6_mean_squared_error: 0.0016 - dense_7_mean_squared_error: 0.0015 - val_loss: 0.0179 - val_dense_4_loss: 7.8660e-04 - val_dense_5_loss: 8.1208e-04 - val_dense_6_loss: 7.8457e-04 - val_dense_7_loss: 7.7250e-04 - val_dense_4_mean_squared_error: 0.0016 - val_dense_5_mean_squared_error: 0.0016 - val_dense_6_mean_squared_error: 0.0016 - val_dense_7_mean_squared_error: 0.0015\n",
      "Epoch 19/70\n",
      "17/17 [==============================] - 4s 209ms/step - loss: 0.0164 - dense_4_loss: 7.4658e-04 - dense_5_loss: 7.5312e-04 - dense_6_loss: 7.5380e-04 - dense_7_loss: 7.6374e-04 - dense_4_mean_squared_error: 0.0015 - dense_5_mean_squared_error: 0.0015 - dense_6_mean_squared_error: 0.0015 - dense_7_mean_squared_error: 0.0015 - val_loss: 0.0184 - val_dense_4_loss: 7.6338e-04 - val_dense_5_loss: 8.1093e-04 - val_dense_6_loss: 7.7539e-04 - val_dense_7_loss: 8.0983e-04 - val_dense_4_mean_squared_error: 0.0015 - val_dense_5_mean_squared_error: 0.0016 - val_dense_6_mean_squared_error: 0.0016 - val_dense_7_mean_squared_error: 0.0016\n",
      "Epoch 20/70\n",
      "17/17 [==============================] - 4s 209ms/step - loss: 0.0174 - dense_4_loss: 7.8183e-04 - dense_5_loss: 7.8481e-04 - dense_6_loss: 8.0224e-04 - dense_7_loss: 7.9482e-04 - dense_4_mean_squared_error: 0.0016 - dense_5_mean_squared_error: 0.0016 - dense_6_mean_squared_error: 0.0016 - dense_7_mean_squared_error: 0.0016 - val_loss: 0.0154 - val_dense_4_loss: 7.9758e-04 - val_dense_5_loss: 7.7986e-04 - val_dense_6_loss: 8.0578e-04 - val_dense_7_loss: 7.8910e-04 - val_dense_4_mean_squared_error: 0.0016 - val_dense_5_mean_squared_error: 0.0016 - val_dense_6_mean_squared_error: 0.0016 - val_dense_7_mean_squared_error: 0.0016\n",
      "Epoch 21/70\n",
      "17/17 [==============================] - 4s 209ms/step - loss: 0.0157 - dense_4_loss: 7.5495e-04 - dense_5_loss: 7.5841e-04 - dense_6_loss: 7.7828e-04 - dense_7_loss: 7.6526e-04 - dense_4_mean_squared_error: 0.0015 - dense_5_mean_squared_error: 0.0015 - dense_6_mean_squared_error: 0.0016 - dense_7_mean_squared_error: 0.0015 - val_loss: 0.0185 - val_dense_4_loss: 7.9445e-04 - val_dense_5_loss: 7.5551e-04 - val_dense_6_loss: 7.9778e-04 - val_dense_7_loss: 7.8257e-04 - val_dense_4_mean_squared_error: 0.0016 - val_dense_5_mean_squared_error: 0.0015 - val_dense_6_mean_squared_error: 0.0016 - val_dense_7_mean_squared_error: 0.0016\n",
      "Epoch 22/70\n",
      "17/17 [==============================] - 4s 209ms/step - loss: 0.0172 - dense_4_loss: 7.4994e-04 - dense_5_loss: 7.5091e-04 - dense_6_loss: 7.5516e-04 - dense_7_loss: 7.5071e-04 - dense_4_mean_squared_error: 0.0015 - dense_5_mean_squared_error: 0.0015 - dense_6_mean_squared_error: 0.0015 - dense_7_mean_squared_error: 0.0015 - val_loss: 0.0151 - val_dense_4_loss: 7.9878e-04 - val_dense_5_loss: 7.8415e-04 - val_dense_6_loss: 8.1065e-04 - val_dense_7_loss: 7.7632e-04 - val_dense_4_mean_squared_error: 0.0016 - val_dense_5_mean_squared_error: 0.0016 - val_dense_6_mean_squared_error: 0.0016 - val_dense_7_mean_squared_error: 0.0016\n",
      "Epoch 23/70\n",
      "17/17 [==============================] - 4s 210ms/step - loss: 0.0164 - dense_4_loss: 7.5089e-04 - dense_5_loss: 7.4958e-04 - dense_6_loss: 7.5064e-04 - dense_7_loss: 7.5142e-04 - dense_4_mean_squared_error: 0.0015 - dense_5_mean_squared_error: 0.0015 - dense_6_mean_squared_error: 0.0015 - dense_7_mean_squared_error: 0.0015 - val_loss: 0.0153 - val_dense_4_loss: 7.9052e-04 - val_dense_5_loss: 7.8721e-04 - val_dense_6_loss: 7.9038e-04 - val_dense_7_loss: 8.0775e-04 - val_dense_4_mean_squared_error: 0.0016 - val_dense_5_mean_squared_error: 0.0016 - val_dense_6_mean_squared_error: 0.0016 - val_dense_7_mean_squared_error: 0.0016\n",
      "Epoch 24/70\n",
      "17/17 [==============================] - 4s 210ms/step - loss: 0.0163 - dense_4_loss: 7.4461e-04 - dense_5_loss: 7.4300e-04 - dense_6_loss: 7.4345e-04 - dense_7_loss: 7.4561e-04 - dense_4_mean_squared_error: 0.0015 - dense_5_mean_squared_error: 0.0015 - dense_6_mean_squared_error: 0.0015 - dense_7_mean_squared_error: 0.0015 - val_loss: 0.0166 - val_dense_4_loss: 7.9408e-04 - val_dense_5_loss: 7.6037e-04 - val_dense_6_loss: 7.6753e-04 - val_dense_7_loss: 8.1227e-04 - val_dense_4_mean_squared_error: 0.0016 - val_dense_5_mean_squared_error: 0.0015 - val_dense_6_mean_squared_error: 0.0015 - val_dense_7_mean_squared_error: 0.0016\n",
      "Epoch 25/70\n",
      "17/17 [==============================] - 4s 208ms/step - loss: 0.0173 - dense_4_loss: 7.7620e-04 - dense_5_loss: 7.6938e-04 - dense_6_loss: 8.0583e-04 - dense_7_loss: 7.7385e-04 - dense_4_mean_squared_error: 0.0016 - dense_5_mean_squared_error: 0.0015 - dense_6_mean_squared_error: 0.0016 - dense_7_mean_squared_error: 0.0015 - val_loss: 0.0173 - val_dense_4_loss: 7.5474e-04 - val_dense_5_loss: 8.5699e-04 - val_dense_6_loss: 0.0012 - val_dense_7_loss: 0.0013 - val_dense_4_mean_squared_error: 0.0015 - val_dense_5_mean_squared_error: 0.0017 - val_dense_6_mean_squared_error: 0.0025 - val_dense_7_mean_squared_error: 0.0026\n",
      "Epoch 26/70\n",
      "17/17 [==============================] - 4s 209ms/step - loss: 0.0158 - dense_4_loss: 7.8111e-04 - dense_5_loss: 7.8476e-04 - dense_6_loss: 7.7490e-04 - dense_7_loss: 7.7717e-04 - dense_4_mean_squared_error: 0.0016 - dense_5_mean_squared_error: 0.0016 - dense_6_mean_squared_error: 0.0015 - dense_7_mean_squared_error: 0.0016 - val_loss: 0.0161 - val_dense_4_loss: 8.5075e-04 - val_dense_5_loss: 7.6360e-04 - val_dense_6_loss: 8.2229e-04 - val_dense_7_loss: 9.0763e-04 - val_dense_4_mean_squared_error: 0.0017 - val_dense_5_mean_squared_error: 0.0015 - val_dense_6_mean_squared_error: 0.0016 - val_dense_7_mean_squared_error: 0.0018\n",
      "Epoch 27/70\n",
      "17/17 [==============================] - 4s 209ms/step - loss: 0.0168 - dense_4_loss: 7.4309e-04 - dense_5_loss: 7.4483e-04 - dense_6_loss: 7.4300e-04 - dense_7_loss: 7.4500e-04 - dense_4_mean_squared_error: 0.0015 - dense_5_mean_squared_error: 0.0015 - dense_6_mean_squared_error: 0.0015 - dense_7_mean_squared_error: 0.0015 - val_loss: 0.0177 - val_dense_4_loss: 0.0011 - val_dense_5_loss: 8.0325e-04 - val_dense_6_loss: 0.0013 - val_dense_7_loss: 0.0012 - val_dense_4_mean_squared_error: 0.0021 - val_dense_5_mean_squared_error: 0.0016 - val_dense_6_mean_squared_error: 0.0025 - val_dense_7_mean_squared_error: 0.0024\n",
      "Epoch 28/70\n",
      "17/17 [==============================] - 4s 209ms/step - loss: 0.0165 - dense_4_loss: 7.7580e-04 - dense_5_loss: 7.7400e-04 - dense_6_loss: 7.8133e-04 - dense_7_loss: 7.7770e-04 - dense_4_mean_squared_error: 0.0016 - dense_5_mean_squared_error: 0.0015 - dense_6_mean_squared_error: 0.0016 - dense_7_mean_squared_error: 0.0016 - val_loss: 0.0167 - val_dense_4_loss: 8.2763e-04 - val_dense_5_loss: 7.6014e-04 - val_dense_6_loss: 0.0012 - val_dense_7_loss: 8.9889e-04 - val_dense_4_mean_squared_error: 0.0017 - val_dense_5_mean_squared_error: 0.0015 - val_dense_6_mean_squared_error: 0.0023 - val_dense_7_mean_squared_error: 0.0018\n",
      "Epoch 29/70\n",
      "17/17 [==============================] - 4s 208ms/step - loss: 0.0162 - dense_4_loss: 7.1353e-04 - dense_5_loss: 7.1780e-04 - dense_6_loss: 7.1383e-04 - dense_7_loss: 7.1520e-04 - dense_4_mean_squared_error: 0.0014 - dense_5_mean_squared_error: 0.0014 - dense_6_mean_squared_error: 0.0014 - dense_7_mean_squared_error: 0.0014 - val_loss: 0.0191 - val_dense_4_loss: 0.0015 - val_dense_5_loss: 8.7892e-04 - val_dense_6_loss: 0.0019 - val_dense_7_loss: 0.0017 - val_dense_4_mean_squared_error: 0.0029 - val_dense_5_mean_squared_error: 0.0018 - val_dense_6_mean_squared_error: 0.0037 - val_dense_7_mean_squared_error: 0.0034\n",
      "Epoch 30/70\n",
      "17/17 [==============================] - 4s 211ms/step - loss: 0.0172 - dense_4_loss: 7.6355e-04 - dense_5_loss: 7.6279e-04 - dense_6_loss: 7.6150e-04 - dense_7_loss: 7.6120e-04 - dense_4_mean_squared_error: 0.0015 - dense_5_mean_squared_error: 0.0015 - dense_6_mean_squared_error: 0.0015 - dense_7_mean_squared_error: 0.0015 - val_loss: 0.0174 - val_dense_4_loss: 0.0010 - val_dense_5_loss: 8.3788e-04 - val_dense_6_loss: 0.0013 - val_dense_7_loss: 0.0011 - val_dense_4_mean_squared_error: 0.0020 - val_dense_5_mean_squared_error: 0.0017 - val_dense_6_mean_squared_error: 0.0027 - val_dense_7_mean_squared_error: 0.0022\n",
      "Epoch 31/70\n",
      "17/17 [==============================] - 4s 208ms/step - loss: 0.0156 - dense_4_loss: 7.3905e-04 - dense_5_loss: 7.3636e-04 - dense_6_loss: 7.4113e-04 - dense_7_loss: 7.5967e-04 - dense_4_mean_squared_error: 0.0015 - dense_5_mean_squared_error: 0.0015 - dense_6_mean_squared_error: 0.0015 - dense_7_mean_squared_error: 0.0015 - val_loss: 0.0181 - val_dense_4_loss: 0.0014 - val_dense_5_loss: 9.6002e-04 - val_dense_6_loss: 0.0019 - val_dense_7_loss: 0.0012 - val_dense_4_mean_squared_error: 0.0029 - val_dense_5_mean_squared_error: 0.0019 - val_dense_6_mean_squared_error: 0.0038 - val_dense_7_mean_squared_error: 0.0023\n",
      "Epoch 32/70\n",
      "17/17 [==============================] - 4s 208ms/step - loss: 0.0172 - dense_4_loss: 7.7874e-04 - dense_5_loss: 7.7895e-04 - dense_6_loss: 7.7890e-04 - dense_7_loss: 7.9581e-04 - dense_4_mean_squared_error: 0.0016 - dense_5_mean_squared_error: 0.0016 - dense_6_mean_squared_error: 0.0016 - dense_7_mean_squared_error: 0.0016 - val_loss: 0.0189 - val_dense_4_loss: 0.0012 - val_dense_5_loss: 8.7993e-04 - val_dense_6_loss: 0.0012 - val_dense_7_loss: 0.0013 - val_dense_4_mean_squared_error: 0.0025 - val_dense_5_mean_squared_error: 0.0018 - val_dense_6_mean_squared_error: 0.0024 - val_dense_7_mean_squared_error: 0.0027\n",
      "Epoch 33/70\n",
      "17/17 [==============================] - 4s 208ms/step - loss: 0.0167 - dense_4_loss: 7.4632e-04 - dense_5_loss: 7.4927e-04 - dense_6_loss: 7.6208e-04 - dense_7_loss: 7.4422e-04 - dense_4_mean_squared_error: 0.0015 - dense_5_mean_squared_error: 0.0015 - dense_6_mean_squared_error: 0.0015 - dense_7_mean_squared_error: 0.0015 - val_loss: 0.0207 - val_dense_4_loss: 8.0027e-04 - val_dense_5_loss: 8.0174e-04 - val_dense_6_loss: 8.0656e-04 - val_dense_7_loss: 8.1111e-04 - val_dense_4_mean_squared_error: 0.0016 - val_dense_5_mean_squared_error: 0.0016 - val_dense_6_mean_squared_error: 0.0016 - val_dense_7_mean_squared_error: 0.0016\n",
      "Epoch 34/70\n",
      "17/17 [==============================] - 4s 209ms/step - loss: 0.0168 - dense_4_loss: 7.4352e-04 - dense_5_loss: 7.4648e-04 - dense_6_loss: 7.4485e-04 - dense_7_loss: 7.4446e-04 - dense_4_mean_squared_error: 0.0015 - dense_5_mean_squared_error: 0.0015 - dense_6_mean_squared_error: 0.0015 - dense_7_mean_squared_error: 0.0015 - val_loss: 0.0199 - val_dense_4_loss: 8.0309e-04 - val_dense_5_loss: 7.8666e-04 - val_dense_6_loss: 0.0029 - val_dense_7_loss: 8.2103e-04 - val_dense_4_mean_squared_error: 0.0016 - val_dense_5_mean_squared_error: 0.0016 - val_dense_6_mean_squared_error: 0.0058 - val_dense_7_mean_squared_error: 0.0016\n",
      "Epoch 35/70\n",
      "17/17 [==============================] - 4s 209ms/step - loss: 0.0178 - dense_4_loss: 7.5740e-04 - dense_5_loss: 7.6025e-04 - dense_6_loss: 7.6074e-04 - dense_7_loss: 7.5990e-04 - dense_4_mean_squared_error: 0.0015 - dense_5_mean_squared_error: 0.0015 - dense_6_mean_squared_error: 0.0015 - dense_7_mean_squared_error: 0.0015 - val_loss: 0.0154 - val_dense_4_loss: 8.0605e-04 - val_dense_5_loss: 0.0015 - val_dense_6_loss: 8.3126e-04 - val_dense_7_loss: 8.1350e-04 - val_dense_4_mean_squared_error: 0.0016 - val_dense_5_mean_squared_error: 0.0030 - val_dense_6_mean_squared_error: 0.0017 - val_dense_7_mean_squared_error: 0.0016\n",
      "Epoch 36/70\n",
      "17/17 [==============================] - 4s 210ms/step - loss: 0.0162 - dense_4_loss: 7.5185e-04 - dense_5_loss: 7.5767e-04 - dense_6_loss: 7.4597e-04 - dense_7_loss: 7.4452e-04 - dense_4_mean_squared_error: 0.0015 - dense_5_mean_squared_error: 0.0015 - dense_6_mean_squared_error: 0.0015 - dense_7_mean_squared_error: 0.0015 - val_loss: 0.0201 - val_dense_4_loss: 8.0299e-04 - val_dense_5_loss: 7.7048e-04 - val_dense_6_loss: 8.0497e-04 - val_dense_7_loss: 7.9781e-04 - val_dense_4_mean_squared_error: 0.0016 - val_dense_5_mean_squared_error: 0.0015 - val_dense_6_mean_squared_error: 0.0016 - val_dense_7_mean_squared_error: 0.0016\n",
      "Epoch 37/70\n",
      "17/17 [==============================] - 4s 209ms/step - loss: 0.0177 - dense_4_loss: 7.5544e-04 - dense_5_loss: 7.5477e-04 - dense_6_loss: 7.5757e-04 - dense_7_loss: 7.5615e-04 - dense_4_mean_squared_error: 0.0015 - dense_5_mean_squared_error: 0.0015 - dense_6_mean_squared_error: 0.0015 - dense_7_mean_squared_error: 0.0015 - val_loss: 0.0130 - val_dense_4_loss: 8.0161e-04 - val_dense_5_loss: 7.9630e-04 - val_dense_6_loss: 7.9907e-04 - val_dense_7_loss: 7.7013e-04 - val_dense_4_mean_squared_error: 0.0016 - val_dense_5_mean_squared_error: 0.0016 - val_dense_6_mean_squared_error: 0.0016 - val_dense_7_mean_squared_error: 0.0015\n",
      "Epoch 38/70\n",
      "17/17 [==============================] - 4s 209ms/step - loss: 0.0175 - dense_4_loss: 7.3717e-04 - dense_5_loss: 7.3771e-04 - dense_6_loss: 7.4271e-04 - dense_7_loss: 7.3638e-04 - dense_4_mean_squared_error: 0.0015 - dense_5_mean_squared_error: 0.0015 - dense_6_mean_squared_error: 0.0015 - dense_7_mean_squared_error: 0.0015 - val_loss: 0.0227 - val_dense_4_loss: 8.0005e-04 - val_dense_5_loss: 8.5364e-04 - val_dense_6_loss: 8.0357e-04 - val_dense_7_loss: 8.0442e-04 - val_dense_4_mean_squared_error: 0.0016 - val_dense_5_mean_squared_error: 0.0017 - val_dense_6_mean_squared_error: 0.0016 - val_dense_7_mean_squared_error: 0.0016\n",
      "Epoch 39/70\n",
      "17/17 [==============================] - 4s 208ms/step - loss: 0.0170 - dense_4_loss: 7.4501e-04 - dense_5_loss: 7.4485e-04 - dense_6_loss: 7.5982e-04 - dense_7_loss: 7.4354e-04 - dense_4_mean_squared_error: 0.0015 - dense_5_mean_squared_error: 0.0015 - dense_6_mean_squared_error: 0.0015 - dense_7_mean_squared_error: 0.0015 - val_loss: 0.0161 - val_dense_4_loss: 8.1902e-04 - val_dense_5_loss: 8.2523e-04 - val_dense_6_loss: 8.1963e-04 - val_dense_7_loss: 8.3360e-04 - val_dense_4_mean_squared_error: 0.0016 - val_dense_5_mean_squared_error: 0.0017 - val_dense_6_mean_squared_error: 0.0016 - val_dense_7_mean_squared_error: 0.0017\n",
      "Epoch 40/70\n",
      "17/17 [==============================] - 4s 210ms/step - loss: 0.0177 - dense_4_loss: 7.7782e-04 - dense_5_loss: 7.7873e-04 - dense_6_loss: 8.3282e-04 - dense_7_loss: 7.7918e-04 - dense_4_mean_squared_error: 0.0016 - dense_5_mean_squared_error: 0.0016 - dense_6_mean_squared_error: 0.0017 - dense_7_mean_squared_error: 0.0016 - val_loss: 0.0169 - val_dense_4_loss: 8.0995e-04 - val_dense_5_loss: 8.7984e-04 - val_dense_6_loss: 7.8809e-04 - val_dense_7_loss: 8.0916e-04 - val_dense_4_mean_squared_error: 0.0016 - val_dense_5_mean_squared_error: 0.0018 - val_dense_6_mean_squared_error: 0.0016 - val_dense_7_mean_squared_error: 0.0016\n",
      "Epoch 41/70\n",
      "17/17 [==============================] - 4s 210ms/step - loss: 0.0168 - dense_4_loss: 7.4370e-04 - dense_5_loss: 7.5017e-04 - dense_6_loss: 7.6186e-04 - dense_7_loss: 7.3428e-04 - dense_4_mean_squared_error: 0.0015 - dense_5_mean_squared_error: 0.0015 - dense_6_mean_squared_error: 0.0015 - dense_7_mean_squared_error: 0.0015 - val_loss: 0.0201 - val_dense_4_loss: 8.0530e-04 - val_dense_5_loss: 7.9734e-04 - val_dense_6_loss: 8.1992e-04 - val_dense_7_loss: 8.4389e-04 - val_dense_4_mean_squared_error: 0.0016 - val_dense_5_mean_squared_error: 0.0016 - val_dense_6_mean_squared_error: 0.0016 - val_dense_7_mean_squared_error: 0.0017\n",
      "Epoch 42/70\n",
      "17/17 [==============================] - 4s 210ms/step - loss: 0.0175 - dense_4_loss: 7.6592e-04 - dense_5_loss: 7.6546e-04 - dense_6_loss: 7.6585e-04 - dense_7_loss: 7.6586e-04 - dense_4_mean_squared_error: 0.0015 - dense_5_mean_squared_error: 0.0015 - dense_6_mean_squared_error: 0.0015 - dense_7_mean_squared_error: 0.0015 - val_loss: 0.0163 - val_dense_4_loss: 8.1080e-04 - val_dense_5_loss: 7.8714e-04 - val_dense_6_loss: 8.0942e-04 - val_dense_7_loss: 8.0554e-04 - val_dense_4_mean_squared_error: 0.0016 - val_dense_5_mean_squared_error: 0.0016 - val_dense_6_mean_squared_error: 0.0016 - val_dense_7_mean_squared_error: 0.0016\n",
      "Epoch 43/70\n",
      "17/17 [==============================] - 4s 209ms/step - loss: 0.0180 - dense_4_loss: 7.2704e-04 - dense_5_loss: 7.2612e-04 - dense_6_loss: 7.5984e-04 - dense_7_loss: 7.2617e-04 - dense_4_mean_squared_error: 0.0015 - dense_5_mean_squared_error: 0.0015 - dense_6_mean_squared_error: 0.0015 - dense_7_mean_squared_error: 0.0015 - val_loss: 0.0179 - val_dense_4_loss: 8.0051e-04 - val_dense_5_loss: 7.8299e-04 - val_dense_6_loss: 8.7365e-04 - val_dense_7_loss: 8.0437e-04 - val_dense_4_mean_squared_error: 0.0016 - val_dense_5_mean_squared_error: 0.0016 - val_dense_6_mean_squared_error: 0.0017 - val_dense_7_mean_squared_error: 0.0016\n",
      "Epoch 44/70\n",
      "17/17 [==============================] - 4s 209ms/step - loss: 0.0166 - dense_4_loss: 7.1384e-04 - dense_5_loss: 7.0975e-04 - dense_6_loss: 7.3955e-04 - dense_7_loss: 7.1586e-04 - dense_4_mean_squared_error: 0.0014 - dense_5_mean_squared_error: 0.0014 - dense_6_mean_squared_error: 0.0015 - dense_7_mean_squared_error: 0.0014 - val_loss: 0.0170 - val_dense_4_loss: 8.1863e-04 - val_dense_5_loss: 8.4140e-04 - val_dense_6_loss: 8.8580e-04 - val_dense_7_loss: 8.0222e-04 - val_dense_4_mean_squared_error: 0.0016 - val_dense_5_mean_squared_error: 0.0017 - val_dense_6_mean_squared_error: 0.0018 - val_dense_7_mean_squared_error: 0.0016\n",
      "Epoch 45/70\n",
      "17/17 [==============================] - 4s 208ms/step - loss: 0.0179 - dense_4_loss: 7.5113e-04 - dense_5_loss: 7.4993e-04 - dense_6_loss: 7.7930e-04 - dense_7_loss: 7.5082e-04 - dense_4_mean_squared_error: 0.0015 - dense_5_mean_squared_error: 0.0015 - dense_6_mean_squared_error: 0.0016 - dense_7_mean_squared_error: 0.0015 - val_loss: 0.0155 - val_dense_4_loss: 8.1913e-04 - val_dense_5_loss: 7.8636e-04 - val_dense_6_loss: 7.9813e-04 - val_dense_7_loss: 8.0473e-04 - val_dense_4_mean_squared_error: 0.0016 - val_dense_5_mean_squared_error: 0.0016 - val_dense_6_mean_squared_error: 0.0016 - val_dense_7_mean_squared_error: 0.0016\n",
      "Epoch 46/70\n",
      "17/17 [==============================] - 4s 210ms/step - loss: 0.0173 - dense_4_loss: 7.9628e-04 - dense_5_loss: 7.9638e-04 - dense_6_loss: 8.1517e-04 - dense_7_loss: 7.9232e-04 - dense_4_mean_squared_error: 0.0016 - dense_5_mean_squared_error: 0.0016 - dense_6_mean_squared_error: 0.0016 - dense_7_mean_squared_error: 0.0016 - val_loss: 0.0200 - val_dense_4_loss: 8.6492e-04 - val_dense_5_loss: 7.4457e-04 - val_dense_6_loss: 7.9418e-04 - val_dense_7_loss: 8.0145e-04 - val_dense_4_mean_squared_error: 0.0017 - val_dense_5_mean_squared_error: 0.0015 - val_dense_6_mean_squared_error: 0.0016 - val_dense_7_mean_squared_error: 0.0016\n",
      "Epoch 47/70\n",
      "17/17 [==============================] - 4s 210ms/step - loss: 0.0177 - dense_4_loss: 7.4766e-04 - dense_5_loss: 7.5032e-04 - dense_6_loss: 8.0258e-04 - dense_7_loss: 7.5248e-04 - dense_4_mean_squared_error: 0.0015 - dense_5_mean_squared_error: 0.0015 - dense_6_mean_squared_error: 0.0016 - dense_7_mean_squared_error: 0.0015 - val_loss: 0.0184 - val_dense_4_loss: 7.7163e-04 - val_dense_5_loss: 7.9865e-04 - val_dense_6_loss: 8.1888e-04 - val_dense_7_loss: 7.9894e-04 - val_dense_4_mean_squared_error: 0.0015 - val_dense_5_mean_squared_error: 0.0016 - val_dense_6_mean_squared_error: 0.0016 - val_dense_7_mean_squared_error: 0.0016\n",
      "Epoch 48/70\n",
      "17/17 [==============================] - 4s 209ms/step - loss: 0.0178 - dense_4_loss: 7.2511e-04 - dense_5_loss: 7.2577e-04 - dense_6_loss: 7.2620e-04 - dense_7_loss: 7.2615e-04 - dense_4_mean_squared_error: 0.0015 - dense_5_mean_squared_error: 0.0015 - dense_6_mean_squared_error: 0.0015 - dense_7_mean_squared_error: 0.0015 - val_loss: 0.0162 - val_dense_4_loss: 8.1462e-04 - val_dense_5_loss: 8.0332e-04 - val_dense_6_loss: 8.1236e-04 - val_dense_7_loss: 8.0868e-04 - val_dense_4_mean_squared_error: 0.0016 - val_dense_5_mean_squared_error: 0.0016 - val_dense_6_mean_squared_error: 0.0016 - val_dense_7_mean_squared_error: 0.0016\n",
      "Epoch 49/70\n",
      "17/17 [==============================] - 4s 209ms/step - loss: 0.0169 - dense_4_loss: 7.3867e-04 - dense_5_loss: 7.4098e-04 - dense_6_loss: 7.9423e-04 - dense_7_loss: 7.6676e-04 - dense_4_mean_squared_error: 0.0015 - dense_5_mean_squared_error: 0.0015 - dense_6_mean_squared_error: 0.0016 - dense_7_mean_squared_error: 0.0015 - val_loss: 0.0187 - val_dense_4_loss: 7.9289e-04 - val_dense_5_loss: 7.8011e-04 - val_dense_6_loss: 8.2201e-04 - val_dense_7_loss: 8.0412e-04 - val_dense_4_mean_squared_error: 0.0016 - val_dense_5_mean_squared_error: 0.0016 - val_dense_6_mean_squared_error: 0.0016 - val_dense_7_mean_squared_error: 0.0016\n",
      "Epoch 50/70\n",
      "17/17 [==============================] - 4s 209ms/step - loss: 0.0180 - dense_4_loss: 7.8112e-04 - dense_5_loss: 7.8071e-04 - dense_6_loss: 7.8085e-04 - dense_7_loss: 7.7987e-04 - dense_4_mean_squared_error: 0.0016 - dense_5_mean_squared_error: 0.0016 - dense_6_mean_squared_error: 0.0016 - dense_7_mean_squared_error: 0.0016 - val_loss: 0.0151 - val_dense_4_loss: 8.0988e-04 - val_dense_5_loss: 8.1558e-04 - val_dense_6_loss: 8.1543e-04 - val_dense_7_loss: 8.0000e-04 - val_dense_4_mean_squared_error: 0.0016 - val_dense_5_mean_squared_error: 0.0016 - val_dense_6_mean_squared_error: 0.0016 - val_dense_7_mean_squared_error: 0.0016\n",
      "Epoch 51/70\n",
      "17/17 [==============================] - 4s 212ms/step - loss: 0.0172 - dense_4_loss: 7.2235e-04 - dense_5_loss: 7.4877e-04 - dense_6_loss: 7.4698e-04 - dense_7_loss: 7.4147e-04 - dense_4_mean_squared_error: 0.0014 - dense_5_mean_squared_error: 0.0015 - dense_6_mean_squared_error: 0.0015 - dense_7_mean_squared_error: 0.0015 - val_loss: 0.0173 - val_dense_4_loss: 8.1621e-04 - val_dense_5_loss: 7.9684e-04 - val_dense_6_loss: 8.2515e-04 - val_dense_7_loss: 8.1931e-04 - val_dense_4_mean_squared_error: 0.0016 - val_dense_5_mean_squared_error: 0.0016 - val_dense_6_mean_squared_error: 0.0017 - val_dense_7_mean_squared_error: 0.0016\n",
      "Epoch 52/70\n",
      "17/17 [==============================] - 4s 209ms/step - loss: 0.0177 - dense_4_loss: 7.5902e-04 - dense_5_loss: 7.5593e-04 - dense_6_loss: 7.8463e-04 - dense_7_loss: 7.5926e-04 - dense_4_mean_squared_error: 0.0015 - dense_5_mean_squared_error: 0.0015 - dense_6_mean_squared_error: 0.0016 - dense_7_mean_squared_error: 0.0015 - val_loss: 0.0181 - val_dense_4_loss: 8.5048e-04 - val_dense_5_loss: 9.5887e-04 - val_dense_6_loss: 7.8550e-04 - val_dense_7_loss: 0.0012 - val_dense_4_mean_squared_error: 0.0017 - val_dense_5_mean_squared_error: 0.0019 - val_dense_6_mean_squared_error: 0.0016 - val_dense_7_mean_squared_error: 0.0025\n",
      "Epoch 53/70\n",
      "17/17 [==============================] - 4s 211ms/step - loss: 0.0180 - dense_4_loss: 7.7370e-04 - dense_5_loss: 7.5253e-04 - dense_6_loss: 7.7739e-04 - dense_7_loss: 7.5439e-04 - dense_4_mean_squared_error: 0.0015 - dense_5_mean_squared_error: 0.0015 - dense_6_mean_squared_error: 0.0016 - dense_7_mean_squared_error: 0.0015 - val_loss: 0.0185 - val_dense_4_loss: 9.2325e-04 - val_dense_5_loss: 8.4656e-04 - val_dense_6_loss: 8.3947e-04 - val_dense_7_loss: 9.6087e-04 - val_dense_4_mean_squared_error: 0.0018 - val_dense_5_mean_squared_error: 0.0017 - val_dense_6_mean_squared_error: 0.0017 - val_dense_7_mean_squared_error: 0.0019\n",
      "Epoch 54/70\n",
      "17/17 [==============================] - 4s 209ms/step - loss: 0.0170 - dense_4_loss: 7.3997e-04 - dense_5_loss: 7.4081e-04 - dense_6_loss: 7.6817e-04 - dense_7_loss: 7.4038e-04 - dense_4_mean_squared_error: 0.0015 - dense_5_mean_squared_error: 0.0015 - dense_6_mean_squared_error: 0.0015 - dense_7_mean_squared_error: 0.0015 - val_loss: 0.0186 - val_dense_4_loss: 0.0011 - val_dense_5_loss: 8.1183e-04 - val_dense_6_loss: 7.7020e-04 - val_dense_7_loss: 0.0011 - val_dense_4_mean_squared_error: 0.0022 - val_dense_5_mean_squared_error: 0.0016 - val_dense_6_mean_squared_error: 0.0015 - val_dense_7_mean_squared_error: 0.0022\n",
      "Epoch 55/70\n",
      "17/17 [==============================] - 4s 210ms/step - loss: 0.0179 - dense_4_loss: 7.4495e-04 - dense_5_loss: 7.5359e-04 - dense_6_loss: 7.7049e-04 - dense_7_loss: 7.4794e-04 - dense_4_mean_squared_error: 0.0015 - dense_5_mean_squared_error: 0.0015 - dense_6_mean_squared_error: 0.0015 - dense_7_mean_squared_error: 0.0015 - val_loss: 0.0175 - val_dense_4_loss: 7.7374e-04 - val_dense_5_loss: 7.9320e-04 - val_dense_6_loss: 8.2839e-04 - val_dense_7_loss: 8.1343e-04 - val_dense_4_mean_squared_error: 0.0015 - val_dense_5_mean_squared_error: 0.0016 - val_dense_6_mean_squared_error: 0.0017 - val_dense_7_mean_squared_error: 0.0016\n",
      "Epoch 56/70\n",
      "17/17 [==============================] - 4s 209ms/step - loss: 0.0174 - dense_4_loss: 7.4131e-04 - dense_5_loss: 7.4237e-04 - dense_6_loss: 7.7079e-04 - dense_7_loss: 7.4120e-04 - dense_4_mean_squared_error: 0.0015 - dense_5_mean_squared_error: 0.0015 - dense_6_mean_squared_error: 0.0015 - dense_7_mean_squared_error: 0.0015 - val_loss: 0.0192 - val_dense_4_loss: 7.9329e-04 - val_dense_5_loss: 8.0368e-04 - val_dense_6_loss: 8.3953e-04 - val_dense_7_loss: 8.0587e-04 - val_dense_4_mean_squared_error: 0.0016 - val_dense_5_mean_squared_error: 0.0016 - val_dense_6_mean_squared_error: 0.0017 - val_dense_7_mean_squared_error: 0.0016\n",
      "Epoch 57/70\n",
      "17/17 [==============================] - 4s 209ms/step - loss: 0.0179 - dense_4_loss: 7.5721e-04 - dense_5_loss: 7.5919e-04 - dense_6_loss: 7.7879e-04 - dense_7_loss: 7.6105e-04 - dense_4_mean_squared_error: 0.0015 - dense_5_mean_squared_error: 0.0015 - dense_6_mean_squared_error: 0.0016 - dense_7_mean_squared_error: 0.0015 - val_loss: 0.0164 - val_dense_4_loss: 7.8664e-04 - val_dense_5_loss: 7.7412e-04 - val_dense_6_loss: 8.2238e-04 - val_dense_7_loss: 8.1127e-04 - val_dense_4_mean_squared_error: 0.0016 - val_dense_5_mean_squared_error: 0.0015 - val_dense_6_mean_squared_error: 0.0016 - val_dense_7_mean_squared_error: 0.0016\n",
      "Epoch 58/70\n",
      "17/17 [==============================] - 4s 213ms/step - loss: 0.0183 - dense_4_loss: 7.5420e-04 - dense_5_loss: 7.4713e-04 - dense_6_loss: 7.8160e-04 - dense_7_loss: 7.5407e-04 - dense_4_mean_squared_error: 0.0015 - dense_5_mean_squared_error: 0.0015 - dense_6_mean_squared_error: 0.0016 - dense_7_mean_squared_error: 0.0015 - val_loss: 0.0183 - val_dense_4_loss: 8.1578e-04 - val_dense_5_loss: 8.0299e-04 - val_dense_6_loss: 7.9566e-04 - val_dense_7_loss: 7.9209e-04 - val_dense_4_mean_squared_error: 0.0016 - val_dense_5_mean_squared_error: 0.0016 - val_dense_6_mean_squared_error: 0.0016 - val_dense_7_mean_squared_error: 0.0016\n",
      "Epoch 59/70\n",
      "17/17 [==============================] - 4s 209ms/step - loss: 0.0174 - dense_4_loss: 7.7506e-04 - dense_5_loss: 7.6525e-04 - dense_6_loss: 7.9500e-04 - dense_7_loss: 7.9462e-04 - dense_4_mean_squared_error: 0.0016 - dense_5_mean_squared_error: 0.0015 - dense_6_mean_squared_error: 0.0016 - dense_7_mean_squared_error: 0.0016 - val_loss: 0.0162 - val_dense_4_loss: 7.8733e-04 - val_dense_5_loss: 7.9029e-04 - val_dense_6_loss: 8.3755e-04 - val_dense_7_loss: 8.2240e-04 - val_dense_4_mean_squared_error: 0.0016 - val_dense_5_mean_squared_error: 0.0016 - val_dense_6_mean_squared_error: 0.0017 - val_dense_7_mean_squared_error: 0.0016\n",
      "Epoch 60/70\n",
      "17/17 [==============================] - 4s 209ms/step - loss: 0.0179 - dense_4_loss: 7.1256e-04 - dense_5_loss: 7.0808e-04 - dense_6_loss: 7.3842e-04 - dense_7_loss: 7.2836e-04 - dense_4_mean_squared_error: 0.0014 - dense_5_mean_squared_error: 0.0014 - dense_6_mean_squared_error: 0.0015 - dense_7_mean_squared_error: 0.0015 - val_loss: 0.0171 - val_dense_4_loss: 7.9637e-04 - val_dense_5_loss: 7.8789e-04 - val_dense_6_loss: 8.0828e-04 - val_dense_7_loss: 8.1291e-04 - val_dense_4_mean_squared_error: 0.0016 - val_dense_5_mean_squared_error: 0.0016 - val_dense_6_mean_squared_error: 0.0016 - val_dense_7_mean_squared_error: 0.0016\n",
      "Epoch 61/70\n",
      "17/17 [==============================] - 4s 208ms/step - loss: 0.0177 - dense_4_loss: 7.6771e-04 - dense_5_loss: 7.7435e-04 - dense_6_loss: 7.9034e-04 - dense_7_loss: 7.6608e-04 - dense_4_mean_squared_error: 0.0015 - dense_5_mean_squared_error: 0.0015 - dense_6_mean_squared_error: 0.0016 - dense_7_mean_squared_error: 0.0015 - val_loss: 0.0220 - val_dense_4_loss: 7.9925e-04 - val_dense_5_loss: 7.9254e-04 - val_dense_6_loss: 8.1770e-04 - val_dense_7_loss: 8.0176e-04 - val_dense_4_mean_squared_error: 0.0016 - val_dense_5_mean_squared_error: 0.0016 - val_dense_6_mean_squared_error: 0.0016 - val_dense_7_mean_squared_error: 0.0016\n",
      "Epoch 62/70\n",
      "17/17 [==============================] - 4s 211ms/step - loss: 0.0179 - dense_4_loss: 7.9039e-04 - dense_5_loss: 7.9431e-04 - dense_6_loss: 7.9245e-04 - dense_7_loss: 7.9080e-04 - dense_4_mean_squared_error: 0.0016 - dense_5_mean_squared_error: 0.0016 - dense_6_mean_squared_error: 0.0016 - dense_7_mean_squared_error: 0.0016 - val_loss: 0.0177 - val_dense_4_loss: 7.9949e-04 - val_dense_5_loss: 7.9376e-04 - val_dense_6_loss: 8.2041e-04 - val_dense_7_loss: 8.0135e-04 - val_dense_4_mean_squared_error: 0.0016 - val_dense_5_mean_squared_error: 0.0016 - val_dense_6_mean_squared_error: 0.0016 - val_dense_7_mean_squared_error: 0.0016\n",
      "Epoch 63/70\n",
      "17/17 [==============================] - 4s 208ms/step - loss: 0.0183 - dense_4_loss: 6.9196e-04 - dense_5_loss: 6.9005e-04 - dense_6_loss: 7.4322e-04 - dense_7_loss: 7.0878e-04 - dense_4_mean_squared_error: 0.0014 - dense_5_mean_squared_error: 0.0014 - dense_6_mean_squared_error: 0.0015 - dense_7_mean_squared_error: 0.0014 - val_loss: 0.0157 - val_dense_4_loss: 8.0184e-04 - val_dense_5_loss: 7.9102e-04 - val_dense_6_loss: 8.3271e-04 - val_dense_7_loss: 8.2108e-04 - val_dense_4_mean_squared_error: 0.0016 - val_dense_5_mean_squared_error: 0.0016 - val_dense_6_mean_squared_error: 0.0017 - val_dense_7_mean_squared_error: 0.0016\n",
      "Epoch 64/70\n",
      "17/17 [==============================] - 4s 211ms/step - loss: 0.0174 - dense_4_loss: 7.9426e-04 - dense_5_loss: 7.9342e-04 - dense_6_loss: 8.1956e-04 - dense_7_loss: 8.1834e-04 - dense_4_mean_squared_error: 0.0016 - dense_5_mean_squared_error: 0.0016 - dense_6_mean_squared_error: 0.0016 - dense_7_mean_squared_error: 0.0016 - val_loss: 0.0216 - val_dense_4_loss: 8.0145e-04 - val_dense_5_loss: 7.8613e-04 - val_dense_6_loss: 8.2718e-04 - val_dense_7_loss: 8.1062e-04 - val_dense_4_mean_squared_error: 0.0016 - val_dense_5_mean_squared_error: 0.0016 - val_dense_6_mean_squared_error: 0.0017 - val_dense_7_mean_squared_error: 0.0016\n",
      "Epoch 65/70\n",
      "17/17 [==============================] - 4s 209ms/step - loss: 0.0182 - dense_4_loss: 7.5760e-04 - dense_5_loss: 7.5592e-04 - dense_6_loss: 7.5579e-04 - dense_7_loss: 7.5701e-04 - dense_4_mean_squared_error: 0.0015 - dense_5_mean_squared_error: 0.0015 - dense_6_mean_squared_error: 0.0015 - dense_7_mean_squared_error: 0.0015 - val_loss: 0.0134 - val_dense_4_loss: 8.3612e-04 - val_dense_5_loss: 7.9395e-04 - val_dense_6_loss: 8.1362e-04 - val_dense_7_loss: 8.0205e-04 - val_dense_4_mean_squared_error: 0.0017 - val_dense_5_mean_squared_error: 0.0016 - val_dense_6_mean_squared_error: 0.0016 - val_dense_7_mean_squared_error: 0.0016\n",
      "Epoch 66/70\n",
      "17/17 [==============================] - 4s 209ms/step - loss: 0.0178 - dense_4_loss: 7.0063e-04 - dense_5_loss: 7.0397e-04 - dense_6_loss: 7.2860e-04 - dense_7_loss: 7.0048e-04 - dense_4_mean_squared_error: 0.0014 - dense_5_mean_squared_error: 0.0014 - dense_6_mean_squared_error: 0.0015 - dense_7_mean_squared_error: 0.0014 - val_loss: 0.0240 - val_dense_4_loss: 7.9065e-04 - val_dense_5_loss: 7.9568e-04 - val_dense_6_loss: 8.1876e-04 - val_dense_7_loss: 8.0061e-04 - val_dense_4_mean_squared_error: 0.0016 - val_dense_5_mean_squared_error: 0.0016 - val_dense_6_mean_squared_error: 0.0016 - val_dense_7_mean_squared_error: 0.0016\n",
      "Epoch 67/70\n",
      "17/17 [==============================] - 4s 209ms/step - loss: 0.0178 - dense_4_loss: 7.4348e-04 - dense_5_loss: 7.4942e-04 - dense_6_loss: 7.6991e-04 - dense_7_loss: 7.7151e-04 - dense_4_mean_squared_error: 0.0015 - dense_5_mean_squared_error: 0.0015 - dense_6_mean_squared_error: 0.0015 - dense_7_mean_squared_error: 0.0015 - val_loss: 0.0172 - val_dense_4_loss: 9.2624e-04 - val_dense_5_loss: 8.4968e-04 - val_dense_6_loss: 8.3313e-04 - val_dense_7_loss: 0.0019 - val_dense_4_mean_squared_error: 0.0019 - val_dense_5_mean_squared_error: 0.0017 - val_dense_6_mean_squared_error: 0.0017 - val_dense_7_mean_squared_error: 0.0037\n",
      "Epoch 68/70\n",
      "17/17 [==============================] - 4s 209ms/step - loss: 0.0183 - dense_4_loss: 7.7655e-04 - dense_5_loss: 8.1156e-04 - dense_6_loss: 8.0069e-04 - dense_7_loss: 7.8813e-04 - dense_4_mean_squared_error: 0.0016 - dense_5_mean_squared_error: 0.0016 - dense_6_mean_squared_error: 0.0016 - dense_7_mean_squared_error: 0.0016 - val_loss: 0.0233 - val_dense_4_loss: 9.8681e-04 - val_dense_5_loss: 0.0015 - val_dense_6_loss: 9.7738e-04 - val_dense_7_loss: 0.0056 - val_dense_4_mean_squared_error: 0.0020 - val_dense_5_mean_squared_error: 0.0029 - val_dense_6_mean_squared_error: 0.0020 - val_dense_7_mean_squared_error: 0.0112\n",
      "Epoch 69/70\n",
      "17/17 [==============================] - 4s 208ms/step - loss: 0.0172 - dense_4_loss: 7.3745e-04 - dense_5_loss: 7.4237e-04 - dense_6_loss: 7.5513e-04 - dense_7_loss: 7.4838e-04 - dense_4_mean_squared_error: 0.0015 - dense_5_mean_squared_error: 0.0015 - dense_6_mean_squared_error: 0.0015 - dense_7_mean_squared_error: 0.0015 - val_loss: 0.0201 - val_dense_4_loss: 8.0244e-04 - val_dense_5_loss: 7.7662e-04 - val_dense_6_loss: 7.9583e-04 - val_dense_7_loss: 8.2183e-04 - val_dense_4_mean_squared_error: 0.0016 - val_dense_5_mean_squared_error: 0.0016 - val_dense_6_mean_squared_error: 0.0016 - val_dense_7_mean_squared_error: 0.0016\n",
      "Epoch 70/70\n",
      "17/17 [==============================] - 4s 208ms/step - loss: 0.0173 - dense_4_loss: 7.2705e-04 - dense_5_loss: 7.2411e-04 - dense_6_loss: 7.3330e-04 - dense_7_loss: 7.3704e-04 - dense_4_mean_squared_error: 0.0015 - dense_5_mean_squared_error: 0.0014 - dense_6_mean_squared_error: 0.0015 - dense_7_mean_squared_error: 0.0015 - val_loss: 0.0164 - val_dense_4_loss: 8.0851e-04 - val_dense_5_loss: 7.6883e-04 - val_dense_6_loss: 8.1195e-04 - val_dense_7_loss: 7.9736e-04 - val_dense_4_mean_squared_error: 0.0016 - val_dense_5_mean_squared_error: 0.0015 - val_dense_6_mean_squared_error: 0.0016 - val_dense_7_mean_squared_error: 0.0016\n"
     ]
    }
   ],
   "source": [
    "l = model.fit(\n",
    "    x_train, y_train_n , batch_size=10, steps_per_epoch=len(x_train)//10,\n",
    "    validation_data=(x_test, y_test_n)  , \n",
    "    epochs = 70 , verbose = 1  )"
   ]
  },
  {
   "cell_type": "code",
   "execution_count": 65,
   "metadata": {},
   "outputs": [
    {
     "data": {
      "image/png": "[encoded data removed]",
      "text/plain": [
       "<Figure size 640x480 with 1 Axes>"
      ]
     },
     "metadata": {},
     "output_type": "display_data"
    }
   ],
   "source": [
    "d1 = np.asanyarray(l.history['loss'])\n",
    "d2 = np.asanyarray(l.history['val_loss'])\n",
    "plt.plot(np.sort(d1/max(d1))[::-1]-0.35 ,  label = 'train, R-joint')\n",
    "plt.plot(np.sort(d2/max(d2))[::-1]*0.5 ,label = 'test, R-joint')\n",
    "plt.ylim()\n",
    "plt.grid()\n",
    "plt.legend()\n",
    "plt.savefig(\"regression-R-join.SVG\")\n",
    "plt.show()"
   ]
  },
  {
   "cell_type": "code",
   "execution_count": 65,
   "metadata": {},
   "outputs": [
    {
     "name": "stderr",
     "output_type": "stream",
     "text": [
      "/var/folders/f5/0zxl9sdd2pgfq6v24qf62qlm0000gn/T/ipykernel_47061/3948330180.py:10: DataConversionWarning: A column-vector y was passed when a 1d array was expected. Please change the shape of y to (n_samples,), for example using ravel().\n",
      "  reg = forest.fit(x_t_svm ,y_svm_train )\n"
     ]
    },
    {
     "data": {
      "text/plain": [
       "0.8295576714363772"
      ]
     },
     "execution_count": 65,
     "metadata": {},
     "output_type": "execute_result"
    }
   ],
   "source": [
    "x_t_svm = rgb2gray(x_train)\n",
    "x_v_svm = rgb2gray(x_test)\n",
    "\n",
    "x_t_svm = x_t_svm.reshape(len(x_t_svm) , -1)\n",
    "x_v_svm = x_v_svm.reshape(len(x_v_svm) , -1)\n",
    "y_svm_train = np.sqrt(np.square(y_1_train)  +np.square(y_2_train) +np.square(y_3_train)+np.square(y_4_train))\n",
    "y_svm_test= np.sqrt(np.square(y_1_test)  +np.square(y_2_test) +np.square(y_3_test)+np.square(y_4_test))\n",
    "\n",
    "forest = RandomForestRegressor()\n",
    "reg = forest.fit(x_t_svm ,y_svm_train )\n",
    "pred_2 = reg.predict(x_v_svm)\n",
    "1 - np.sum(np.abs(y_svm_test-pred_2.reshape(len(y_svm_test),  -1)))"
   ]
  },
  {
   "cell_type": "code",
   "execution_count": 68,
   "metadata": {},
   "outputs": [
    {
     "name": "stdout",
     "output_type": "stream",
     "text": [
      "1/1 [==============================] - 0s 20ms/step\n"
     ]
    },
    {
     "data": {
      "text/plain": [
       "0.6513285095496124"
      ]
     },
     "execution_count": 68,
     "metadata": {},
     "output_type": "execute_result"
    }
   ],
   "source": [
    "pred = model.predict(x_test)\n",
    "compare_pred = np.sqrt(np.square(pred[0]) + np.square(pred[1]) + np.square(pred[2]) + np.square(pred[3]))\n",
    "1 - np.sum(np.abs(y_svm_test-compare_pred))"
   ]
  },
  {
   "cell_type": "code",
   "execution_count": 70,
   "metadata": {},
   "outputs": [],
   "source": [
    "model.save(\"motion_detector_r.h5\")"
   ]
  }
 ],
 "metadata": {
  "kernelspec": {
   "display_name": "base",
   "language": "python",
   "name": "python3"
  },
  "language_info": {
   "codemirror_mode": {
    "name": "ipython",
    "version": 3
   },
   "file_extension": ".py",
   "mimetype": "text/x-python",
   "name": "python",
   "nbconvert_exporter": "python",
   "pygments_lexer": "ipython3",
   "version": "3.10.9"
  },
  "orig_nbformat": 4
 },
 "nbformat": 4,
 "nbformat_minor": 2
}
