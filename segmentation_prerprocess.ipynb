{
 "cells": [
  {
   "cell_type": "code",
   "execution_count": 1,
   "metadata": {},
   "outputs": [],
   "source": [
    "import pandas as pd\n",
    "import numpy as np\n",
    "import matplotlib.pyplot as plt\n",
    "from skimage.io import imread\n",
    "from skimage.transform import resize\n",
    "from skimage.util import montage"
   ]
  },
  {
   "cell_type": "code",
   "execution_count": 2,
   "metadata": {},
   "outputs": [],
   "source": [
    "df = pd.read_excel(\"data_set_label.xlsx\")\n"
   ]
  },
  {
   "cell_type": "code",
   "execution_count": 3,
   "metadata": {},
   "outputs": [
    {
     "data": {
      "text/html": [
       "<div>\n",
       "<style scoped>\n",
       "    .dataframe tbody tr th:only-of-type {\n",
       "        vertical-align: middle;\n",
       "    }\n",
       "\n",
       "    .dataframe tbody tr th {\n",
       "        vertical-align: top;\n",
       "    }\n",
       "\n",
       "    .dataframe thead th {\n",
       "        text-align: right;\n",
       "    }\n",
       "</style>\n",
       "<table border=\"1\" class=\"dataframe\">\n",
       "  <thead>\n",
       "    <tr style=\"text-align: right;\">\n",
       "      <th></th>\n",
       "      <th>image</th>\n",
       "      <th>joint</th>\n",
       "      <th>percent</th>\n",
       "      <th>Group</th>\n",
       "    </tr>\n",
       "  </thead>\n",
       "  <tbody>\n",
       "    <tr>\n",
       "      <th>0</th>\n",
       "      <td>1</td>\n",
       "      <td>pp</td>\n",
       "      <td>0.00</td>\n",
       "      <td>1</td>\n",
       "    </tr>\n",
       "    <tr>\n",
       "      <th>1</th>\n",
       "      <td>2</td>\n",
       "      <td>pp</td>\n",
       "      <td>0.25</td>\n",
       "      <td>1</td>\n",
       "    </tr>\n",
       "    <tr>\n",
       "      <th>2</th>\n",
       "      <td>3</td>\n",
       "      <td>pp</td>\n",
       "      <td>0.50</td>\n",
       "      <td>1</td>\n",
       "    </tr>\n",
       "    <tr>\n",
       "      <th>3</th>\n",
       "      <td>4</td>\n",
       "      <td>pp</td>\n",
       "      <td>0.75</td>\n",
       "      <td>1</td>\n",
       "    </tr>\n",
       "    <tr>\n",
       "      <th>4</th>\n",
       "      <td>5</td>\n",
       "      <td>pp</td>\n",
       "      <td>1.00</td>\n",
       "      <td>1</td>\n",
       "    </tr>\n",
       "  </tbody>\n",
       "</table>\n",
       "</div>"
      ],
      "text/plain": [
       "   image joint  percent  Group\n",
       "0      1    pp     0.00      1\n",
       "1      2    pp     0.25      1\n",
       "2      3    pp     0.50      1\n",
       "3      4    pp     0.75      1\n",
       "4      5    pp     1.00      1"
      ]
     },
     "execution_count": 3,
     "metadata": {},
     "output_type": "execute_result"
    }
   ],
   "source": [
    "df.iloc[0:5]"
   ]
  },
  {
   "cell_type": "code",
   "execution_count": 4,
   "metadata": {},
   "outputs": [],
   "source": [
    "percent = []\n",
    "jt =[]\n"
   ]
  },
  {
   "cell_type": "code",
   "execution_count": 5,
   "metadata": {},
   "outputs": [],
   "source": [
    "for i in range(1 , 51 , 1):\n",
    "    for j in range(1 , 51 , 1):\n",
    "        if(df['Group'][i-1] == df[\"Group\"][j-1] and i!=j):\n",
    "            file_name = str(i)+\".png\"\n",
    "            img = imread(file_name)\n",
    "            img = resize(img , (224 , 224, 3))\n",
    "\n",
    "\n",
    "            file_name_2 = str(j)+\".png\"\n",
    "            img_2 = imread(file_name_2)\n",
    "            img_2 = resize(img_2 ,(224 , 224 , 3) )\n",
    "\n",
    "            montageVertical = np.append(img , img_2 , axis=1)\n",
    "            plt.imsave(str(i)+\"-\"+str(j)+\".png\"  ,montageVertical)\n",
    "            percent.append(df['percent'][j-1]-df['percent'][i-1])\n",
    "            jt.append('pp')\n"
   ]
  },
  {
   "cell_type": "code",
   "execution_count": 6,
   "metadata": {},
   "outputs": [],
   "source": [
    "p = pd.DataFrame({\n",
    "    'percent':percent,\n",
    "    'joint':jt\n",
    "    }\n",
    ")\n",
    "p.to_csv('pp_labels.csv')"
   ]
  },
  {
   "cell_type": "code",
   "execution_count": 7,
   "metadata": {},
   "outputs": [],
   "source": [
    "percent = []\n",
    "jt =[]"
   ]
  },
  {
   "cell_type": "code",
   "execution_count": 8,
   "metadata": {},
   "outputs": [],
   "source": [
    "for i in range(51 , 101 , 1):\n",
    "    for j in range(51 , 101 , 1):\n",
    "        if(df['Group'][i-1] == df[\"Group\"][j-1] and i!=j):\n",
    "            file_name = str(i)+\".png\"\n",
    "            img = imread(file_name)\n",
    "            img = resize(img , (224 , 224, 3))\n",
    "\n",
    "\n",
    "            file_name_2 = str(j)+\".png\"\n",
    "            img_2 = imread(file_name_2)\n",
    "            img_2 = resize(img_2 ,(224 , 224 , 3) )\n",
    "\n",
    "            montageVertical = np.append(img , img_2 , axis=1)\n",
    "            plt.imsave(str(i)+\"-\"+str(j)+\".png\"  ,montageVertical)\n",
    "            percent.append(df['percent'][j-1]-df['percent'][i-1])\n",
    "            jt.append('no')"
   ]
  },
  {
   "cell_type": "code",
   "execution_count": 9,
   "metadata": {},
   "outputs": [],
   "source": [
    "p = pd.DataFrame({\n",
    "    'percent':percent,\n",
    "    'joint':jt\n",
    "    }\n",
    ")\n",
    "p.to_csv('no_labels.csv')"
   ]
  },
  {
   "cell_type": "code",
   "execution_count": 10,
   "metadata": {},
   "outputs": [],
   "source": [
    "percent = []\n",
    "jt =[]"
   ]
  },
  {
   "cell_type": "code",
   "execution_count": 11,
   "metadata": {},
   "outputs": [],
   "source": [
    "for i in range(101 , 151 , 1):\n",
    "    for j in range(101 , 151 , 1):\n",
    "        if(df['Group'][i-1] == df[\"Group\"][j-1] and i!=j):\n",
    "            file_name = str(i)+\".png\"\n",
    "            img = imread(file_name)\n",
    "            img = resize(img , (224 , 224, 3))\n",
    "\n",
    "\n",
    "            file_name_2 = str(j)+\".png\"\n",
    "            img_2 = imread(file_name_2)\n",
    "            img_2 = resize(img_2 ,(224, 224 , 3) )\n",
    "\n",
    "            montageVertical = np.append(img , img_2 , axis=1)\n",
    "            plt.imsave(str(i)+\"-\"+str(j)+\".png\"  ,montageVertical)\n",
    "            percent.append(df['percent'][j-1]-df['percent'][i-1])\n",
    "            jt.append('p')"
   ]
  },
  {
   "cell_type": "code",
   "execution_count": 12,
   "metadata": {},
   "outputs": [],
   "source": [
    "p = pd.DataFrame({\n",
    "    'percent':percent,\n",
    "    'joint':jt\n",
    "    }\n",
    ")\n",
    "p.to_csv('p_labels.csv')"
   ]
  },
  {
   "cell_type": "code",
   "execution_count": 13,
   "metadata": {},
   "outputs": [],
   "source": [
    "percent = []\n",
    "jt =[]"
   ]
  },
  {
   "cell_type": "code",
   "execution_count": 14,
   "metadata": {},
   "outputs": [],
   "source": [
    "for i in range(151 , 201 , 1):\n",
    "    for j in range(151 , 201 , 1):\n",
    "        if(df['Group'][i-1] == df[\"Group\"][j-1] and i!=j):\n",
    "            file_name = str(i)+\".png\"\n",
    "            img = imread(file_name)\n",
    "            img = resize(img , (224 , 224, 3))\n",
    "\n",
    "\n",
    "            file_name_2 = str(j)+\".png\"\n",
    "            img_2 = imread(file_name_2)\n",
    "            img_2 = resize(img_2 ,(224 , 224 , 3) )\n",
    "\n",
    "            montageVertical = np.append(img , img_2 , axis=1)\n",
    "            plt.imsave(str(i)+\"-\"+str(j)+\".png\"  ,montageVertical)\n",
    "            percent.append(df['percent'][j-1]-df['percent'][i-1])\n",
    "            jt.append('r')"
   ]
  },
  {
   "cell_type": "code",
   "execution_count": 15,
   "metadata": {},
   "outputs": [],
   "source": [
    "p = pd.DataFrame({\n",
    "    'percent':percent,\n",
    "    'joint':jt\n",
    "    }\n",
    ")\n",
    "p.to_csv('r_labels.csv')"
   ]
  }
 ],
 "metadata": {
  "kernelspec": {
   "display_name": "base",
   "language": "python",
   "name": "python3"
  },
  "language_info": {
   "codemirror_mode": {
    "name": "ipython",
    "version": 3
   },
   "file_extension": ".py",
   "mimetype": "text/x-python",
   "name": "python",
   "nbconvert_exporter": "python",
   "pygments_lexer": "ipython3",
   "version": "3.10.9"
  },
  "orig_nbformat": 4
 },
 "nbformat": 4,
 "nbformat_minor": 2
}
