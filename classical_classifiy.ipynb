{
 "cells": [
  {
   "cell_type": "code",
   "execution_count": 1,
   "metadata": {},
   "outputs": [],
   "source": [
    "import pandas as pd\n",
    "import numpy as np\n",
    "import matplotlib.pyplot as plt\n",
    "from skimage.io import imread\n",
    "from skimage.color import rgb2gray\n",
    "from skimage.transform import resize"
   ]
  },
  {
   "cell_type": "code",
   "execution_count": 2,
   "metadata": {},
   "outputs": [
    {
     "data": {
      "text/html": [
       "<div>\n",
       "<style scoped>\n",
       "    .dataframe tbody tr th:only-of-type {\n",
       "        vertical-align: middle;\n",
       "    }\n",
       "\n",
       "    .dataframe tbody tr th {\n",
       "        vertical-align: top;\n",
       "    }\n",
       "\n",
       "    .dataframe thead th {\n",
       "        text-align: right;\n",
       "    }\n",
       "</style>\n",
       "<table border=\"1\" class=\"dataframe\">\n",
       "  <thead>\n",
       "    <tr style=\"text-align: right;\">\n",
       "      <th></th>\n",
       "      <th>image</th>\n",
       "      <th>joint</th>\n",
       "      <th>percent</th>\n",
       "      <th>Group</th>\n",
       "    </tr>\n",
       "  </thead>\n",
       "  <tbody>\n",
       "    <tr>\n",
       "      <th>0</th>\n",
       "      <td>1</td>\n",
       "      <td>pp</td>\n",
       "      <td>0.00</td>\n",
       "      <td>1</td>\n",
       "    </tr>\n",
       "    <tr>\n",
       "      <th>1</th>\n",
       "      <td>2</td>\n",
       "      <td>pp</td>\n",
       "      <td>0.25</td>\n",
       "      <td>1</td>\n",
       "    </tr>\n",
       "    <tr>\n",
       "      <th>2</th>\n",
       "      <td>3</td>\n",
       "      <td>pp</td>\n",
       "      <td>0.50</td>\n",
       "      <td>1</td>\n",
       "    </tr>\n",
       "    <tr>\n",
       "      <th>3</th>\n",
       "      <td>4</td>\n",
       "      <td>pp</td>\n",
       "      <td>0.75</td>\n",
       "      <td>1</td>\n",
       "    </tr>\n",
       "    <tr>\n",
       "      <th>4</th>\n",
       "      <td>5</td>\n",
       "      <td>pp</td>\n",
       "      <td>1.00</td>\n",
       "      <td>1</td>\n",
       "    </tr>\n",
       "  </tbody>\n",
       "</table>\n",
       "</div>"
      ],
      "text/plain": [
       "   image joint  percent  Group\n",
       "0      1    pp     0.00      1\n",
       "1      2    pp     0.25      1\n",
       "2      3    pp     0.50      1\n",
       "3      4    pp     0.75      1\n",
       "4      5    pp     1.00      1"
      ]
     },
     "execution_count": 2,
     "metadata": {},
     "output_type": "execute_result"
    }
   ],
   "source": [
    "df = pd.read_excel(\"data_set_label.xlsx\")\n",
    "df.iloc[0:5]"
   ]
  },
  {
   "cell_type": "code",
   "execution_count": 3,
   "metadata": {},
   "outputs": [],
   "source": [
    "#224*224*3 = 150528\n",
    "#350*350 = 122500 \n",
    "x = np.zeros((1 , 50 , 50))\n",
    "\n",
    "for i in range(1 , 51, 1):\n",
    "    for j in range(1, 51 , 1):\n",
    "        if(df['Group'][i-1] == df[\"Group\"][j-1] and i!=j):\n",
    "            file_name = str(i)+\"-\"+str(j)+\".png\"\n",
    "            img = imread(file_name)\n",
    "            img = resize(img , (1 , 50 , 50))\n",
    "            if(i == 1 and j==2):\n",
    "                x[0] = img\n",
    "            else:\n",
    "                x = np.append(x , img , axis=0)\n",
    "for i in range(51 , 101 , 1):\n",
    "    for j in range(51, 101 , 1):\n",
    "        if(df['Group'][i-1] == df[\"Group\"][j-1] and i!=j):\n",
    "            file_name = str(i)+\"-\"+str(j)+\".png\"\n",
    "            img = imread(file_name)\n",
    "            img = resize(img , (1 , 50 , 50))\n",
    "            if(i == 1 and j==2):\n",
    "                x[0] = img\n",
    "            else:\n",
    "                x = np.append(x , img , axis=0)\n",
    "for i in range(101 , 151 , 1):\n",
    "    for j in range(101, 151 , 1):\n",
    "        if(df['Group'][i-1] == df[\"Group\"][j-1] and i!=j):\n",
    "            file_name = str(i)+\"-\"+str(j)+\".png\"\n",
    "            img = imread(file_name)\n",
    "            img = resize(img , (1 , 50 , 50))\n",
    "            if(i == 1 and j==2):\n",
    "                x[0] = img\n",
    "            else:\n",
    "                x = np.append(x , img , axis=0)\n",
    "for i in range(151 , 201 , 1):\n",
    "    for j in range(151, 201 , 1):\n",
    "        if(df['Group'][i-1] == df[\"Group\"][j-1] and i!=j):\n",
    "            file_name = str(i)+\"-\"+str(j)+\".png\"\n",
    "            img = imread(file_name)\n",
    "            img = resize(img , (1 , 50 , 50))\n",
    "            if(i == 1 and j==2):\n",
    "                x[0] = img\n",
    "            else:\n",
    "                x = np.append(x , img , axis=0)"
   ]
  },
  {
   "cell_type": "code",
   "execution_count": 4,
   "metadata": {},
   "outputs": [
    {
     "data": {
      "text/plain": [
       "(800, 50, 50)"
      ]
     },
     "execution_count": 4,
     "metadata": {},
     "output_type": "execute_result"
    }
   ],
   "source": [
    "x.shape"
   ]
  },
  {
   "cell_type": "code",
   "execution_count": 5,
   "metadata": {},
   "outputs": [
    {
     "data": {
      "text/plain": [
       "(800,)"
      ]
     },
     "execution_count": 5,
     "metadata": {},
     "output_type": "execute_result"
    }
   ],
   "source": [
    "df_pp = pd.read_csv(\"pp_labels.csv\")\n",
    "y_pp = np.asarray(df_pp['joint'])\n",
    "df_no = pd.read_csv(\"no_labels.csv\")\n",
    "y_no = np.asarray(df_no['joint'])\n",
    "df_p = pd.read_csv(\"p_labels.csv\")\n",
    "y_p = np.asarray(df_p['joint'])\n",
    "df_r = pd.read_csv(\"r_labels.csv\")\n",
    "y_r = np.asarray(df_r['joint'])\n",
    "y = np.append(y_pp , y_no)\n",
    "y = np.append(y , y_p)\n",
    "y = np.append(y , y_r)\n",
    "#changing the labels from string to categorical\n",
    "from sklearn import preprocessing\n",
    "le = preprocessing.LabelEncoder()\n",
    "Y = le.fit_transform(y)\n",
    "y.shape"
   ]
  },
  {
   "cell_type": "code",
   "execution_count": 6,
   "metadata": {},
   "outputs": [
    {
     "name": "stdout",
     "output_type": "stream",
     "text": [
      "pp is 2\n",
      "no joint is 0\n",
      "p joint is 1\n",
      "r joint is 3\n"
     ]
    }
   ],
   "source": [
    "print(\"pp is\"  , Y[0])\n",
    "print(\"no joint is\" , Y[201])\n",
    "print(\"p joint is\" , Y[401])\n",
    "print(\"r joint is\" , Y[601])\n"
   ]
  },
  {
   "cell_type": "code",
   "execution_count": 7,
   "metadata": {},
   "outputs": [],
   "source": [
    "from sklearn.decomposition import PCA\n",
    "from sklearn.decomposition import TruncatedSVD\n",
    "\n",
    "pca = PCA(n_components=50)\n",
    "svd = TruncatedSVD(n_components=50)"
   ]
  },
  {
   "cell_type": "code",
   "execution_count": 8,
   "metadata": {},
   "outputs": [],
   "source": [
    "x_1 = []\n",
    "x_2 = []\n",
    "x_3 = []\n",
    "for i in x:\n",
    "    x_1.append(pca.fit_transform(i))\n",
    "    x_2.append(svd.fit_transform(i))\n",
    "    x_3.append(i.reshape(1 , -1))"
   ]
  },
  {
   "cell_type": "code",
   "execution_count": 9,
   "metadata": {},
   "outputs": [
    {
     "name": "stdout",
     "output_type": "stream",
     "text": [
      "800\n",
      "800\n",
      "800\n"
     ]
    }
   ],
   "source": [
    "print(len(x_1))\n",
    "print(len(x_2))\n",
    "print(len(x_3))"
   ]
  },
  {
   "cell_type": "markdown",
   "metadata": {},
   "source": [
    "# NO PCA"
   ]
  },
  {
   "cell_type": "code",
   "execution_count": 48,
   "metadata": {},
   "outputs": [],
   "source": [
    "from sklearn.model_selection import train_test_split\n",
    "\n",
    "x_train , x_test , y_train , y_test = train_test_split(x_3 , Y , shuffle=True , random_state=1 )"
   ]
  },
  {
   "cell_type": "code",
   "execution_count": 49,
   "metadata": {},
   "outputs": [],
   "source": [
    "x_train = np.reshape(x_train , (len(x_train), -1))\n",
    "x_test = np.reshape(x_test , (len(x_test) , -1))"
   ]
  },
  {
   "cell_type": "code",
   "execution_count": 50,
   "metadata": {},
   "outputs": [
    {
     "name": "stdout",
     "output_type": "stream",
     "text": [
      "0.6866666666666666\n",
      "0.25666666666666665\n",
      "0.97\n",
      "0.605\n"
     ]
    },
    {
     "data": {
      "image/png": "[encoded data removed]",
      "text/plain": [
       "<Figure size 640x480 with 2 Axes>"
      ]
     },
     "metadata": {},
     "output_type": "display_data"
    },
    {
     "data": {
      "image/png": "[encoded data removed]",
      "text/plain": [
       "<Figure size 640x480 with 2 Axes>"
      ]
     },
     "metadata": {},
     "output_type": "display_data"
    },
    {
     "data": {
      "image/png": "[encoded data removed]",
      "text/plain": [
       "<Figure size 640x480 with 2 Axes>"
      ]
     },
     "metadata": {},
     "output_type": "display_data"
    },
    {
     "data": {
      "image/png": "[encoded data removed]",
      "text/plain": [
       "<Figure size 640x480 with 2 Axes>"
      ]
     },
     "metadata": {},
     "output_type": "display_data"
    }
   ],
   "source": [
    "from sklearn import svm\n",
    "from sklearn.metrics import accuracy_score , classification_report , ConfusionMatrixDisplay\n",
    "\n",
    "svc = svm.SVC(kernel=\"linear\")\n",
    "\n",
    "train = svc.fit(x_train , y_train)\n",
    "pred_l_pca = train.predict(x_test)\n",
    "print(train.score(x_train , y_train))\n",
    "\n",
    "svc = svm.SVC(kernel='sigmoid')\n",
    "train = svc.fit(x_train , y_train)\n",
    "pred_sig_pca = train.predict(x_test)\n",
    "print(train.score(x_train , y_train))\n",
    "\n",
    "svc = svm.SVC(kernel='poly')\n",
    "train = svc.fit(x_train , y_train)\n",
    "pred_poly_pca = train.predict(x_test)\n",
    "print(train.score(x_train , y_train))\n",
    "\n",
    "svc = svm.SVC(kernel='rbf')\n",
    "train = svc.fit(x_train , y_train)\n",
    "pred_rbf_pca = train.predict(x_test)\n",
    "print(train.score(x_train , y_train))\n",
    "\n",
    "A = ConfusionMatrixDisplay.from_predictions(y_test , pred_l_pca)\n",
    "plt.show()\n",
    "B = ConfusionMatrixDisplay.from_predictions(y_test , pred_sig_pca)\n",
    "plt.show()\n",
    "C = ConfusionMatrixDisplay.from_predictions(y_test , pred_poly_pca)\n",
    "plt.show()\n",
    "D = ConfusionMatrixDisplay.from_predictions(y_test , pred_rbf_pca)\n",
    "\n"
   ]
  },
  {
   "cell_type": "code",
   "execution_count": 51,
   "metadata": {},
   "outputs": [
    {
     "name": "stdout",
     "output_type": "stream",
     "text": [
      "              precision    recall  f1-score   support\n",
      "\n",
      "           0       0.93      0.83      0.87        46\n",
      "           1       0.87      0.98      0.92        49\n",
      "           2       0.96      1.00      0.98        47\n",
      "           3       0.91      0.86      0.88        58\n",
      "\n",
      "    accuracy                           0.92       200\n",
      "   macro avg       0.92      0.92      0.92       200\n",
      "weighted avg       0.92      0.92      0.91       200\n",
      "\n",
      "              precision    recall  f1-score   support\n",
      "\n",
      "           0       0.56      0.59      0.57        46\n",
      "           1       0.47      0.84      0.60        49\n",
      "           2       0.71      0.77      0.73        47\n",
      "           3       1.00      0.24      0.39        58\n",
      "\n",
      "    accuracy                           0.59       200\n",
      "   macro avg       0.68      0.61      0.58       200\n",
      "weighted avg       0.70      0.59      0.57       200\n",
      "\n"
     ]
    }
   ],
   "source": [
    "print(classification_report(y_test , pred_poly_pca))\n",
    "print(classification_report(y_test , pred_rbf_pca))"
   ]
  },
  {
   "cell_type": "code",
   "execution_count": 47,
   "metadata": {},
   "outputs": [
    {
     "name": "stdout",
     "output_type": "stream",
     "text": [
      "              precision    recall  f1-score   support\n",
      "\n",
      "           0       0.50      0.74      0.60        46\n",
      "           1       0.77      1.00      0.87        49\n",
      "           2       0.91      0.45      0.60        47\n",
      "           3       0.71      0.55      0.62        58\n",
      "\n",
      "    accuracy                           0.68       200\n",
      "   macro avg       0.72      0.68      0.67       200\n",
      "weighted avg       0.72      0.68      0.67       200\n",
      "\n",
      "              precision    recall  f1-score   support\n",
      "\n",
      "           0       0.23      1.00      0.37        46\n",
      "           1       0.00      0.00      0.00        49\n",
      "           2       0.00      0.00      0.00        47\n",
      "           3       0.00      0.00      0.00        58\n",
      "\n",
      "    accuracy                           0.23       200\n",
      "   macro avg       0.06      0.25      0.09       200\n",
      "weighted avg       0.05      0.23      0.09       200\n",
      "\n"
     ]
    },
    {
     "name": "stderr",
     "output_type": "stream",
     "text": [
      "/Users/ehsan_frtn/anaconda3/lib/python3.10/site-packages/sklearn/metrics/_classification.py:1344: UndefinedMetricWarning: Precision and F-score are ill-defined and being set to 0.0 in labels with no predicted samples. Use `zero_division` parameter to control this behavior.\n",
      "  _warn_prf(average, modifier, msg_start, len(result))\n",
      "/Users/ehsan_frtn/anaconda3/lib/python3.10/site-packages/sklearn/metrics/_classification.py:1344: UndefinedMetricWarning: Precision and F-score are ill-defined and being set to 0.0 in labels with no predicted samples. Use `zero_division` parameter to control this behavior.\n",
      "  _warn_prf(average, modifier, msg_start, len(result))\n",
      "/Users/ehsan_frtn/anaconda3/lib/python3.10/site-packages/sklearn/metrics/_classification.py:1344: UndefinedMetricWarning: Precision and F-score are ill-defined and being set to 0.0 in labels with no predicted samples. Use `zero_division` parameter to control this behavior.\n",
      "  _warn_prf(average, modifier, msg_start, len(result))\n"
     ]
    }
   ],
   "source": [
    "print(classification_report(y_test , pred_l_pca))\n",
    "print(classification_report(y_test , pred_sig_pca))"
   ]
  },
  {
   "cell_type": "markdown",
   "metadata": {},
   "source": [
    "## Using PCA as data reduction"
   ]
  },
  {
   "cell_type": "code",
   "execution_count": 25,
   "metadata": {},
   "outputs": [],
   "source": [
    "\n",
    "\n",
    "x_train , x_test , y_train , y_test = train_test_split(x_1 , Y , shuffle=True , random_state=1 )"
   ]
  },
  {
   "cell_type": "code",
   "execution_count": 26,
   "metadata": {},
   "outputs": [],
   "source": [
    "x_train = np.reshape(x_train , (len(x_train), -1))\n",
    "x_test = np.reshape(x_test , (len(x_test) , -1))"
   ]
  },
  {
   "cell_type": "code",
   "execution_count": 27,
   "metadata": {},
   "outputs": [
    {
     "name": "stdout",
     "output_type": "stream",
     "text": [
      "0.6066666666666667\n"
     ]
    }
   ],
   "source": [
    "\n",
    "\n",
    "svc = svm.SVC(kernel=\"linear\")\n",
    "\n",
    "train = svc.fit(x_train , y_train)\n",
    "pred_l_pca = train.predict(x_test)\n",
    "print(train.score(x_train , y_train))"
   ]
  },
  {
   "cell_type": "code",
   "execution_count": 28,
   "metadata": {},
   "outputs": [
    {
     "name": "stdout",
     "output_type": "stream",
     "text": [
      "0.30666666666666664\n"
     ]
    }
   ],
   "source": [
    "svc = svm.SVC(kernel='sigmoid')\n",
    "train = svc.fit(x_train , y_train)\n",
    "pred_sig_pca = train.predict(x_test)\n",
    "print(train.score(x_train , y_train))"
   ]
  },
  {
   "cell_type": "code",
   "execution_count": 29,
   "metadata": {},
   "outputs": [
    {
     "name": "stdout",
     "output_type": "stream",
     "text": [
      "0.63\n"
     ]
    }
   ],
   "source": [
    "svc = svm.SVC(kernel='poly')\n",
    "train = svc.fit(x_train , y_train)\n",
    "pred_poly_pca = train.predict(x_test)\n",
    "print(train.score(x_train , y_train))"
   ]
  },
  {
   "cell_type": "code",
   "execution_count": 30,
   "metadata": {},
   "outputs": [
    {
     "name": "stdout",
     "output_type": "stream",
     "text": [
      "0.7716666666666666\n"
     ]
    }
   ],
   "source": [
    "svc = svm.SVC(kernel='rbf')\n",
    "train = svc.fit(x_train , y_train)\n",
    "pred_rbf_pca = train.predict(x_test)\n",
    "print(train.score(x_train , y_train))"
   ]
  },
  {
   "cell_type": "code",
   "execution_count": 31,
   "metadata": {},
   "outputs": [
    {
     "data": {
      "image/png": "[encoded data removed]",
      "text/plain": [
       "<Figure size 640x480 with 2 Axes>"
      ]
     },
     "metadata": {},
     "output_type": "display_data"
    },
    {
     "data": {
      "image/png": "[encoded data removed]",
      "text/plain": [
       "<Figure size 640x480 with 2 Axes>"
      ]
     },
     "metadata": {},
     "output_type": "display_data"
    },
    {
     "data": {
      "image/png": "[encoded data removed]",
      "text/plain": [
       "<Figure size 640x480 with 2 Axes>"
      ]
     },
     "metadata": {},
     "output_type": "display_data"
    },
    {
     "data": {
      "image/png": "[encoded data removed]",
      "text/plain": [
       "<Figure size 640x480 with 2 Axes>"
      ]
     },
     "metadata": {},
     "output_type": "display_data"
    }
   ],
   "source": [
    "A = ConfusionMatrixDisplay.from_predictions(y_test , pred_l_pca)\n",
    "plt.show()\n",
    "B = ConfusionMatrixDisplay.from_predictions(y_test , pred_sig_pca)\n",
    "plt.show()\n",
    "C = ConfusionMatrixDisplay.from_predictions(y_test , pred_poly_pca)\n",
    "plt.show()\n",
    "D = ConfusionMatrixDisplay.from_predictions(y_test , pred_rbf_pca)"
   ]
  },
  {
   "cell_type": "code",
   "execution_count": 34,
   "metadata": {},
   "outputs": [
    {
     "name": "stdout",
     "output_type": "stream",
     "text": [
      "              precision    recall  f1-score   support\n",
      "\n",
      "           0       0.49      0.80      0.61        46\n",
      "           1       0.67      0.78      0.72        49\n",
      "           2       0.91      0.45      0.60        47\n",
      "           3       0.61      0.47      0.53        58\n",
      "\n",
      "    accuracy                           0.61       200\n",
      "   macro avg       0.67      0.62      0.61       200\n",
      "weighted avg       0.67      0.61      0.61       200\n",
      "\n",
      "              precision    recall  f1-score   support\n",
      "\n",
      "           0       0.19      0.39      0.25        46\n",
      "           1       0.00      0.00      0.00        49\n",
      "           2       0.83      0.53      0.65        47\n",
      "           3       0.23      0.28      0.25        58\n",
      "\n",
      "    accuracy                           0.29       200\n",
      "   macro avg       0.31      0.30      0.29       200\n",
      "weighted avg       0.31      0.29      0.28       200\n",
      "\n"
     ]
    }
   ],
   "source": [
    "print(classification_report(y_test , pred_l_pca))\n",
    "print(classification_report(y_test , pred_sig_pca))\n"
   ]
  },
  {
   "cell_type": "code",
   "execution_count": 33,
   "metadata": {},
   "outputs": [
    {
     "name": "stdout",
     "output_type": "stream",
     "text": [
      "              precision    recall  f1-score   support\n",
      "\n",
      "           0       0.59      0.28      0.38        46\n",
      "           1       0.86      0.73      0.79        49\n",
      "           2       0.51      1.00      0.68        47\n",
      "           3       0.95      0.72      0.82        58\n",
      "\n",
      "    accuracy                           0.69       200\n",
      "   macro avg       0.73      0.69      0.67       200\n",
      "weighted avg       0.74      0.69      0.68       200\n",
      "\n",
      "              precision    recall  f1-score   support\n",
      "\n",
      "           0       0.61      0.67      0.64        46\n",
      "           1       0.75      0.84      0.79        49\n",
      "           2       0.80      0.87      0.84        47\n",
      "           3       0.98      0.72      0.83        58\n",
      "\n",
      "    accuracy                           0.78       200\n",
      "   macro avg       0.78      0.78      0.77       200\n",
      "weighted avg       0.79      0.78      0.78       200\n",
      "\n"
     ]
    }
   ],
   "source": [
    "print(classification_report(y_test , pred_poly_pca))\n",
    "print(classification_report(y_test , pred_rbf_pca))"
   ]
  },
  {
   "cell_type": "markdown",
   "metadata": {},
   "source": [
    "## Using SVD as Data reduction"
   ]
  },
  {
   "cell_type": "code",
   "execution_count": 24,
   "metadata": {},
   "outputs": [],
   "source": [
    "from sklearn.model_selection import train_test_split\n",
    "\n",
    "x_train , x_test , y_train , y_test = train_test_split(x_2 , Y , shuffle=True , random_state=1 )"
   ]
  },
  {
   "cell_type": "code",
   "execution_count": 25,
   "metadata": {},
   "outputs": [],
   "source": [
    "x_train = np.reshape(x_train , (len(x_train), -1))\n",
    "x_test = np.reshape(x_test , (len(x_test) , -1))"
   ]
  },
  {
   "cell_type": "code",
   "execution_count": 26,
   "metadata": {},
   "outputs": [
    {
     "name": "stdout",
     "output_type": "stream",
     "text": [
      "0.6133333333333333\n"
     ]
    }
   ],
   "source": [
    "svc = svm.SVC(kernel=\"linear\")\n",
    "\n",
    "train = svc.fit(x_train , y_train)\n",
    "pred_l_svd = train.predict(x_test)\n",
    "print(train.score(x_train , y_train))"
   ]
  },
  {
   "cell_type": "code",
   "execution_count": 27,
   "metadata": {},
   "outputs": [
    {
     "name": "stdout",
     "output_type": "stream",
     "text": [
      "0.25666666666666665\n"
     ]
    }
   ],
   "source": [
    "svc = svm.SVC(kernel='sigmoid')\n",
    "train = svc.fit(x_train , y_train)\n",
    "pred_sig_svd = train.predict(x_test)\n",
    "print(train.score(x_train , y_train))"
   ]
  },
  {
   "cell_type": "code",
   "execution_count": 28,
   "metadata": {},
   "outputs": [
    {
     "name": "stdout",
     "output_type": "stream",
     "text": [
      "0.4216666666666667\n"
     ]
    }
   ],
   "source": [
    "svc = svm.SVC(kernel='poly')\n",
    "train = svc.fit(x_train , y_train)\n",
    "pred_poly_svd = train.predict(x_test)\n",
    "print(train.score(x_train , y_train))"
   ]
  },
  {
   "cell_type": "code",
   "execution_count": 29,
   "metadata": {},
   "outputs": [
    {
     "name": "stdout",
     "output_type": "stream",
     "text": [
      "0.25666666666666665\n"
     ]
    }
   ],
   "source": [
    "svc = svm.SVC(kernel='rbf')\n",
    "train = svc.fit(x_train , y_train)\n",
    "pred_rbf_svd = train.predict(x_test)\n",
    "print(train.score(x_train , y_train))"
   ]
  },
  {
   "cell_type": "code",
   "execution_count": 30,
   "metadata": {},
   "outputs": [
    {
     "data": {
      "image/png": "[encoded data removed]",
      "text/plain": [
       "<Figure size 640x480 with 2 Axes>"
      ]
     },
     "metadata": {},
     "output_type": "display_data"
    },
    {
     "data": {
      "image/png": "[encoded data removed]",
      "text/plain": [
       "<Figure size 640x480 with 2 Axes>"
      ]
     },
     "metadata": {},
     "output_type": "display_data"
    },
    {
     "data": {
      "image/png": "[encoded data removed]",
      "text/plain": [
       "<Figure size 640x480 with 2 Axes>"
      ]
     },
     "metadata": {},
     "output_type": "display_data"
    },
    {
     "data": {
      "image/png": "[encoded data removed]",
      "text/plain": [
       "<Figure size 640x480 with 2 Axes>"
      ]
     },
     "metadata": {},
     "output_type": "display_data"
    }
   ],
   "source": [
    "A = ConfusionMatrixDisplay.from_predictions(y_test , pred_l_svd)\n",
    "plt.show()\n",
    "B = ConfusionMatrixDisplay.from_predictions(y_test , pred_sig_svd)\n",
    "plt.show()\n",
    "C = ConfusionMatrixDisplay.from_predictions(y_test , pred_poly_svd)\n",
    "plt.show()\n",
    "D = ConfusionMatrixDisplay.from_predictions(y_test , pred_rbf_svd)"
   ]
  },
  {
   "cell_type": "code",
   "execution_count": 31,
   "metadata": {},
   "outputs": [
    {
     "name": "stdout",
     "output_type": "stream",
     "text": [
      "              precision    recall  f1-score   support\n",
      "\n",
      "           0       0.49      0.80      0.61        46\n",
      "           1       0.66      0.80      0.72        49\n",
      "           2       0.95      0.45      0.61        47\n",
      "           3       0.63      0.47      0.53        58\n",
      "\n",
      "    accuracy                           0.62       200\n",
      "   macro avg       0.68      0.63      0.62       200\n",
      "weighted avg       0.68      0.62      0.61       200\n",
      "\n",
      "              precision    recall  f1-score   support\n",
      "\n",
      "           0       0.23      1.00      0.37        46\n",
      "           1       0.00      0.00      0.00        49\n",
      "           2       0.00      0.00      0.00        47\n",
      "           3       0.00      0.00      0.00        58\n",
      "\n",
      "    accuracy                           0.23       200\n",
      "   macro avg       0.06      0.25      0.09       200\n",
      "weighted avg       0.05      0.23      0.09       200\n",
      "\n"
     ]
    },
    {
     "name": "stderr",
     "output_type": "stream",
     "text": [
      "/Users/ehsan_frtn/anaconda3/lib/python3.10/site-packages/sklearn/metrics/_classification.py:1344: UndefinedMetricWarning: Precision and F-score are ill-defined and being set to 0.0 in labels with no predicted samples. Use `zero_division` parameter to control this behavior.\n",
      "  _warn_prf(average, modifier, msg_start, len(result))\n",
      "/Users/ehsan_frtn/anaconda3/lib/python3.10/site-packages/sklearn/metrics/_classification.py:1344: UndefinedMetricWarning: Precision and F-score are ill-defined and being set to 0.0 in labels with no predicted samples. Use `zero_division` parameter to control this behavior.\n",
      "  _warn_prf(average, modifier, msg_start, len(result))\n",
      "/Users/ehsan_frtn/anaconda3/lib/python3.10/site-packages/sklearn/metrics/_classification.py:1344: UndefinedMetricWarning: Precision and F-score are ill-defined and being set to 0.0 in labels with no predicted samples. Use `zero_division` parameter to control this behavior.\n",
      "  _warn_prf(average, modifier, msg_start, len(result))\n"
     ]
    }
   ],
   "source": [
    "print(classification_report(y_test , pred_l_svd))\n",
    "print(classification_report(y_test , pred_sig_svd))"
   ]
  },
  {
   "cell_type": "code",
   "execution_count": 32,
   "metadata": {},
   "outputs": [
    {
     "name": "stdout",
     "output_type": "stream",
     "text": [
      "              precision    recall  f1-score   support\n",
      "\n",
      "           0       0.35      1.00      0.52        46\n",
      "           1       0.49      0.51      0.50        49\n",
      "           2       0.94      0.34      0.50        47\n",
      "           3       0.00      0.00      0.00        58\n",
      "\n",
      "    accuracy                           0.43       200\n",
      "   macro avg       0.44      0.46      0.38       200\n",
      "weighted avg       0.42      0.43      0.36       200\n",
      "\n",
      "              precision    recall  f1-score   support\n",
      "\n",
      "           0       0.23      1.00      0.37        46\n",
      "           1       0.00      0.00      0.00        49\n",
      "           2       0.00      0.00      0.00        47\n",
      "           3       0.00      0.00      0.00        58\n",
      "\n",
      "    accuracy                           0.23       200\n",
      "   macro avg       0.06      0.25      0.09       200\n",
      "weighted avg       0.05      0.23      0.09       200\n",
      "\n"
     ]
    },
    {
     "name": "stderr",
     "output_type": "stream",
     "text": [
      "/Users/ehsan_frtn/anaconda3/lib/python3.10/site-packages/sklearn/metrics/_classification.py:1344: UndefinedMetricWarning: Precision and F-score are ill-defined and being set to 0.0 in labels with no predicted samples. Use `zero_division` parameter to control this behavior.\n",
      "  _warn_prf(average, modifier, msg_start, len(result))\n",
      "/Users/ehsan_frtn/anaconda3/lib/python3.10/site-packages/sklearn/metrics/_classification.py:1344: UndefinedMetricWarning: Precision and F-score are ill-defined and being set to 0.0 in labels with no predicted samples. Use `zero_division` parameter to control this behavior.\n",
      "  _warn_prf(average, modifier, msg_start, len(result))\n",
      "/Users/ehsan_frtn/anaconda3/lib/python3.10/site-packages/sklearn/metrics/_classification.py:1344: UndefinedMetricWarning: Precision and F-score are ill-defined and being set to 0.0 in labels with no predicted samples. Use `zero_division` parameter to control this behavior.\n",
      "  _warn_prf(average, modifier, msg_start, len(result))\n",
      "/Users/ehsan_frtn/anaconda3/lib/python3.10/site-packages/sklearn/metrics/_classification.py:1344: UndefinedMetricWarning: Precision and F-score are ill-defined and being set to 0.0 in labels with no predicted samples. Use `zero_division` parameter to control this behavior.\n",
      "  _warn_prf(average, modifier, msg_start, len(result))\n",
      "/Users/ehsan_frtn/anaconda3/lib/python3.10/site-packages/sklearn/metrics/_classification.py:1344: UndefinedMetricWarning: Precision and F-score are ill-defined and being set to 0.0 in labels with no predicted samples. Use `zero_division` parameter to control this behavior.\n",
      "  _warn_prf(average, modifier, msg_start, len(result))\n",
      "/Users/ehsan_frtn/anaconda3/lib/python3.10/site-packages/sklearn/metrics/_classification.py:1344: UndefinedMetricWarning: Precision and F-score are ill-defined and being set to 0.0 in labels with no predicted samples. Use `zero_division` parameter to control this behavior.\n",
      "  _warn_prf(average, modifier, msg_start, len(result))\n"
     ]
    }
   ],
   "source": [
    "print(classification_report(y_test , pred_poly_svd))\n",
    "print(classification_report(y_test , pred_rbf_svd))"
   ]
  },
  {
   "cell_type": "markdown",
   "metadata": {},
   "source": [
    "## MLP Classifier"
   ]
  },
  {
   "cell_type": "code",
   "execution_count": 53,
   "metadata": {},
   "outputs": [],
   "source": [
    "from sklearn.neural_network import MLPClassifier"
   ]
  },
  {
   "cell_type": "markdown",
   "metadata": {},
   "source": [
    "### using PCA transformed data"
   ]
  },
  {
   "cell_type": "code",
   "execution_count": 74,
   "metadata": {},
   "outputs": [],
   "source": [
    "\n",
    "x_train , x_test , y_train , y_test = train_test_split(x_3 , Y , shuffle=True , random_state=1 )\n",
    "x_train = np.reshape(x_train , (len(x_train), -1))\n",
    "x_test = np.reshape(x_test , (len(x_test) , -1))"
   ]
  },
  {
   "cell_type": "code",
   "execution_count": 68,
   "metadata": {},
   "outputs": [
    {
     "name": "stdout",
     "output_type": "stream",
     "text": [
      "0.25666666666666665\n"
     ]
    }
   ],
   "source": [
    "clf = MLPClassifier((1 , 300) , activation='relu' , solver='adam')\n",
    "clf.fit(x_train , y_train)\n",
    "pred_relu_PCA = clf.predict(x_test)\n",
    "print(clf.score(x_train , y_train))"
   ]
  },
  {
   "cell_type": "code",
   "execution_count": 56,
   "metadata": {},
   "outputs": [
    {
     "name": "stdout",
     "output_type": "stream",
     "text": [
      "0.25166666666666665\n"
     ]
    }
   ],
   "source": [
    "clf = MLPClassifier((1 , 300) , activation='logistic' , solver='adam')\n",
    "clf.fit(x_train , y_train)\n",
    "pred_log_PCA = clf.predict(x_test)\n",
    "print(clf.score(x_train , y_train))"
   ]
  },
  {
   "cell_type": "code",
   "execution_count": 57,
   "metadata": {},
   "outputs": [
    {
     "name": "stdout",
     "output_type": "stream",
     "text": [
      "0.255\n"
     ]
    }
   ],
   "source": [
    "clf = MLPClassifier((1 , 300) , activation='tanh' , solver='adam')\n",
    "clf.fit(x_train , y_train)\n",
    "pred_tan_PCA = clf.predict(x_test)\n",
    "print(clf.score(x_train , y_train))"
   ]
  },
  {
   "cell_type": "code",
   "execution_count": 58,
   "metadata": {},
   "outputs": [
    {
     "name": "stdout",
     "output_type": "stream",
     "text": [
      "0.43666666666666665\n"
     ]
    }
   ],
   "source": [
    "clf = MLPClassifier((1 , 300) , activation='identity' , solver='adam')\n",
    "clf.fit(x_train , y_train)\n",
    "pred_id_PCA = clf.predict(x_test)\n",
    "print(clf.score(x_train , y_train))"
   ]
  },
  {
   "cell_type": "code",
   "execution_count": 69,
   "metadata": {},
   "outputs": [
    {
     "name": "stdout",
     "output_type": "stream",
     "text": [
      "              precision    recall  f1-score   support\n",
      "\n",
      "           0       0.23      1.00      0.37        46\n",
      "           1       0.00      0.00      0.00        49\n",
      "           2       0.00      0.00      0.00        47\n",
      "           3       0.00      0.00      0.00        58\n",
      "\n",
      "    accuracy                           0.23       200\n",
      "   macro avg       0.06      0.25      0.09       200\n",
      "weighted avg       0.05      0.23      0.09       200\n",
      "\n",
      "              precision    recall  f1-score   support\n",
      "\n",
      "           0       0.00      0.00      0.00        46\n",
      "           1       0.24      1.00      0.39        49\n",
      "           2       0.00      0.00      0.00        47\n",
      "           3       0.00      0.00      0.00        58\n",
      "\n",
      "    accuracy                           0.24       200\n",
      "   macro avg       0.06      0.25      0.10       200\n",
      "weighted avg       0.06      0.24      0.10       200\n",
      "\n"
     ]
    },
    {
     "name": "stderr",
     "output_type": "stream",
     "text": [
      "/Users/ehsan_frtn/anaconda3/lib/python3.10/site-packages/sklearn/metrics/_classification.py:1344: UndefinedMetricWarning: Precision and F-score are ill-defined and being set to 0.0 in labels with no predicted samples. Use `zero_division` parameter to control this behavior.\n",
      "  _warn_prf(average, modifier, msg_start, len(result))\n",
      "/Users/ehsan_frtn/anaconda3/lib/python3.10/site-packages/sklearn/metrics/_classification.py:1344: UndefinedMetricWarning: Precision and F-score are ill-defined and being set to 0.0 in labels with no predicted samples. Use `zero_division` parameter to control this behavior.\n",
      "  _warn_prf(average, modifier, msg_start, len(result))\n",
      "/Users/ehsan_frtn/anaconda3/lib/python3.10/site-packages/sklearn/metrics/_classification.py:1344: UndefinedMetricWarning: Precision and F-score are ill-defined and being set to 0.0 in labels with no predicted samples. Use `zero_division` parameter to control this behavior.\n",
      "  _warn_prf(average, modifier, msg_start, len(result))\n",
      "/Users/ehsan_frtn/anaconda3/lib/python3.10/site-packages/sklearn/metrics/_classification.py:1344: UndefinedMetricWarning: Precision and F-score are ill-defined and being set to 0.0 in labels with no predicted samples. Use `zero_division` parameter to control this behavior.\n",
      "  _warn_prf(average, modifier, msg_start, len(result))\n",
      "/Users/ehsan_frtn/anaconda3/lib/python3.10/site-packages/sklearn/metrics/_classification.py:1344: UndefinedMetricWarning: Precision and F-score are ill-defined and being set to 0.0 in labels with no predicted samples. Use `zero_division` parameter to control this behavior.\n",
      "  _warn_prf(average, modifier, msg_start, len(result))\n",
      "/Users/ehsan_frtn/anaconda3/lib/python3.10/site-packages/sklearn/metrics/_classification.py:1344: UndefinedMetricWarning: Precision and F-score are ill-defined and being set to 0.0 in labels with no predicted samples. Use `zero_division` parameter to control this behavior.\n",
      "  _warn_prf(average, modifier, msg_start, len(result))\n"
     ]
    }
   ],
   "source": [
    "print(classification_report(y_test , pred_relu_PCA))\n",
    "print(classification_report(y_test , pred_log_PCA))"
   ]
  },
  {
   "cell_type": "code",
   "execution_count": 60,
   "metadata": {},
   "outputs": [
    {
     "name": "stdout",
     "output_type": "stream",
     "text": [
      "              precision    recall  f1-score   support\n",
      "\n",
      "           0       0.00      0.00      0.00        46\n",
      "           1       0.00      0.00      0.00        49\n",
      "           2       0.23      1.00      0.38        47\n",
      "           3       0.00      0.00      0.00        58\n",
      "\n",
      "    accuracy                           0.23       200\n",
      "   macro avg       0.06      0.25      0.10       200\n",
      "weighted avg       0.06      0.23      0.09       200\n",
      "\n",
      "              precision    recall  f1-score   support\n",
      "\n",
      "           0       0.39      0.43      0.41        46\n",
      "           1       0.33      0.61      0.43        49\n",
      "           2       0.62      0.77      0.69        47\n",
      "           3       0.00      0.00      0.00        58\n",
      "\n",
      "    accuracy                           0.43       200\n",
      "   macro avg       0.34      0.45      0.38       200\n",
      "weighted avg       0.32      0.43      0.36       200\n",
      "\n"
     ]
    },
    {
     "name": "stderr",
     "output_type": "stream",
     "text": [
      "/Users/ehsan_frtn/anaconda3/lib/python3.10/site-packages/sklearn/metrics/_classification.py:1344: UndefinedMetricWarning: Precision and F-score are ill-defined and being set to 0.0 in labels with no predicted samples. Use `zero_division` parameter to control this behavior.\n",
      "  _warn_prf(average, modifier, msg_start, len(result))\n",
      "/Users/ehsan_frtn/anaconda3/lib/python3.10/site-packages/sklearn/metrics/_classification.py:1344: UndefinedMetricWarning: Precision and F-score are ill-defined and being set to 0.0 in labels with no predicted samples. Use `zero_division` parameter to control this behavior.\n",
      "  _warn_prf(average, modifier, msg_start, len(result))\n",
      "/Users/ehsan_frtn/anaconda3/lib/python3.10/site-packages/sklearn/metrics/_classification.py:1344: UndefinedMetricWarning: Precision and F-score are ill-defined and being set to 0.0 in labels with no predicted samples. Use `zero_division` parameter to control this behavior.\n",
      "  _warn_prf(average, modifier, msg_start, len(result))\n",
      "/Users/ehsan_frtn/anaconda3/lib/python3.10/site-packages/sklearn/metrics/_classification.py:1344: UndefinedMetricWarning: Precision and F-score are ill-defined and being set to 0.0 in labels with no predicted samples. Use `zero_division` parameter to control this behavior.\n",
      "  _warn_prf(average, modifier, msg_start, len(result))\n",
      "/Users/ehsan_frtn/anaconda3/lib/python3.10/site-packages/sklearn/metrics/_classification.py:1344: UndefinedMetricWarning: Precision and F-score are ill-defined and being set to 0.0 in labels with no predicted samples. Use `zero_division` parameter to control this behavior.\n",
      "  _warn_prf(average, modifier, msg_start, len(result))\n",
      "/Users/ehsan_frtn/anaconda3/lib/python3.10/site-packages/sklearn/metrics/_classification.py:1344: UndefinedMetricWarning: Precision and F-score are ill-defined and being set to 0.0 in labels with no predicted samples. Use `zero_division` parameter to control this behavior.\n",
      "  _warn_prf(average, modifier, msg_start, len(result))\n"
     ]
    }
   ],
   "source": [
    "print(classification_report(y_test , pred_tan_PCA))\n",
    "print(classification_report(y_test , pred_id_PCA))"
   ]
  },
  {
   "cell_type": "markdown",
   "metadata": {},
   "source": [
    "### using relu as main activation"
   ]
  },
  {
   "cell_type": "code",
   "execution_count": 75,
   "metadata": {},
   "outputs": [
    {
     "name": "stdout",
     "output_type": "stream",
     "text": [
      "0.25666666666666665\n",
      "              precision    recall  f1-score   support\n",
      "\n",
      "           0       0.23      1.00      0.37        46\n",
      "           1       0.00      0.00      0.00        49\n",
      "           2       0.00      0.00      0.00        47\n",
      "           3       0.00      0.00      0.00        58\n",
      "\n",
      "    accuracy                           0.23       200\n",
      "   macro avg       0.06      0.25      0.09       200\n",
      "weighted avg       0.05      0.23      0.09       200\n",
      "\n"
     ]
    },
    {
     "name": "stderr",
     "output_type": "stream",
     "text": [
      "/Users/ehsan_frtn/anaconda3/lib/python3.10/site-packages/sklearn/metrics/_classification.py:1344: UndefinedMetricWarning: Precision and F-score are ill-defined and being set to 0.0 in labels with no predicted samples. Use `zero_division` parameter to control this behavior.\n",
      "  _warn_prf(average, modifier, msg_start, len(result))\n",
      "/Users/ehsan_frtn/anaconda3/lib/python3.10/site-packages/sklearn/metrics/_classification.py:1344: UndefinedMetricWarning: Precision and F-score are ill-defined and being set to 0.0 in labels with no predicted samples. Use `zero_division` parameter to control this behavior.\n",
      "  _warn_prf(average, modifier, msg_start, len(result))\n",
      "/Users/ehsan_frtn/anaconda3/lib/python3.10/site-packages/sklearn/metrics/_classification.py:1344: UndefinedMetricWarning: Precision and F-score are ill-defined and being set to 0.0 in labels with no predicted samples. Use `zero_division` parameter to control this behavior.\n",
      "  _warn_prf(average, modifier, msg_start, len(result))\n"
     ]
    }
   ],
   "source": [
    "clf = MLPClassifier((2 , 300) , activation='relu' , solver='adam')\n",
    "clf.fit(x_train , y_train)\n",
    "pred_relu_PCA_2 = clf.predict(x_test)\n",
    "print(clf.score(x_train , y_train))\n",
    "print(classification_report(y_test , pred_relu_PCA_2))"
   ]
  },
  {
   "cell_type": "code",
   "execution_count": 76,
   "metadata": {},
   "outputs": [
    {
     "name": "stdout",
     "output_type": "stream",
     "text": [
      "0.25666666666666665\n",
      "              precision    recall  f1-score   support\n",
      "\n",
      "           0       0.23      1.00      0.37        46\n",
      "           1       0.00      0.00      0.00        49\n",
      "           2       0.00      0.00      0.00        47\n",
      "           3       0.00      0.00      0.00        58\n",
      "\n",
      "    accuracy                           0.23       200\n",
      "   macro avg       0.06      0.25      0.09       200\n",
      "weighted avg       0.05      0.23      0.09       200\n",
      "\n"
     ]
    },
    {
     "name": "stderr",
     "output_type": "stream",
     "text": [
      "/Users/ehsan_frtn/anaconda3/lib/python3.10/site-packages/sklearn/metrics/_classification.py:1344: UndefinedMetricWarning: Precision and F-score are ill-defined and being set to 0.0 in labels with no predicted samples. Use `zero_division` parameter to control this behavior.\n",
      "  _warn_prf(average, modifier, msg_start, len(result))\n",
      "/Users/ehsan_frtn/anaconda3/lib/python3.10/site-packages/sklearn/metrics/_classification.py:1344: UndefinedMetricWarning: Precision and F-score are ill-defined and being set to 0.0 in labels with no predicted samples. Use `zero_division` parameter to control this behavior.\n",
      "  _warn_prf(average, modifier, msg_start, len(result))\n",
      "/Users/ehsan_frtn/anaconda3/lib/python3.10/site-packages/sklearn/metrics/_classification.py:1344: UndefinedMetricWarning: Precision and F-score are ill-defined and being set to 0.0 in labels with no predicted samples. Use `zero_division` parameter to control this behavior.\n",
      "  _warn_prf(average, modifier, msg_start, len(result))\n"
     ]
    }
   ],
   "source": [
    "clf = MLPClassifier((3 , 300) , activation='relu' , solver='adam')\n",
    "clf.fit(x_train , y_train)\n",
    "pred_relu_PCA_2 = clf.predict(x_test)\n",
    "print(clf.score(x_train , y_train))\n",
    "print(classification_report(y_test , pred_relu_PCA_2))"
   ]
  },
  {
   "cell_type": "code",
   "execution_count": 79,
   "metadata": {},
   "outputs": [
    {
     "name": "stdout",
     "output_type": "stream",
     "text": [
      "0.47833333333333333\n",
      "              precision    recall  f1-score   support\n",
      "\n",
      "           0       0.47      0.39      0.43        46\n",
      "           1       0.36      0.76      0.48        49\n",
      "           2       0.62      0.77      0.69        47\n",
      "           3       0.00      0.00      0.00        58\n",
      "\n",
      "    accuracy                           0.46       200\n",
      "   macro avg       0.36      0.48      0.40       200\n",
      "weighted avg       0.34      0.46      0.38       200\n",
      "\n"
     ]
    },
    {
     "name": "stderr",
     "output_type": "stream",
     "text": [
      "/Users/ehsan_frtn/anaconda3/lib/python3.10/site-packages/sklearn/metrics/_classification.py:1344: UndefinedMetricWarning: Precision and F-score are ill-defined and being set to 0.0 in labels with no predicted samples. Use `zero_division` parameter to control this behavior.\n",
      "  _warn_prf(average, modifier, msg_start, len(result))\n",
      "/Users/ehsan_frtn/anaconda3/lib/python3.10/site-packages/sklearn/metrics/_classification.py:1344: UndefinedMetricWarning: Precision and F-score are ill-defined and being set to 0.0 in labels with no predicted samples. Use `zero_division` parameter to control this behavior.\n",
      "  _warn_prf(average, modifier, msg_start, len(result))\n",
      "/Users/ehsan_frtn/anaconda3/lib/python3.10/site-packages/sklearn/metrics/_classification.py:1344: UndefinedMetricWarning: Precision and F-score are ill-defined and being set to 0.0 in labels with no predicted samples. Use `zero_division` parameter to control this behavior.\n",
      "  _warn_prf(average, modifier, msg_start, len(result))\n"
     ]
    }
   ],
   "source": [
    "clf = MLPClassifier((4 , 300) , activation='relu' , solver='adam')\n",
    "clf.fit(x_train , y_train)\n",
    "pred_relu_PCA_2 = clf.predict(x_test)\n",
    "print(clf.score(x_train , y_train))\n",
    "print(classification_report(y_test , pred_relu_PCA_2))"
   ]
  },
  {
   "cell_type": "code",
   "execution_count": 81,
   "metadata": {},
   "outputs": [
    {
     "name": "stdout",
     "output_type": "stream",
     "text": [
      "0.3466666666666667\n",
      "              precision    recall  f1-score   support\n",
      "\n",
      "           0       0.20      0.24      0.22        46\n",
      "           1       0.37      1.00      0.54        49\n",
      "           2       0.30      0.06      0.11        47\n",
      "           3       0.00      0.00      0.00        58\n",
      "\n",
      "    accuracy                           0.32       200\n",
      "   macro avg       0.22      0.33      0.21       200\n",
      "weighted avg       0.21      0.32      0.21       200\n",
      "\n"
     ]
    },
    {
     "name": "stderr",
     "output_type": "stream",
     "text": [
      "/Users/ehsan_frtn/anaconda3/lib/python3.10/site-packages/sklearn/metrics/_classification.py:1344: UndefinedMetricWarning: Precision and F-score are ill-defined and being set to 0.0 in labels with no predicted samples. Use `zero_division` parameter to control this behavior.\n",
      "  _warn_prf(average, modifier, msg_start, len(result))\n",
      "/Users/ehsan_frtn/anaconda3/lib/python3.10/site-packages/sklearn/metrics/_classification.py:1344: UndefinedMetricWarning: Precision and F-score are ill-defined and being set to 0.0 in labels with no predicted samples. Use `zero_division` parameter to control this behavior.\n",
      "  _warn_prf(average, modifier, msg_start, len(result))\n",
      "/Users/ehsan_frtn/anaconda3/lib/python3.10/site-packages/sklearn/metrics/_classification.py:1344: UndefinedMetricWarning: Precision and F-score are ill-defined and being set to 0.0 in labels with no predicted samples. Use `zero_division` parameter to control this behavior.\n",
      "  _warn_prf(average, modifier, msg_start, len(result))\n"
     ]
    }
   ],
   "source": [
    "clf = MLPClassifier((5 , 300) , activation='relu' , solver='adam')\n",
    "clf.fit(x_train , y_train)\n",
    "pred_relu_PCA_2 = clf.predict(x_test)\n",
    "print(clf.score(x_train , y_train))\n",
    "print(classification_report(y_test , pred_relu_PCA_2))"
   ]
  },
  {
   "cell_type": "code",
   "execution_count": 94,
   "metadata": {},
   "outputs": [
    {
     "name": "stdout",
     "output_type": "stream",
     "text": [
      "0.4216666666666667\n",
      "              precision    recall  f1-score   support\n",
      "\n",
      "           0       0.43      0.43      0.43        46\n",
      "           1       0.33      0.57      0.42        49\n",
      "           2       0.52      0.77      0.62        47\n",
      "           3       0.00      0.00      0.00        58\n",
      "\n",
      "    accuracy                           0.42       200\n",
      "   macro avg       0.32      0.44      0.37       200\n",
      "weighted avg       0.30      0.42      0.35       200\n",
      "\n"
     ]
    },
    {
     "name": "stderr",
     "output_type": "stream",
     "text": [
      "/Users/ehsan_frtn/anaconda3/lib/python3.10/site-packages/sklearn/metrics/_classification.py:1344: UndefinedMetricWarning: Precision and F-score are ill-defined and being set to 0.0 in labels with no predicted samples. Use `zero_division` parameter to control this behavior.\n",
      "  _warn_prf(average, modifier, msg_start, len(result))\n",
      "/Users/ehsan_frtn/anaconda3/lib/python3.10/site-packages/sklearn/metrics/_classification.py:1344: UndefinedMetricWarning: Precision and F-score are ill-defined and being set to 0.0 in labels with no predicted samples. Use `zero_division` parameter to control this behavior.\n",
      "  _warn_prf(average, modifier, msg_start, len(result))\n",
      "/Users/ehsan_frtn/anaconda3/lib/python3.10/site-packages/sklearn/metrics/_classification.py:1344: UndefinedMetricWarning: Precision and F-score are ill-defined and being set to 0.0 in labels with no predicted samples. Use `zero_division` parameter to control this behavior.\n",
      "  _warn_prf(average, modifier, msg_start, len(result))\n"
     ]
    }
   ],
   "source": [
    "clf = MLPClassifier((6 , 300) , activation='relu' , solver='adam')\n",
    "clf.fit(x_train , y_train)\n",
    "pred_relu_PCA_2 = clf.predict(x_test)\n",
    "print(clf.score(x_train , y_train))\n",
    "print(classification_report(y_test , pred_relu_PCA_2))"
   ]
  },
  {
   "cell_type": "code",
   "execution_count": 95,
   "metadata": {},
   "outputs": [],
   "source": [
    "x_train , x_test , y_train , y_test = train_test_split(x_1 , Y , shuffle=True , random_state=1 )\n",
    "x_train = np.reshape(x_train , (len(x_train), -1))\n",
    "x_test = np.reshape(x_test , (len(x_test) , -1))"
   ]
  },
  {
   "cell_type": "code",
   "execution_count": 97,
   "metadata": {},
   "outputs": [
    {
     "name": "stdout",
     "output_type": "stream",
     "text": [
      "0.9183333333333333\n",
      "              precision    recall  f1-score   support\n",
      "\n",
      "           0       0.83      0.52      0.64        46\n",
      "           1       0.79      0.98      0.87        49\n",
      "           2       0.92      1.00      0.96        47\n",
      "           3       0.81      0.83      0.82        58\n",
      "\n",
      "    accuracy                           0.83       200\n",
      "   macro avg       0.84      0.83      0.82       200\n",
      "weighted avg       0.84      0.83      0.82       200\n",
      "\n"
     ]
    },
    {
     "name": "stderr",
     "output_type": "stream",
     "text": [
      "/Users/ehsan_frtn/anaconda3/lib/python3.10/site-packages/sklearn/neural_network/_multilayer_perceptron.py:684: ConvergenceWarning: Stochastic Optimizer: Maximum iterations (200) reached and the optimization hasn't converged yet.\n",
      "  warnings.warn(\n"
     ]
    }
   ],
   "source": [
    "clf = MLPClassifier((6 , 300) , activation='relu' , solver='adam')\n",
    "clf.fit(x_train , y_train)\n",
    "pred_relu_PCA_2 = clf.predict(x_test)\n",
    "print(clf.score(x_train , y_train))\n",
    "print(classification_report(y_test , pred_relu_PCA_2))"
   ]
  },
  {
   "cell_type": "markdown",
   "metadata": {},
   "source": [
    "## Random Forest classifier"
   ]
  },
  {
   "cell_type": "markdown",
   "metadata": {},
   "source": [
    "### ON PCA data"
   ]
  },
  {
   "cell_type": "code",
   "execution_count": 98,
   "metadata": {},
   "outputs": [],
   "source": [
    "from sklearn.ensemble import RandomForestClassifier"
   ]
  },
  {
   "cell_type": "code",
   "execution_count": 99,
   "metadata": {},
   "outputs": [
    {
     "name": "stdout",
     "output_type": "stream",
     "text": [
      "0.5133333333333333\n",
      "              precision    recall  f1-score   support\n",
      "\n",
      "           0       0.50      0.02      0.04        46\n",
      "           1       0.49      0.94      0.64        49\n",
      "           2       0.49      0.98      0.65        47\n",
      "           3       0.90      0.16      0.26        58\n",
      "\n",
      "    accuracy                           0.51       200\n",
      "   macro avg       0.59      0.52      0.40       200\n",
      "weighted avg       0.61      0.51      0.40       200\n",
      "\n",
      "0.5716666666666667\n",
      "              precision    recall  f1-score   support\n",
      "\n",
      "           0       0.57      0.09      0.15        46\n",
      "           1       0.49      0.96      0.65        49\n",
      "           2       0.57      0.98      0.72        47\n",
      "           3       0.72      0.22      0.34        58\n",
      "\n",
      "    accuracy                           0.55       200\n",
      "   macro avg       0.59      0.56      0.47       200\n",
      "weighted avg       0.60      0.55      0.46       200\n",
      "\n",
      "0.5333333333333333\n",
      "              precision    recall  f1-score   support\n",
      "\n",
      "           0       0.50      0.07      0.12        46\n",
      "           1       0.50      0.96      0.66        49\n",
      "           2       0.52      0.98      0.68        47\n",
      "           3       1.00      0.21      0.34        58\n",
      "\n",
      "    accuracy                           0.54       200\n",
      "   macro avg       0.63      0.55      0.45       200\n",
      "weighted avg       0.65      0.54      0.45       200\n",
      "\n"
     ]
    }
   ],
   "source": [
    "clf = RandomForestClassifier(max_depth=1 , criterion='entropy')\n",
    "clf.fit(x_train , y_train)\n",
    "pred = clf.predict(x_test)\n",
    "print(clf.score(x_train , y_train))\n",
    "print(classification_report(y_test , pred))\n",
    "\n",
    "clf = RandomForestClassifier(max_depth=1 , criterion='gini')\n",
    "clf.fit(x_train , y_train)\n",
    "pred = clf.predict(x_test)\n",
    "print(clf.score(x_train , y_train))\n",
    "print(classification_report(y_test , pred))\n",
    "\n",
    "clf = RandomForestClassifier(max_depth=1 , criterion='log_loss')\n",
    "clf.fit(x_train , y_train)\n",
    "pred = clf.predict(x_test)\n",
    "print(clf.score(x_train , y_train))\n",
    "print(classification_report(y_test , pred))"
   ]
  },
  {
   "cell_type": "code",
   "execution_count": 100,
   "metadata": {},
   "outputs": [
    {
     "name": "stdout",
     "output_type": "stream",
     "text": [
      "0.675\n",
      "              precision    recall  f1-score   support\n",
      "\n",
      "           0       0.63      0.26      0.37        46\n",
      "           1       0.64      1.00      0.78        49\n",
      "           2       0.64      0.98      0.77        47\n",
      "           3       0.94      0.52      0.67        58\n",
      "\n",
      "    accuracy                           0.69       200\n",
      "   macro avg       0.71      0.69      0.65       200\n",
      "weighted avg       0.72      0.69      0.65       200\n",
      "\n",
      "0.6983333333333334\n",
      "              precision    recall  f1-score   support\n",
      "\n",
      "           0       0.78      0.15      0.25        46\n",
      "           1       0.68      1.00      0.81        49\n",
      "           2       0.63      0.96      0.76        47\n",
      "           3       0.79      0.66      0.72        58\n",
      "\n",
      "    accuracy                           0.69       200\n",
      "   macro avg       0.72      0.69      0.64       200\n",
      "weighted avg       0.72      0.69      0.64       200\n",
      "\n",
      "0.68\n",
      "              precision    recall  f1-score   support\n",
      "\n",
      "           0       0.68      0.28      0.40        46\n",
      "           1       0.59      0.98      0.74        49\n",
      "           2       0.65      0.98      0.78        47\n",
      "           3       0.93      0.47      0.62        58\n",
      "\n",
      "    accuracy                           0.67       200\n",
      "   macro avg       0.71      0.68      0.63       200\n",
      "weighted avg       0.72      0.67      0.64       200\n",
      "\n"
     ]
    }
   ],
   "source": [
    "clf = RandomForestClassifier(max_depth=2 , criterion='entropy')\n",
    "clf.fit(x_train , y_train)\n",
    "pred = clf.predict(x_test)\n",
    "print(clf.score(x_train , y_train))\n",
    "print(classification_report(y_test , pred))\n",
    "\n",
    "clf = RandomForestClassifier(max_depth=2 , criterion='gini')\n",
    "clf.fit(x_train , y_train)\n",
    "pred = clf.predict(x_test)\n",
    "print(clf.score(x_train , y_train))\n",
    "print(classification_report(y_test , pred))\n",
    "\n",
    "clf = RandomForestClassifier(max_depth=2 , criterion='log_loss')\n",
    "clf.fit(x_train , y_train)\n",
    "pred = clf.predict(x_test)\n",
    "print(clf.score(x_train , y_train))\n",
    "print(classification_report(y_test , pred))"
   ]
  },
  {
   "cell_type": "code",
   "execution_count": 101,
   "metadata": {},
   "outputs": [
    {
     "name": "stdout",
     "output_type": "stream",
     "text": [
      "0.8116666666666666\n",
      "              precision    recall  f1-score   support\n",
      "\n",
      "           0       0.79      0.67      0.73        46\n",
      "           1       0.77      0.98      0.86        49\n",
      "           2       0.79      0.98      0.88        47\n",
      "           3       0.90      0.64      0.75        58\n",
      "\n",
      "    accuracy                           0.81       200\n",
      "   macro avg       0.82      0.82      0.80       200\n",
      "weighted avg       0.82      0.81      0.80       200\n",
      "\n",
      "0.8133333333333334\n",
      "              precision    recall  f1-score   support\n",
      "\n",
      "           0       0.72      0.46      0.56        46\n",
      "           1       0.79      0.98      0.87        49\n",
      "           2       0.75      0.96      0.84        47\n",
      "           3       0.84      0.72      0.78        58\n",
      "\n",
      "    accuracy                           0.78       200\n",
      "   macro avg       0.78      0.78      0.76       200\n",
      "weighted avg       0.78      0.78      0.77       200\n",
      "\n",
      "0.7966666666666666\n",
      "              precision    recall  f1-score   support\n",
      "\n",
      "           0       0.71      0.54      0.62        46\n",
      "           1       0.73      1.00      0.84        49\n",
      "           2       0.79      0.96      0.87        47\n",
      "           3       0.95      0.67      0.79        58\n",
      "\n",
      "    accuracy                           0.79       200\n",
      "   macro avg       0.80      0.79      0.78       200\n",
      "weighted avg       0.80      0.79      0.78       200\n",
      "\n"
     ]
    }
   ],
   "source": [
    "clf = RandomForestClassifier(max_depth=3 , criterion='entropy')\n",
    "clf.fit(x_train , y_train)\n",
    "pred = clf.predict(x_test)\n",
    "print(clf.score(x_train , y_train))\n",
    "print(classification_report(y_test , pred))\n",
    "\n",
    "clf = RandomForestClassifier(max_depth=3 , criterion='gini')\n",
    "clf.fit(x_train , y_train)\n",
    "pred = clf.predict(x_test)\n",
    "print(clf.score(x_train , y_train))\n",
    "print(classification_report(y_test , pred))\n",
    "\n",
    "clf = RandomForestClassifier(max_depth=3 , criterion='log_loss')\n",
    "clf.fit(x_train , y_train)\n",
    "pred = clf.predict(x_test)\n",
    "print(clf.score(x_train , y_train))\n",
    "print(classification_report(y_test , pred))"
   ]
  },
  {
   "cell_type": "code",
   "execution_count": 102,
   "metadata": {},
   "outputs": [
    {
     "name": "stdout",
     "output_type": "stream",
     "text": [
      "0.8116666666666666\n",
      "              precision    recall  f1-score   support\n",
      "\n",
      "           0       0.75      0.52      0.62        46\n",
      "           1       0.77      0.96      0.85        49\n",
      "           2       0.73      0.98      0.84        47\n",
      "           3       0.89      0.67      0.76        58\n",
      "\n",
      "    accuracy                           0.78       200\n",
      "   macro avg       0.78      0.78      0.77       200\n",
      "weighted avg       0.79      0.78      0.77       200\n",
      "\n",
      "0.79\n",
      "              precision    recall  f1-score   support\n",
      "\n",
      "           0       0.76      0.48      0.59        46\n",
      "           1       0.76      0.98      0.86        49\n",
      "           2       0.78      0.96      0.86        47\n",
      "           3       0.82      0.71      0.76        58\n",
      "\n",
      "    accuracy                           0.78       200\n",
      "   macro avg       0.78      0.78      0.77       200\n",
      "weighted avg       0.78      0.78      0.77       200\n",
      "\n",
      "0.8083333333333333\n",
      "              precision    recall  f1-score   support\n",
      "\n",
      "           0       0.75      0.59      0.66        46\n",
      "           1       0.83      0.98      0.90        49\n",
      "           2       0.75      0.98      0.85        47\n",
      "           3       0.96      0.74      0.83        58\n",
      "\n",
      "    accuracy                           0.82       200\n",
      "   macro avg       0.82      0.82      0.81       200\n",
      "weighted avg       0.83      0.82      0.81       200\n",
      "\n"
     ]
    }
   ],
   "source": [
    "clf = RandomForestClassifier(max_depth=3 , criterion='entropy')\n",
    "clf.fit(x_train , y_train)\n",
    "pred = clf.predict(x_test)\n",
    "print(clf.score(x_train , y_train))\n",
    "print(classification_report(y_test , pred))\n",
    "\n",
    "clf = RandomForestClassifier(max_depth=3 , criterion='gini')\n",
    "clf.fit(x_train , y_train)\n",
    "pred = clf.predict(x_test)\n",
    "print(clf.score(x_train , y_train))\n",
    "print(classification_report(y_test , pred))\n",
    "\n",
    "clf = RandomForestClassifier(max_depth=3 , criterion='log_loss')\n",
    "clf.fit(x_train , y_train)\n",
    "pred = clf.predict(x_test)\n",
    "print(clf.score(x_train , y_train))\n",
    "print(classification_report(y_test , pred))"
   ]
  },
  {
   "cell_type": "code",
   "execution_count": 103,
   "metadata": {},
   "outputs": [
    {
     "name": "stdout",
     "output_type": "stream",
     "text": [
      "0.45166666666666666\n",
      "              precision    recall  f1-score   support\n",
      "\n",
      "           0       0.42      0.11      0.17        46\n",
      "           1       0.62      0.51      0.56        49\n",
      "           2       0.39      1.00      0.56        47\n",
      "           3       0.70      0.33      0.45        58\n",
      "\n",
      "    accuracy                           0.48       200\n",
      "   macro avg       0.53      0.49      0.44       200\n",
      "weighted avg       0.54      0.48      0.44       200\n",
      "\n"
     ]
    }
   ],
   "source": [
    "from sklearn.naive_bayes import CategoricalNB\n",
    "\n",
    "clf = CategoricalNB()\n",
    "clf.fit(x_train , y_train)\n",
    "print(clf.score(x_train , y_train))\n",
    "pred = clf.predict(x_test)\n",
    "print(classification_report(y_test , pred))"
   ]
  },
  {
   "cell_type": "code",
   "execution_count": 104,
   "metadata": {},
   "outputs": [
    {
     "name": "stdout",
     "output_type": "stream",
     "text": [
      "0.7883333333333333\n",
      "              precision    recall  f1-score   support\n",
      "\n",
      "           0       0.33      0.30      0.32        46\n",
      "           1       0.57      0.59      0.58        49\n",
      "           2       0.46      0.55      0.50        47\n",
      "           3       0.57      0.50      0.53        58\n",
      "\n",
      "    accuracy                           0.49       200\n",
      "   macro avg       0.48      0.49      0.48       200\n",
      "weighted avg       0.49      0.49      0.49       200\n",
      "\n"
     ]
    }
   ],
   "source": [
    "from sklearn.discriminant_analysis import LinearDiscriminantAnalysis\n",
    "#from sklearn.metrics import accuracy_score , classification_report , ConfusionMatrixDisplay\n",
    "clf = LinearDiscriminantAnalysis('svd')\n",
    "clf.fit(x_train , y_train)\n",
    "print(clf.score(x_train , y_train))\n",
    "pred = clf.predict(x_test)\n",
    "print(classification_report(y_test , pred))"
   ]
  },
  {
   "cell_type": "code",
   "execution_count": 105,
   "metadata": {},
   "outputs": [
    {
     "name": "stdout",
     "output_type": "stream",
     "text": [
      "0.8866666666666667\n",
      "              precision    recall  f1-score   support\n",
      "\n",
      "           0       0.91      0.67      0.78        46\n",
      "           1       0.83      0.92      0.87        49\n",
      "           2       0.88      0.98      0.93        47\n",
      "           3       0.85      0.88      0.86        58\n",
      "\n",
      "    accuracy                           0.86       200\n",
      "   macro avg       0.87      0.86      0.86       200\n",
      "weighted avg       0.87      0.86      0.86       200\n",
      "\n"
     ]
    }
   ],
   "source": [
    "clf = LinearDiscriminantAnalysis('lsqr')\n",
    "clf.fit(x_train , y_train)\n",
    "print(clf.score(x_train , y_train))\n",
    "pred = clf.predict(x_test)\n",
    "print(classification_report(y_test , pred))"
   ]
  },
  {
   "cell_type": "code",
   "execution_count": null,
   "metadata": {},
   "outputs": [],
   "source": []
  }
 ],
 "metadata": {
  "kernelspec": {
   "display_name": "base",
   "language": "python",
   "name": "python3"
  },
  "language_info": {
   "codemirror_mode": {
    "name": "ipython",
    "version": 3
   },
   "file_extension": ".py",
   "mimetype": "text/x-python",
   "name": "python",
   "nbconvert_exporter": "python",
   "pygments_lexer": "ipython3",
   "version": "3.10.9"
  },
  "orig_nbformat": 4
 },
 "nbformat": 4,
 "nbformat_minor": 2
}
